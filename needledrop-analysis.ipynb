{
 "cells": [
  {
   "cell_type": "code",
   "execution_count": 55,
   "metadata": {
    "collapsed": true
   },
   "outputs": [],
   "source": [
    "import pandas as pd\n",
    "import numpy as np\n",
    "import matplotlib.pyplot as plt\n",
    "from sklearn import datasets, linear_model\n",
    "%matplotlib inline"
   ]
  },
  {
   "cell_type": "code",
   "execution_count": 13,
   "metadata": {
    "collapsed": true
   },
   "outputs": [],
   "source": [
    "df = pd.read_csv('~/needledrop/raw-data.csv')"
   ]
  },
  {
   "cell_type": "code",
   "execution_count": null,
   "metadata": {
    "collapsed": true
   },
   "outputs": [],
   "source": [
    "#plot likes, comments,dislikes, favorites, views, over time\n",
    "#look at distribution of duration, ratings, genre year over year\n",
    "#fix ratings info\n",
    "\n",
    "#regression model, rating ~ likes + views + favorites + duration + genre\n",
    "#ordered logit model, rating_bucket ~ ...\n",
    "#decision trees, rating_bucket ~ ...\n",
    "#svm, rating_bucket ~ ...\n",
    "#time series, likes/views of video"
   ]
  },
  {
   "cell_type": "markdown",
   "metadata": {},
   "source": [
    "# Preliminary"
   ]
  },
  {
   "cell_type": "code",
   "execution_count": 9,
   "metadata": {
    "collapsed": true
   },
   "outputs": [
    {
     "data": {
      "text/html": [
       "<div>\n",
       "<table border=\"1\" class=\"dataframe\">\n",
       "  <thead>\n",
       "    <tr style=\"text-align: right;\">\n",
       "      <th></th>\n",
       "      <th>altitude</th>\n",
       "      <th>comments</th>\n",
       "      <th>definition</th>\n",
       "      <th>description</th>\n",
       "      <th>dislikes</th>\n",
       "      <th>duration</th>\n",
       "      <th>favorites</th>\n",
       "      <th>id</th>\n",
       "      <th>latitude</th>\n",
       "      <th>likes</th>\n",
       "      <th>live_broadcast</th>\n",
       "      <th>longitude</th>\n",
       "      <th>published_at</th>\n",
       "      <th>tags</th>\n",
       "      <th>thumbnail</th>\n",
       "      <th>title</th>\n",
       "      <th>views</th>\n",
       "      <th>rating</th>\n",
       "    </tr>\n",
       "  </thead>\n",
       "  <tbody>\n",
       "    <tr>\n",
       "      <th>0</th>\n",
       "      <td>0.0</td>\n",
       "      <td>4973</td>\n",
       "      <td>sd</td>\n",
       "      <td>I defend myself against a recent hitjob in The...</td>\n",
       "      <td>614.0</td>\n",
       "      <td>PT21M30S</td>\n",
       "      <td>0</td>\n",
       "      <td>2UZqIIy7pAk</td>\n",
       "      <td>41.603222</td>\n",
       "      <td>35361.0</td>\n",
       "      <td>none</td>\n",
       "      <td>-73.087753</td>\n",
       "      <td>2017-10-07T00:22:24.000Z</td>\n",
       "      <td>['album', 'review', 'music', 'reviews', 'indie...</td>\n",
       "      <td>https://i.ytimg.com/vi/2UZqIIy7pAk/sddefault.jpg</td>\n",
       "      <td>The Fader Response</td>\n",
       "      <td>349152.0</td>\n",
       "      <td>None</td>\n",
       "    </tr>\n",
       "    <tr>\n",
       "      <th>1</th>\n",
       "      <td>0.0</td>\n",
       "      <td>976</td>\n",
       "      <td>hd</td>\n",
       "      <td>Listen: https://www.youtube.com/watch?v=6m5du_...</td>\n",
       "      <td>59.0</td>\n",
       "      <td>PT6M8S</td>\n",
       "      <td>0</td>\n",
       "      <td>datrlt_DGLs</td>\n",
       "      <td>41.603222</td>\n",
       "      <td>2261.0</td>\n",
       "      <td>none</td>\n",
       "      <td>-73.087753</td>\n",
       "      <td>2017-10-05T21:42:35.000Z</td>\n",
       "      <td>['album', 'review', 'music', 'reviews', 'indie...</td>\n",
       "      <td>https://i.ytimg.com/vi/datrlt_DGLs/sddefault.jpg</td>\n",
       "      <td>Iglooghost - Neō Wax Bloom ALBUM REVIEW</td>\n",
       "      <td>64350.0</td>\n",
       "      <td>8</td>\n",
       "    </tr>\n",
       "    <tr>\n",
       "      <th>2</th>\n",
       "      <td>0.0</td>\n",
       "      <td>920</td>\n",
       "      <td>hd</td>\n",
       "      <td>Young Thug &amp; Carnage - Young Martha EP\\nReview...</td>\n",
       "      <td>125.0</td>\n",
       "      <td>PT7M13S</td>\n",
       "      <td>0</td>\n",
       "      <td>uOJW7JwgA6Q</td>\n",
       "      <td>41.603222</td>\n",
       "      <td>2347.0</td>\n",
       "      <td>none</td>\n",
       "      <td>-73.087753</td>\n",
       "      <td>2017-10-04T17:18:48.000Z</td>\n",
       "      <td>['album', 'review', 'music', 'reviews', 'indie...</td>\n",
       "      <td>https://i.ytimg.com/vi/uOJW7JwgA6Q/sddefault.jpg</td>\n",
       "      <td>GREAT ALBUMS: September 2017</td>\n",
       "      <td>106889.0</td>\n",
       "      <td>None</td>\n",
       "    </tr>\n",
       "    <tr>\n",
       "      <th>3</th>\n",
       "      <td>0.0</td>\n",
       "      <td>1344</td>\n",
       "      <td>hd</td>\n",
       "      <td>Listen: https://www.youtube.com/watch?v=OL9b_U...</td>\n",
       "      <td>265.0</td>\n",
       "      <td>PT8M11S</td>\n",
       "      <td>0</td>\n",
       "      <td>Uxmi5AcAFgg</td>\n",
       "      <td>41.603222</td>\n",
       "      <td>4119.0</td>\n",
       "      <td>none</td>\n",
       "      <td>-73.087753</td>\n",
       "      <td>2017-10-03T21:15:24.000Z</td>\n",
       "      <td>['album', 'review', 'music', 'reviews', 'indie...</td>\n",
       "      <td>https://i.ytimg.com/vi/Uxmi5AcAFgg/sddefault.jpg</td>\n",
       "      <td>Smokepurpp - Deadstar MIXTAPE REVIEW</td>\n",
       "      <td>140049.0</td>\n",
       "      <td>6</td>\n",
       "    </tr>\n",
       "    <tr>\n",
       "      <th>4</th>\n",
       "      <td>0.0</td>\n",
       "      <td>853</td>\n",
       "      <td>hd</td>\n",
       "      <td>Listen: http://www.theneedledrop.com/articles/...</td>\n",
       "      <td>74.0</td>\n",
       "      <td>PT6M27S</td>\n",
       "      <td>0</td>\n",
       "      <td>lI6-C7dwz9k</td>\n",
       "      <td>41.603222</td>\n",
       "      <td>2069.0</td>\n",
       "      <td>none</td>\n",
       "      <td>-73.087753</td>\n",
       "      <td>2017-10-03T16:26:21.000Z</td>\n",
       "      <td>['album', 'review', 'music', 'reviews', 'indie...</td>\n",
       "      <td>https://i.ytimg.com/vi/lI6-C7dwz9k/sddefault.jpg</td>\n",
       "      <td>Injury Reserve - Drive It Like It's Stolen EP ...</td>\n",
       "      <td>86882.0</td>\n",
       "      <td>7</td>\n",
       "    </tr>\n",
       "  </tbody>\n",
       "</table>\n",
       "</div>"
      ],
      "text/plain": [
       "   altitude  comments definition  \\\n",
       "0       0.0      4973         sd   \n",
       "1       0.0       976         hd   \n",
       "2       0.0       920         hd   \n",
       "3       0.0      1344         hd   \n",
       "4       0.0       853         hd   \n",
       "\n",
       "                                         description  dislikes  duration  \\\n",
       "0  I defend myself against a recent hitjob in The...     614.0  PT21M30S   \n",
       "1  Listen: https://www.youtube.com/watch?v=6m5du_...      59.0    PT6M8S   \n",
       "2  Young Thug & Carnage - Young Martha EP\\nReview...     125.0   PT7M13S   \n",
       "3  Listen: https://www.youtube.com/watch?v=OL9b_U...     265.0   PT8M11S   \n",
       "4  Listen: http://www.theneedledrop.com/articles/...      74.0   PT6M27S   \n",
       "\n",
       "   favorites           id   latitude    likes live_broadcast  longitude  \\\n",
       "0          0  2UZqIIy7pAk  41.603222  35361.0           none -73.087753   \n",
       "1          0  datrlt_DGLs  41.603222   2261.0           none -73.087753   \n",
       "2          0  uOJW7JwgA6Q  41.603222   2347.0           none -73.087753   \n",
       "3          0  Uxmi5AcAFgg  41.603222   4119.0           none -73.087753   \n",
       "4          0  lI6-C7dwz9k  41.603222   2069.0           none -73.087753   \n",
       "\n",
       "               published_at  \\\n",
       "0  2017-10-07T00:22:24.000Z   \n",
       "1  2017-10-05T21:42:35.000Z   \n",
       "2  2017-10-04T17:18:48.000Z   \n",
       "3  2017-10-03T21:15:24.000Z   \n",
       "4  2017-10-03T16:26:21.000Z   \n",
       "\n",
       "                                                tags  \\\n",
       "0  ['album', 'review', 'music', 'reviews', 'indie...   \n",
       "1  ['album', 'review', 'music', 'reviews', 'indie...   \n",
       "2  ['album', 'review', 'music', 'reviews', 'indie...   \n",
       "3  ['album', 'review', 'music', 'reviews', 'indie...   \n",
       "4  ['album', 'review', 'music', 'reviews', 'indie...   \n",
       "\n",
       "                                          thumbnail  \\\n",
       "0  https://i.ytimg.com/vi/2UZqIIy7pAk/sddefault.jpg   \n",
       "1  https://i.ytimg.com/vi/datrlt_DGLs/sddefault.jpg   \n",
       "2  https://i.ytimg.com/vi/uOJW7JwgA6Q/sddefault.jpg   \n",
       "3  https://i.ytimg.com/vi/Uxmi5AcAFgg/sddefault.jpg   \n",
       "4  https://i.ytimg.com/vi/lI6-C7dwz9k/sddefault.jpg   \n",
       "\n",
       "                                               title     views rating  \n",
       "0                                 The Fader Response  349152.0   None  \n",
       "1            Iglooghost - Neō Wax Bloom ALBUM REVIEW   64350.0      8  \n",
       "2                       GREAT ALBUMS: September 2017  106889.0   None  \n",
       "3               Smokepurpp - Deadstar MIXTAPE REVIEW  140049.0      6  \n",
       "4  Injury Reserve - Drive It Like It's Stolen EP ...   86882.0      7  "
      ]
     },
     "execution_count": 9,
     "metadata": {},
     "output_type": "execute_result"
    }
   ],
   "source": [
    "df.head()"
   ]
  },
  {
   "cell_type": "code",
   "execution_count": 4,
   "metadata": {
    "collapsed": true
   },
   "outputs": [
    {
     "name": "stdout",
     "output_type": "stream",
     "text": [
      "<class 'pandas.core.frame.DataFrame'>\n",
      "RangeIndex: 2424 entries, 0 to 2423\n",
      "Data columns (total 17 columns):\n",
      "altitude          1388 non-null float64\n",
      "comments          2424 non-null int64\n",
      "definition        2424 non-null object\n",
      "description       2424 non-null object\n",
      "dislikes          2423 non-null float64\n",
      "duration          2424 non-null object\n",
      "favorites         2424 non-null int64\n",
      "id                2424 non-null object\n",
      "latitude          1388 non-null float64\n",
      "likes             2423 non-null float64\n",
      "live_broadcast    2424 non-null object\n",
      "longitude         1388 non-null float64\n",
      "published_at      2424 non-null object\n",
      "tags              2424 non-null object\n",
      "thumbnail         2424 non-null object\n",
      "title             2424 non-null object\n",
      "views             2415 non-null float64\n",
      "dtypes: float64(6), int64(2), object(9)\n",
      "memory usage: 322.0+ KB\n"
     ]
    },
    {
     "data": {
      "text/plain": [
       "altitude          float64\n",
       "comments            int64\n",
       "definition         object\n",
       "description        object\n",
       "dislikes          float64\n",
       "duration           object\n",
       "favorites           int64\n",
       "id                 object\n",
       "latitude          float64\n",
       "likes             float64\n",
       "live_broadcast     object\n",
       "longitude         float64\n",
       "published_at       object\n",
       "tags               object\n",
       "thumbnail          object\n",
       "title              object\n",
       "views             float64\n",
       "dtype: object"
      ]
     },
     "execution_count": 4,
     "metadata": {},
     "output_type": "execute_result"
    }
   ],
   "source": [
    "df.info()\n",
    "df.dtypes"
   ]
  },
  {
   "cell_type": "code",
   "execution_count": 20,
   "metadata": {
    "collapsed": true
   },
   "outputs": [
    {
     "name": "stderr",
     "output_type": "stream",
     "text": [
      "/usr/local/lib/python3.5/site-packages/numpy/lib/function_base.py:3834: RuntimeWarning: Invalid value encountered in percentile\n",
      "  RuntimeWarning)\n"
     ]
    },
    {
     "data": {
      "text/html": [
       "<div>\n",
       "<table border=\"1\" class=\"dataframe\">\n",
       "  <thead>\n",
       "    <tr style=\"text-align: right;\">\n",
       "      <th></th>\n",
       "      <th>altitude</th>\n",
       "      <th>comments</th>\n",
       "      <th>dislikes</th>\n",
       "      <th>favorites</th>\n",
       "      <th>latitude</th>\n",
       "      <th>likes</th>\n",
       "      <th>longitude</th>\n",
       "      <th>views</th>\n",
       "      <th>rating</th>\n",
       "    </tr>\n",
       "  </thead>\n",
       "  <tbody>\n",
       "    <tr>\n",
       "      <th>count</th>\n",
       "      <td>1388.0</td>\n",
       "      <td>2424.000000</td>\n",
       "      <td>2423.000000</td>\n",
       "      <td>2424.0</td>\n",
       "      <td>1.388000e+03</td>\n",
       "      <td>2423.000000</td>\n",
       "      <td>1.388000e+03</td>\n",
       "      <td>2.415000e+03</td>\n",
       "      <td>1625.000000</td>\n",
       "    </tr>\n",
       "    <tr>\n",
       "      <th>mean</th>\n",
       "      <td>0.0</td>\n",
       "      <td>739.205446</td>\n",
       "      <td>232.591003</td>\n",
       "      <td>0.0</td>\n",
       "      <td>4.160322e+01</td>\n",
       "      <td>1881.983079</td>\n",
       "      <td>-7.308775e+01</td>\n",
       "      <td>1.096905e+05</td>\n",
       "      <td>6.352000</td>\n",
       "    </tr>\n",
       "    <tr>\n",
       "      <th>std</th>\n",
       "      <td>0.0</td>\n",
       "      <td>1087.556486</td>\n",
       "      <td>822.201271</td>\n",
       "      <td>0.0</td>\n",
       "      <td>1.341629e-07</td>\n",
       "      <td>3537.984524</td>\n",
       "      <td>2.335538e-07</td>\n",
       "      <td>1.582760e+05</td>\n",
       "      <td>1.573068</td>\n",
       "    </tr>\n",
       "    <tr>\n",
       "      <th>min</th>\n",
       "      <td>0.0</td>\n",
       "      <td>0.000000</td>\n",
       "      <td>0.000000</td>\n",
       "      <td>0.0</td>\n",
       "      <td>4.160322e+01</td>\n",
       "      <td>33.000000</td>\n",
       "      <td>-7.308775e+01</td>\n",
       "      <td>3.109000e+03</td>\n",
       "      <td>1.000000</td>\n",
       "    </tr>\n",
       "    <tr>\n",
       "      <th>25%</th>\n",
       "      <td>NaN</td>\n",
       "      <td>228.000000</td>\n",
       "      <td>NaN</td>\n",
       "      <td>0.0</td>\n",
       "      <td>NaN</td>\n",
       "      <td>NaN</td>\n",
       "      <td>NaN</td>\n",
       "      <td>NaN</td>\n",
       "      <td>NaN</td>\n",
       "    </tr>\n",
       "    <tr>\n",
       "      <th>50%</th>\n",
       "      <td>NaN</td>\n",
       "      <td>412.000000</td>\n",
       "      <td>NaN</td>\n",
       "      <td>0.0</td>\n",
       "      <td>NaN</td>\n",
       "      <td>NaN</td>\n",
       "      <td>NaN</td>\n",
       "      <td>NaN</td>\n",
       "      <td>NaN</td>\n",
       "    </tr>\n",
       "    <tr>\n",
       "      <th>75%</th>\n",
       "      <td>NaN</td>\n",
       "      <td>804.250000</td>\n",
       "      <td>NaN</td>\n",
       "      <td>0.0</td>\n",
       "      <td>NaN</td>\n",
       "      <td>NaN</td>\n",
       "      <td>NaN</td>\n",
       "      <td>NaN</td>\n",
       "      <td>NaN</td>\n",
       "    </tr>\n",
       "    <tr>\n",
       "      <th>max</th>\n",
       "      <td>0.0</td>\n",
       "      <td>15588.000000</td>\n",
       "      <td>17720.000000</td>\n",
       "      <td>0.0</td>\n",
       "      <td>4.160322e+01</td>\n",
       "      <td>47392.000000</td>\n",
       "      <td>-7.308775e+01</td>\n",
       "      <td>2.431775e+06</td>\n",
       "      <td>10.000000</td>\n",
       "    </tr>\n",
       "  </tbody>\n",
       "</table>\n",
       "</div>"
      ],
      "text/plain": [
       "       altitude      comments      dislikes  favorites      latitude  \\\n",
       "count    1388.0   2424.000000   2423.000000     2424.0  1.388000e+03   \n",
       "mean        0.0    739.205446    232.591003        0.0  4.160322e+01   \n",
       "std         0.0   1087.556486    822.201271        0.0  1.341629e-07   \n",
       "min         0.0      0.000000      0.000000        0.0  4.160322e+01   \n",
       "25%         NaN    228.000000           NaN        0.0           NaN   \n",
       "50%         NaN    412.000000           NaN        0.0           NaN   \n",
       "75%         NaN    804.250000           NaN        0.0           NaN   \n",
       "max         0.0  15588.000000  17720.000000        0.0  4.160322e+01   \n",
       "\n",
       "              likes     longitude         views       rating  \n",
       "count   2423.000000  1.388000e+03  2.415000e+03  1625.000000  \n",
       "mean    1881.983079 -7.308775e+01  1.096905e+05     6.352000  \n",
       "std     3537.984524  2.335538e-07  1.582760e+05     1.573068  \n",
       "min       33.000000 -7.308775e+01  3.109000e+03     1.000000  \n",
       "25%             NaN           NaN           NaN          NaN  \n",
       "50%             NaN           NaN           NaN          NaN  \n",
       "75%             NaN           NaN           NaN          NaN  \n",
       "max    47392.000000 -7.308775e+01  2.431775e+06    10.000000  "
      ]
     },
     "execution_count": 20,
     "metadata": {},
     "output_type": "execute_result"
    }
   ],
   "source": [
    "df.describe()"
   ]
  },
  {
   "cell_type": "code",
   "execution_count": 34,
   "metadata": {
    "collapsed": true
   },
   "outputs": [
    {
     "data": {
      "text/plain": [
       "altitude          1036\n",
       "comments             0\n",
       "definition           0\n",
       "description          0\n",
       "dislikes             1\n",
       "duration             0\n",
       "favorites            0\n",
       "id                   0\n",
       "latitude          1036\n",
       "likes                1\n",
       "live_broadcast       0\n",
       "longitude         1036\n",
       "published_at         0\n",
       "tags                 0\n",
       "thumbnail            0\n",
       "title                0\n",
       "views                9\n",
       "rating             799\n",
       "album              514\n",
       "artist               0\n",
       "dtype: int64"
      ]
     },
     "execution_count": 34,
     "metadata": {},
     "output_type": "execute_result"
    }
   ],
   "source": [
    "df.isnull().sum()"
   ]
  },
  {
   "cell_type": "code",
   "execution_count": 17,
   "metadata": {
    "collapsed": true
   },
   "outputs": [],
   "source": [
    "df['description'] = df['description'].astype('str')"
   ]
  },
  {
   "cell_type": "markdown",
   "metadata": {
    "collapsed": true
   },
   "source": [
    "# Processing"
   ]
  },
  {
   "cell_type": "code",
   "execution_count": 14,
   "metadata": {
    "collapsed": true
   },
   "outputs": [
    {
     "name": "stderr",
     "output_type": "stream",
     "text": [
      "/usr/local/lib/python3.5/site-packages/ipykernel/__main__.py:3: SettingWithCopyWarning: \n",
      "A value is trying to be set on a copy of a slice from a DataFrame\n",
      "\n",
      "See the caveats in the documentation: http://pandas.pydata.org/pandas-docs/stable/indexing.html#indexing-view-versus-copy\n",
      "  app.launch_new_instance()\n",
      "/usr/local/lib/python3.5/site-packages/ipykernel/__main__.py:4: SettingWithCopyWarning: \n",
      "A value is trying to be set on a copy of a slice from a DataFrame\n",
      "\n",
      "See the caveats in the documentation: http://pandas.pydata.org/pandas-docs/stable/indexing.html#indexing-view-versus-copy\n",
      "/usr/local/lib/python3.5/site-packages/ipykernel/__main__.py:5: SettingWithCopyWarning: \n",
      "A value is trying to be set on a copy of a slice from a DataFrame\n",
      "\n",
      "See the caveats in the documentation: http://pandas.pydata.org/pandas-docs/stable/indexing.html#indexing-view-versus-copy\n",
      "/usr/local/lib/python3.5/site-packages/ipykernel/__main__.py:6: SettingWithCopyWarning: \n",
      "A value is trying to be set on a copy of a slice from a DataFrame\n",
      "\n",
      "See the caveats in the documentation: http://pandas.pydata.org/pandas-docs/stable/indexing.html#indexing-view-versus-copy\n",
      "/usr/local/lib/python3.5/site-packages/ipykernel/__main__.py:7: SettingWithCopyWarning: \n",
      "A value is trying to be set on a copy of a slice from a DataFrame\n",
      "\n",
      "See the caveats in the documentation: http://pandas.pydata.org/pandas-docs/stable/indexing.html#indexing-view-versus-copy\n",
      "/usr/local/lib/python3.5/site-packages/ipykernel/__main__.py:8: SettingWithCopyWarning: \n",
      "A value is trying to be set on a copy of a slice from a DataFrame\n",
      "\n",
      "See the caveats in the documentation: http://pandas.pydata.org/pandas-docs/stable/indexing.html#indexing-view-versus-copy\n",
      "/usr/local/lib/python3.5/site-packages/ipykernel/__main__.py:9: SettingWithCopyWarning: \n",
      "A value is trying to be set on a copy of a slice from a DataFrame\n",
      "\n",
      "See the caveats in the documentation: http://pandas.pydata.org/pandas-docs/stable/indexing.html#indexing-view-versus-copy\n",
      "/usr/local/lib/python3.5/site-packages/ipykernel/__main__.py:10: SettingWithCopyWarning: \n",
      "A value is trying to be set on a copy of a slice from a DataFrame\n",
      "\n",
      "See the caveats in the documentation: http://pandas.pydata.org/pandas-docs/stable/indexing.html#indexing-view-versus-copy\n",
      "/usr/local/lib/python3.5/site-packages/ipykernel/__main__.py:11: SettingWithCopyWarning: \n",
      "A value is trying to be set on a copy of a slice from a DataFrame\n",
      "\n",
      "See the caveats in the documentation: http://pandas.pydata.org/pandas-docs/stable/indexing.html#indexing-view-versus-copy\n",
      "/usr/local/lib/python3.5/site-packages/ipykernel/__main__.py:12: SettingWithCopyWarning: \n",
      "A value is trying to be set on a copy of a slice from a DataFrame\n",
      "\n",
      "See the caveats in the documentation: http://pandas.pydata.org/pandas-docs/stable/indexing.html#indexing-view-versus-copy\n"
     ]
    }
   ],
   "source": [
    "#get rating\n",
    "df['rating'] = None\n",
    "df['rating'][df['description'].str.contains('1/10', case=False, na=False)] = 1\n",
    "df['rating'][df['description'].str.contains('2/10', case=False, na=False)] = 2\n",
    "df['rating'][df['description'].str.contains('3/10', case=False, na=False)] = 3\n",
    "df['rating'][df['description'].str.contains('4/10', case=False, na=False)] = 4\n",
    "df['rating'][df['description'].str.contains('5/10', case=False, na=False)] = 5\n",
    "df['rating'][df['description'].str.contains('6/10', case=False, na=False)] = 6\n",
    "df['rating'][df['description'].str.contains('7/10', case=False, na=False)] = 7\n",
    "df['rating'][df['description'].str.contains('8/10', case=False, na=False)] = 8\n",
    "df['rating'][df['description'].str.contains('9/10', case=False, na=False)] = 9\n",
    "df['rating'][df['description'].str.contains('10/10', case=False, na=False)] = 10"
   ]
  },
  {
   "cell_type": "code",
   "execution_count": 15,
   "metadata": {
    "collapsed": true
   },
   "outputs": [],
   "source": [
    "df['rating'] = pd.to_numeric(df['rating'])"
   ]
  },
  {
   "cell_type": "code",
   "execution_count": 27,
   "metadata": {
    "collapsed": false
   },
   "outputs": [
    {
     "data": {
      "text/plain": [
       "2404                           CD SLIP CASE?!!?\n",
       "2412    Holy Fuck- \"Latin America\" Track Review\n",
       "2416                                 Copyright?\n",
       "2422                      SLIPKNOT TRACK REVIEW\n",
       "2423                            I saw Sunn O)))\n",
       "Name: title, dtype: object"
      ]
     },
     "execution_count": 27,
     "metadata": {},
     "output_type": "execute_result"
    }
   ],
   "source": [
    "df['title'][df['rating'].isnull()].tail()"
   ]
  },
  {
   "cell_type": "code",
   "execution_count": 28,
   "metadata": {
    "collapsed": false,
    "scrolled": true
   },
   "outputs": [
    {
     "data": {
      "text/plain": [
       "'Iglooghost '"
      ]
     },
     "execution_count": 28,
     "metadata": {},
     "output_type": "execute_result"
    }
   ],
   "source": [
    "#get artist\n",
    "df.iloc[1].title.split('-')[0]"
   ]
  },
  {
   "cell_type": "code",
   "execution_count": null,
   "metadata": {
    "collapsed": true
   },
   "outputs": [],
   "source": [
    "#first remove all in"
   ]
  },
  {
   "cell_type": "code",
   "execution_count": 16,
   "metadata": {
    "collapsed": true
   },
   "outputs": [],
   "source": [
    "#get album\n",
    "def test_title(x):\n",
    "    xx = x.split(' - ')\n",
    "    if len(xx) > 1:\n",
    "        return(xx[1])\n",
    "    \n",
    "df['album'] = df['title'].apply(test_title)"
   ]
  },
  {
   "cell_type": "code",
   "execution_count": 20,
   "metadata": {
    "collapsed": true
   },
   "outputs": [
    {
     "data": {
      "text/html": [
       "<div>\n",
       "<table border=\"1\" class=\"dataframe\">\n",
       "  <thead>\n",
       "    <tr style=\"text-align: right;\">\n",
       "      <th></th>\n",
       "      <th>altitude</th>\n",
       "      <th>comments</th>\n",
       "      <th>definition</th>\n",
       "      <th>description</th>\n",
       "      <th>dislikes</th>\n",
       "      <th>duration</th>\n",
       "      <th>favorites</th>\n",
       "      <th>id</th>\n",
       "      <th>latitude</th>\n",
       "      <th>likes</th>\n",
       "      <th>live_broadcast</th>\n",
       "      <th>longitude</th>\n",
       "      <th>published_at</th>\n",
       "      <th>tags</th>\n",
       "      <th>thumbnail</th>\n",
       "      <th>title</th>\n",
       "      <th>views</th>\n",
       "      <th>rating</th>\n",
       "      <th>album</th>\n",
       "    </tr>\n",
       "  </thead>\n",
       "  <tbody>\n",
       "    <tr>\n",
       "      <th>0</th>\n",
       "      <td>0.0</td>\n",
       "      <td>4973</td>\n",
       "      <td>sd</td>\n",
       "      <td>I defend myself against a recent hitjob in The...</td>\n",
       "      <td>614.0</td>\n",
       "      <td>PT21M30S</td>\n",
       "      <td>0</td>\n",
       "      <td>2UZqIIy7pAk</td>\n",
       "      <td>41.603222</td>\n",
       "      <td>35361.0</td>\n",
       "      <td>none</td>\n",
       "      <td>-73.087753</td>\n",
       "      <td>2017-10-07T00:22:24.000Z</td>\n",
       "      <td>['album', 'review', 'music', 'reviews', 'indie...</td>\n",
       "      <td>https://i.ytimg.com/vi/2UZqIIy7pAk/sddefault.jpg</td>\n",
       "      <td>The Fader Response</td>\n",
       "      <td>349152.0</td>\n",
       "      <td>NaN</td>\n",
       "      <td>None</td>\n",
       "    </tr>\n",
       "    <tr>\n",
       "      <th>2</th>\n",
       "      <td>0.0</td>\n",
       "      <td>920</td>\n",
       "      <td>hd</td>\n",
       "      <td>Young Thug &amp; Carnage - Young Martha EP\\nReview...</td>\n",
       "      <td>125.0</td>\n",
       "      <td>PT7M13S</td>\n",
       "      <td>0</td>\n",
       "      <td>uOJW7JwgA6Q</td>\n",
       "      <td>41.603222</td>\n",
       "      <td>2347.0</td>\n",
       "      <td>none</td>\n",
       "      <td>-73.087753</td>\n",
       "      <td>2017-10-04T17:18:48.000Z</td>\n",
       "      <td>['album', 'review', 'music', 'reviews', 'indie...</td>\n",
       "      <td>https://i.ytimg.com/vi/uOJW7JwgA6Q/sddefault.jpg</td>\n",
       "      <td>GREAT ALBUMS: September 2017</td>\n",
       "      <td>106889.0</td>\n",
       "      <td>NaN</td>\n",
       "      <td>None</td>\n",
       "    </tr>\n",
       "    <tr>\n",
       "      <th>5</th>\n",
       "      <td>0.0</td>\n",
       "      <td>1217</td>\n",
       "      <td>hd</td>\n",
       "      <td>The magical monthly segment where I briefly to...</td>\n",
       "      <td>81.0</td>\n",
       "      <td>PT15M43S</td>\n",
       "      <td>0</td>\n",
       "      <td>t3Vdww9zlWY</td>\n",
       "      <td>41.603222</td>\n",
       "      <td>2356.0</td>\n",
       "      <td>none</td>\n",
       "      <td>-73.087753</td>\n",
       "      <td>2017-10-02T15:58:28.000Z</td>\n",
       "      <td>['album', 'review', 'music', 'reviews', 'indie...</td>\n",
       "      <td>https://i.ytimg.com/vi/t3Vdww9zlWY/sddefault.jpg</td>\n",
       "      <td>YUNOREVIEW: September 2017 (Prophets of Rage, ...</td>\n",
       "      <td>98583.0</td>\n",
       "      <td>NaN</td>\n",
       "      <td>None</td>\n",
       "    </tr>\n",
       "    <tr>\n",
       "      <th>6</th>\n",
       "      <td>0.0</td>\n",
       "      <td>680</td>\n",
       "      <td>hd</td>\n",
       "      <td>TND tour dates and tix: http://www.theneedledr...</td>\n",
       "      <td>53.0</td>\n",
       "      <td>PT16M40S</td>\n",
       "      <td>0</td>\n",
       "      <td>B5lZ7M3Qkdk</td>\n",
       "      <td>41.603222</td>\n",
       "      <td>2349.0</td>\n",
       "      <td>none</td>\n",
       "      <td>-73.087753</td>\n",
       "      <td>2017-10-02T01:21:11.000Z</td>\n",
       "      <td>['album', 'review', 'music', 'reviews', 'indie...</td>\n",
       "      <td>https://i.ytimg.com/vi/B5lZ7M3Qkdk/sddefault.jpg</td>\n",
       "      <td>Best &amp; Worst Tracks: 10/1 (Rich The Kid ft. Ke...</td>\n",
       "      <td>138819.0</td>\n",
       "      <td>7.0</td>\n",
       "      <td>None</td>\n",
       "    </tr>\n",
       "    <tr>\n",
       "      <th>14</th>\n",
       "      <td>0.0</td>\n",
       "      <td>1273</td>\n",
       "      <td>hd</td>\n",
       "      <td>Today I'm talking about how memetic humor has ...</td>\n",
       "      <td>161.0</td>\n",
       "      <td>PT9M10S</td>\n",
       "      <td>0</td>\n",
       "      <td>dODwQFcIoKE</td>\n",
       "      <td>41.603222</td>\n",
       "      <td>10332.0</td>\n",
       "      <td>none</td>\n",
       "      <td>-73.087753</td>\n",
       "      <td>2017-09-25T17:47:31.000Z</td>\n",
       "      <td>['album', 'review', 'music', 'reviews', 'indie...</td>\n",
       "      <td>https://i.ytimg.com/vi/dODwQFcIoKE/sddefault.jpg</td>\n",
       "      <td>Memes Are the Future of Music Promotion</td>\n",
       "      <td>194705.0</td>\n",
       "      <td>NaN</td>\n",
       "      <td>None</td>\n",
       "    </tr>\n",
       "  </tbody>\n",
       "</table>\n",
       "</div>"
      ],
      "text/plain": [
       "    altitude  comments definition  \\\n",
       "0        0.0      4973         sd   \n",
       "2        0.0       920         hd   \n",
       "5        0.0      1217         hd   \n",
       "6        0.0       680         hd   \n",
       "14       0.0      1273         hd   \n",
       "\n",
       "                                          description  dislikes  duration  \\\n",
       "0   I defend myself against a recent hitjob in The...     614.0  PT21M30S   \n",
       "2   Young Thug & Carnage - Young Martha EP\\nReview...     125.0   PT7M13S   \n",
       "5   The magical monthly segment where I briefly to...      81.0  PT15M43S   \n",
       "6   TND tour dates and tix: http://www.theneedledr...      53.0  PT16M40S   \n",
       "14  Today I'm talking about how memetic humor has ...     161.0   PT9M10S   \n",
       "\n",
       "    favorites           id   latitude    likes live_broadcast  longitude  \\\n",
       "0           0  2UZqIIy7pAk  41.603222  35361.0           none -73.087753   \n",
       "2           0  uOJW7JwgA6Q  41.603222   2347.0           none -73.087753   \n",
       "5           0  t3Vdww9zlWY  41.603222   2356.0           none -73.087753   \n",
       "6           0  B5lZ7M3Qkdk  41.603222   2349.0           none -73.087753   \n",
       "14          0  dODwQFcIoKE  41.603222  10332.0           none -73.087753   \n",
       "\n",
       "                published_at  \\\n",
       "0   2017-10-07T00:22:24.000Z   \n",
       "2   2017-10-04T17:18:48.000Z   \n",
       "5   2017-10-02T15:58:28.000Z   \n",
       "6   2017-10-02T01:21:11.000Z   \n",
       "14  2017-09-25T17:47:31.000Z   \n",
       "\n",
       "                                                 tags  \\\n",
       "0   ['album', 'review', 'music', 'reviews', 'indie...   \n",
       "2   ['album', 'review', 'music', 'reviews', 'indie...   \n",
       "5   ['album', 'review', 'music', 'reviews', 'indie...   \n",
       "6   ['album', 'review', 'music', 'reviews', 'indie...   \n",
       "14  ['album', 'review', 'music', 'reviews', 'indie...   \n",
       "\n",
       "                                           thumbnail  \\\n",
       "0   https://i.ytimg.com/vi/2UZqIIy7pAk/sddefault.jpg   \n",
       "2   https://i.ytimg.com/vi/uOJW7JwgA6Q/sddefault.jpg   \n",
       "5   https://i.ytimg.com/vi/t3Vdww9zlWY/sddefault.jpg   \n",
       "6   https://i.ytimg.com/vi/B5lZ7M3Qkdk/sddefault.jpg   \n",
       "14  https://i.ytimg.com/vi/dODwQFcIoKE/sddefault.jpg   \n",
       "\n",
       "                                                title     views  rating album  \n",
       "0                                  The Fader Response  349152.0     NaN  None  \n",
       "2                        GREAT ALBUMS: September 2017  106889.0     NaN  None  \n",
       "5   YUNOREVIEW: September 2017 (Prophets of Rage, ...   98583.0     NaN  None  \n",
       "6   Best & Worst Tracks: 10/1 (Rich The Kid ft. Ke...  138819.0     7.0  None  \n",
       "14            Memes Are the Future of Music Promotion  194705.0     NaN  None  "
      ]
     },
     "execution_count": 20,
     "metadata": {},
     "output_type": "execute_result"
    }
   ],
   "source": [
    "df['album'] = df.album.str.replace(\"Review\",\"\")\n",
    "df['album'] = df.album.str.replace(\"ALBUM REVIEW\",\"\")\n",
    "df['album'] = df.album.str.replace(\"EP REVIEW\",\"\")\n",
    "df['album'] = df.album.str.replace(\"MIXTAPE REVIEW\",\"\")\n",
    "df['album'] = df.album.str.replace(\"REVIEW\",\"\")\n",
    "df['album'] = df.album.str.replace(\"QUICKIE\",\"\")\n",
    "df['album'] = df.album.str.replace(\"ALBUM\",\"\")\n",
    "df['album'] = df.album.str.replace(\"MIXTAPE\",\"\")\n",
    "df['album'] = df.album.str.replace(\"COMPILATION\",\"\")\n",
    "df['album'] = df.album.str.replace(\"TRACK\",\"\")\n",
    "df[df['album'].isnull()].head()"
   ]
  },
  {
   "cell_type": "code",
   "execution_count": 22,
   "metadata": {
    "collapsed": true
   },
   "outputs": [
    {
     "data": {
      "text/plain": [
       "0                          None\n",
       "1                Neō Wax Bloom \n",
       "2                          None\n",
       "3                     Deadstar \n",
       "4    Drive It Like It's Stolen \n",
       "Name: album, dtype: object"
      ]
     },
     "execution_count": 22,
     "metadata": {},
     "output_type": "execute_result"
    }
   ],
   "source": [
    "df.album.head()"
   ]
  },
  {
   "cell_type": "code",
   "execution_count": 23,
   "metadata": {
    "collapsed": false
   },
   "outputs": [
    {
     "data": {
      "text/plain": [
       "0              The Fader Response\n",
       "1                      Iglooghost\n",
       "2    GREAT ALBUMS: September 2017\n",
       "3                      Smokepurpp\n",
       "4                  Injury Reserve\n",
       "Name: artist, dtype: object"
      ]
     },
     "execution_count": 23,
     "metadata": {},
     "output_type": "execute_result"
    }
   ],
   "source": [
    "#get artist\n",
    "df['artist'] = df['title'].apply(lambda x: x.split(' - ')[0])\n",
    "\n",
    "df['artist'].head()"
   ]
  },
  {
   "cell_type": "code",
   "execution_count": 67,
   "metadata": {
    "collapsed": false
   },
   "outputs": [
    {
     "data": {
      "text/plain": [
       "'Godspeed You! Black Emperor'"
      ]
     },
     "execution_count": 67,
     "metadata": {},
     "output_type": "execute_result"
    }
   ],
   "source": [
    "df.iloc[1930].artist"
   ]
  },
  {
   "cell_type": "code",
   "execution_count": 68,
   "metadata": {
    "collapsed": false,
    "scrolled": true
   },
   "outputs": [
    {
     "data": {
      "text/plain": [
       "\"['after the smoke', 'oiam', 'one in a million', 'yelawolf', 'ep', 'white girls', 'velvet cake', 'far from a bitch', 'universal', 'copyright', 'steal', 'music', 'beat', 'instrumental', 'pipa', 'sopa', 'universal music group', 'umg', 'the needle drop', 'anthony fantano']\""
      ]
     },
     "execution_count": 68,
     "metadata": {},
     "output_type": "execute_result"
    }
   ],
   "source": [
    "df.iloc[1903].tags\n",
    "#df.iloc[1].genre"
   ]
  },
  {
   "cell_type": "code",
   "execution_count": 24,
   "metadata": {
    "collapsed": false
   },
   "outputs": [
    {
     "name": "stderr",
     "output_type": "stream",
     "text": [
      "/usr/local/lib/python3.5/site-packages/ipykernel/__main__.py:3: SettingWithCopyWarning: \n",
      "A value is trying to be set on a copy of a slice from a DataFrame\n",
      "\n",
      "See the caveats in the documentation: http://pandas.pydata.org/pandas-docs/stable/indexing.html#indexing-view-versus-copy\n",
      "  app.launch_new_instance()\n",
      "/usr/local/lib/python3.5/site-packages/ipykernel/__main__.py:5: SettingWithCopyWarning: \n",
      "A value is trying to be set on a copy of a slice from a DataFrame\n",
      "\n",
      "See the caveats in the documentation: http://pandas.pydata.org/pandas-docs/stable/indexing.html#indexing-view-versus-copy\n",
      "/usr/local/lib/python3.5/site-packages/ipykernel/__main__.py:7: SettingWithCopyWarning: \n",
      "A value is trying to be set on a copy of a slice from a DataFrame\n",
      "\n",
      "See the caveats in the documentation: http://pandas.pydata.org/pandas-docs/stable/indexing.html#indexing-view-versus-copy\n",
      "/usr/local/lib/python3.5/site-packages/ipykernel/__main__.py:9: SettingWithCopyWarning: \n",
      "A value is trying to be set on a copy of a slice from a DataFrame\n",
      "\n",
      "See the caveats in the documentation: http://pandas.pydata.org/pandas-docs/stable/indexing.html#indexing-view-versus-copy\n",
      "/usr/local/lib/python3.5/site-packages/ipykernel/__main__.py:11: SettingWithCopyWarning: \n",
      "A value is trying to be set on a copy of a slice from a DataFrame\n",
      "\n",
      "See the caveats in the documentation: http://pandas.pydata.org/pandas-docs/stable/indexing.html#indexing-view-versus-copy\n",
      "/usr/local/lib/python3.5/site-packages/ipykernel/__main__.py:13: SettingWithCopyWarning: \n",
      "A value is trying to be set on a copy of a slice from a DataFrame\n",
      "\n",
      "See the caveats in the documentation: http://pandas.pydata.org/pandas-docs/stable/indexing.html#indexing-view-versus-copy\n",
      "/usr/local/lib/python3.5/site-packages/ipykernel/__main__.py:15: SettingWithCopyWarning: \n",
      "A value is trying to be set on a copy of a slice from a DataFrame\n",
      "\n",
      "See the caveats in the documentation: http://pandas.pydata.org/pandas-docs/stable/indexing.html#indexing-view-versus-copy\n",
      "/usr/local/lib/python3.5/site-packages/ipykernel/__main__.py:17: SettingWithCopyWarning: \n",
      "A value is trying to be set on a copy of a slice from a DataFrame\n",
      "\n",
      "See the caveats in the documentation: http://pandas.pydata.org/pandas-docs/stable/indexing.html#indexing-view-versus-copy\n",
      "/usr/local/lib/python3.5/site-packages/ipykernel/__main__.py:19: SettingWithCopyWarning: \n",
      "A value is trying to be set on a copy of a slice from a DataFrame\n",
      "\n",
      "See the caveats in the documentation: http://pandas.pydata.org/pandas-docs/stable/indexing.html#indexing-view-versus-copy\n",
      "/usr/local/lib/python3.5/site-packages/ipykernel/__main__.py:21: SettingWithCopyWarning: \n",
      "A value is trying to be set on a copy of a slice from a DataFrame\n",
      "\n",
      "See the caveats in the documentation: http://pandas.pydata.org/pandas-docs/stable/indexing.html#indexing-view-versus-copy\n",
      "/usr/local/lib/python3.5/site-packages/ipykernel/__main__.py:23: SettingWithCopyWarning: \n",
      "A value is trying to be set on a copy of a slice from a DataFrame\n",
      "\n",
      "See the caveats in the documentation: http://pandas.pydata.org/pandas-docs/stable/indexing.html#indexing-view-versus-copy\n"
     ]
    }
   ],
   "source": [
    "#get genre\n",
    "df['electronic'] = 0\n",
    "df['electronic'][df['tags'].str.contains('electronic', case=False, na=False)] = 1\n",
    "df['hip_hop'] = 0\n",
    "df['hip_hop'][df['tags'].str.contains('hip hop', case=False, na=False)] = 1\n",
    "df['metal'] = 0\n",
    "df['metal'][df['tags'].str.contains('metal', case=False, na=False)] = 1\n",
    "df['folk'] = 0\n",
    "df['folk'][df['tags'].str.contains('folk', case=False, na=False)] = 1\n",
    "df['indie'] = 0\n",
    "df['indie'][df['tags'].str.contains('indie', case=False, na=False)] = 1\n",
    "df['underground'] = 0\n",
    "df['underground'][df['tags'].str.contains('underground', case=False, na=False)] = 1\n",
    "df['experimental'] = 0\n",
    "df['experimental'][df['tags'].str.contains('experimental', case=False, na=False)] = 1\n",
    "df['instrumental'] = 0\n",
    "df['instrumental'][df['tags'].str.contains('instrumental', case=False, na=False)] = 1\n",
    "df['rock'] = 0\n",
    "df['rock'][df['tags'].str.contains('rock', case=False, na=False)] = 1\n",
    "df['rap'] = 0\n",
    "df['rap'][df['tags'].str.contains('rap', case=False, na=False)] = 1\n",
    "df['jazz'] = 0\n",
    "df['jazz'][df['tags'].str.contains('jazz', case=False, na=False)] = 1"
   ]
  },
  {
   "cell_type": "code",
   "execution_count": 25,
   "metadata": {
    "collapsed": false
   },
   "outputs": [
    {
     "data": {
      "text/plain": [
       "1                                            Iglooghost\n",
       "22                                         The National\n",
       "24                                                Nmesh\n",
       "33                                                Bicep\n",
       "35    YUNOREVIEW: August 2017 (Wiki, Oneohtrix Point...\n",
       "Name: artist, dtype: object"
      ]
     },
     "execution_count": 25,
     "metadata": {},
     "output_type": "execute_result"
    }
   ],
   "source": [
    "df.artist[df.electronic==1].head()"
   ]
  },
  {
   "cell_type": "code",
   "execution_count": 88,
   "metadata": {
    "collapsed": false,
    "scrolled": false
   },
   "outputs": [
    {
     "data": {
      "text/plain": [
       "\"Listen: https://www.youtube.com/watch?v=6m5du_V0_UI&ab_channel=Brainfeedermedia\\n\\nIglooghost makes his full-length Brainfeeder debut with the impressive and fantastical Neō Wax Bloom.\\n\\nBuy this album: http://amzn.to/2xl8Iha\\n\\nMore electronic reviews: https://www.youtube.com/playlist?list=PLP4CSgl7K7ormX2pL9h0inES2Ub630NoL\\n\\n===================================\\nSubscribe: http://bit.ly/1pBqGCN\\n\\nOfficial site: http://theneedledrop.com\\n\\nTND Twitter: http://twitter.com/theneedledrop\\n\\nTND Facebook: http://facebook.com/theneedledrop\\n\\nSupport TND: http://theneedledrop.com/support\\n===================================\\n\\nFAV TRACKS: SUPER INK BURST, BUG THIEF, SOLAR BLADE, WHITE GUM, GOD GRID, ZEN CHAMP\\n\\nLEAST FAV TRACK: PEANUT CHOKER\\n\\nIGLOOGHOST - NEO WAX BLOOM / 2017 / BRAINFEEDER / WONKY, UK BASS, GLITCH HOP, DRILL AND BASS\\n\\n8/10 http://www.theneedledrop.com/loved-list/2017/1/loved-list-2017\\n\\nY'all know this is just my opinion, right?\""
      ]
     },
     "execution_count": 88,
     "metadata": {},
     "output_type": "execute_result"
    }
   ],
   "source": [
    "df.iloc[1].description"
   ]
  },
  {
   "cell_type": "code",
   "execution_count": 51,
   "metadata": {
    "collapsed": false
   },
   "outputs": [
    {
     "data": {
      "text/plain": [
       "0.053652496904663644"
      ]
     },
     "execution_count": 51,
     "metadata": {},
     "output_type": "execute_result"
    }
   ],
   "source": [
    "#missing ratings\n",
    "#these are a mixture of track reviews, classic reviews, xx/10, etc.\n",
    "missingratings = df[df.rating.isnull()&df['title'].str.contains('ALBUM REVIEW', case=False, na=False)][['id','title','artist','album','rating','description']]\n",
    "missingratings.head()\n",
    "len(missingratings)\n",
    "len(missingratings)/len(df)"
   ]
  },
  {
   "cell_type": "code",
   "execution_count": 33,
   "metadata": {
    "collapsed": true
   },
   "outputs": [],
   "source": [
    "#one-off fixes\n",
    "##fix planningtorock dup\n",
    "df = df[df.id!='l7ovkjrJFMI']\n",
    "##fix plastic beach rating\n",
    "df.rating[df.id=='A9RLE74OXUY'] = 7"
   ]
  },
  {
   "cell_type": "code",
   "execution_count": null,
   "metadata": {
    "collapsed": true
   },
   "outputs": [],
   "source": [
    "temp = df[df.rating.isnull()&df['title'].str.contains('ALBUM REVIEW', case=False, na=False)][['id','title','artist','album','rating','description']]\n",
    "temp.to_csv(\"~/Desktop/temp.csv\")"
   ]
  },
  {
   "cell_type": "markdown",
   "metadata": {},
   "source": [
    "# EDA"
   ]
  },
  {
   "cell_type": "code",
   "execution_count": 95,
   "metadata": {
    "collapsed": false
   },
   "outputs": [
    {
     "data": {
      "text/plain": [
       "Index(['altitude', 'comments', 'definition', 'description', 'dislikes',\n",
       "       'duration', 'favorites', 'id', 'latitude', 'likes', 'live_broadcast',\n",
       "       'longitude', 'published_at', 'tags', 'thumbnail', 'title', 'views',\n",
       "       'rating', 'album', 'artist', 'genre', 'electronic', 'hip_hop', 'metal',\n",
       "       'folk', 'indie', 'underground', 'experimental', 'instrumental', 'rock',\n",
       "       'rap', 'jazz'],\n",
       "      dtype='object')"
      ]
     },
     "execution_count": 95,
     "metadata": {},
     "output_type": "execute_result"
    }
   ],
   "source": [
    "df.columns"
   ]
  },
  {
   "cell_type": "code",
   "execution_count": 100,
   "metadata": {
    "collapsed": false
   },
   "outputs": [
    {
     "data": {
      "text/plain": [
       "0.3296204620462046"
      ]
     },
     "execution_count": 100,
     "metadata": {},
     "output_type": "execute_result"
    }
   ],
   "source": [
    "df.rating.isnull().sum()/len(df.rating)"
   ]
  },
  {
   "cell_type": "code",
   "execution_count": 101,
   "metadata": {
    "collapsed": false
   },
   "outputs": [],
   "source": [
    "df1 = df[df.rating.notnull()]"
   ]
  },
  {
   "cell_type": "code",
   "execution_count": 103,
   "metadata": {
    "collapsed": false
   },
   "outputs": [
    {
     "data": {
      "text/html": [
       "<div>\n",
       "<table border=\"1\" class=\"dataframe\">\n",
       "  <thead>\n",
       "    <tr style=\"text-align: right;\">\n",
       "      <th></th>\n",
       "      <th>altitude</th>\n",
       "      <th>comments</th>\n",
       "      <th>definition</th>\n",
       "      <th>description</th>\n",
       "      <th>dislikes</th>\n",
       "      <th>duration</th>\n",
       "      <th>favorites</th>\n",
       "      <th>id</th>\n",
       "      <th>latitude</th>\n",
       "      <th>likes</th>\n",
       "      <th>...</th>\n",
       "      <th>hip_hop</th>\n",
       "      <th>metal</th>\n",
       "      <th>folk</th>\n",
       "      <th>indie</th>\n",
       "      <th>underground</th>\n",
       "      <th>experimental</th>\n",
       "      <th>instrumental</th>\n",
       "      <th>rock</th>\n",
       "      <th>rap</th>\n",
       "      <th>jazz</th>\n",
       "    </tr>\n",
       "  </thead>\n",
       "  <tbody>\n",
       "    <tr>\n",
       "      <th>1</th>\n",
       "      <td>0.0</td>\n",
       "      <td>976</td>\n",
       "      <td>hd</td>\n",
       "      <td>Listen: https://www.youtube.com/watch?v=6m5du_...</td>\n",
       "      <td>59.0</td>\n",
       "      <td>PT6M8S</td>\n",
       "      <td>0</td>\n",
       "      <td>datrlt_DGLs</td>\n",
       "      <td>41.603222</td>\n",
       "      <td>2261.0</td>\n",
       "      <td>...</td>\n",
       "      <td>1</td>\n",
       "      <td>0</td>\n",
       "      <td>0</td>\n",
       "      <td>1</td>\n",
       "      <td>1</td>\n",
       "      <td>0</td>\n",
       "      <td>0</td>\n",
       "      <td>0</td>\n",
       "      <td>0</td>\n",
       "      <td>0</td>\n",
       "    </tr>\n",
       "    <tr>\n",
       "      <th>3</th>\n",
       "      <td>0.0</td>\n",
       "      <td>1344</td>\n",
       "      <td>hd</td>\n",
       "      <td>Listen: https://www.youtube.com/watch?v=OL9b_U...</td>\n",
       "      <td>265.0</td>\n",
       "      <td>PT8M11S</td>\n",
       "      <td>0</td>\n",
       "      <td>Uxmi5AcAFgg</td>\n",
       "      <td>41.603222</td>\n",
       "      <td>4119.0</td>\n",
       "      <td>...</td>\n",
       "      <td>1</td>\n",
       "      <td>0</td>\n",
       "      <td>0</td>\n",
       "      <td>1</td>\n",
       "      <td>1</td>\n",
       "      <td>0</td>\n",
       "      <td>0</td>\n",
       "      <td>0</td>\n",
       "      <td>1</td>\n",
       "      <td>0</td>\n",
       "    </tr>\n",
       "    <tr>\n",
       "      <th>4</th>\n",
       "      <td>0.0</td>\n",
       "      <td>853</td>\n",
       "      <td>hd</td>\n",
       "      <td>Listen: http://www.theneedledrop.com/articles/...</td>\n",
       "      <td>74.0</td>\n",
       "      <td>PT6M27S</td>\n",
       "      <td>0</td>\n",
       "      <td>lI6-C7dwz9k</td>\n",
       "      <td>41.603222</td>\n",
       "      <td>2069.0</td>\n",
       "      <td>...</td>\n",
       "      <td>1</td>\n",
       "      <td>0</td>\n",
       "      <td>0</td>\n",
       "      <td>1</td>\n",
       "      <td>1</td>\n",
       "      <td>0</td>\n",
       "      <td>0</td>\n",
       "      <td>0</td>\n",
       "      <td>1</td>\n",
       "      <td>0</td>\n",
       "    </tr>\n",
       "    <tr>\n",
       "      <th>6</th>\n",
       "      <td>0.0</td>\n",
       "      <td>680</td>\n",
       "      <td>hd</td>\n",
       "      <td>TND tour dates and tix: http://www.theneedledr...</td>\n",
       "      <td>53.0</td>\n",
       "      <td>PT16M40S</td>\n",
       "      <td>0</td>\n",
       "      <td>B5lZ7M3Qkdk</td>\n",
       "      <td>41.603222</td>\n",
       "      <td>2349.0</td>\n",
       "      <td>...</td>\n",
       "      <td>0</td>\n",
       "      <td>0</td>\n",
       "      <td>0</td>\n",
       "      <td>1</td>\n",
       "      <td>1</td>\n",
       "      <td>0</td>\n",
       "      <td>0</td>\n",
       "      <td>0</td>\n",
       "      <td>0</td>\n",
       "      <td>0</td>\n",
       "    </tr>\n",
       "    <tr>\n",
       "      <th>7</th>\n",
       "      <td>0.0</td>\n",
       "      <td>561</td>\n",
       "      <td>hd</td>\n",
       "      <td>Spectrum Pulse: https://www.youtube.com/user/S...</td>\n",
       "      <td>95.0</td>\n",
       "      <td>PT16M44S</td>\n",
       "      <td>0</td>\n",
       "      <td>S-elCjqboo0</td>\n",
       "      <td>41.603222</td>\n",
       "      <td>1848.0</td>\n",
       "      <td>...</td>\n",
       "      <td>0</td>\n",
       "      <td>0</td>\n",
       "      <td>0</td>\n",
       "      <td>1</td>\n",
       "      <td>1</td>\n",
       "      <td>0</td>\n",
       "      <td>0</td>\n",
       "      <td>1</td>\n",
       "      <td>0</td>\n",
       "      <td>0</td>\n",
       "    </tr>\n",
       "  </tbody>\n",
       "</table>\n",
       "<p>5 rows × 32 columns</p>\n",
       "</div>"
      ],
      "text/plain": [
       "   altitude  comments definition  \\\n",
       "1       0.0       976         hd   \n",
       "3       0.0      1344         hd   \n",
       "4       0.0       853         hd   \n",
       "6       0.0       680         hd   \n",
       "7       0.0       561         hd   \n",
       "\n",
       "                                         description  dislikes  duration  \\\n",
       "1  Listen: https://www.youtube.com/watch?v=6m5du_...      59.0    PT6M8S   \n",
       "3  Listen: https://www.youtube.com/watch?v=OL9b_U...     265.0   PT8M11S   \n",
       "4  Listen: http://www.theneedledrop.com/articles/...      74.0   PT6M27S   \n",
       "6  TND tour dates and tix: http://www.theneedledr...      53.0  PT16M40S   \n",
       "7  Spectrum Pulse: https://www.youtube.com/user/S...      95.0  PT16M44S   \n",
       "\n",
       "   favorites           id   latitude   likes ...  hip_hop  metal folk indie  \\\n",
       "1          0  datrlt_DGLs  41.603222  2261.0 ...        1      0    0     1   \n",
       "3          0  Uxmi5AcAFgg  41.603222  4119.0 ...        1      0    0     1   \n",
       "4          0  lI6-C7dwz9k  41.603222  2069.0 ...        1      0    0     1   \n",
       "6          0  B5lZ7M3Qkdk  41.603222  2349.0 ...        0      0    0     1   \n",
       "7          0  S-elCjqboo0  41.603222  1848.0 ...        0      0    0     1   \n",
       "\n",
       "  underground experimental  instrumental  rock rap jazz  \n",
       "1           1            0             0     0   0    0  \n",
       "3           1            0             0     0   1    0  \n",
       "4           1            0             0     0   1    0  \n",
       "6           1            0             0     0   0    0  \n",
       "7           1            0             0     1   0    0  \n",
       "\n",
       "[5 rows x 32 columns]"
      ]
     },
     "execution_count": 103,
     "metadata": {},
     "output_type": "execute_result"
    }
   ],
   "source": [
    "df1.head()"
   ]
  },
  {
   "cell_type": "code",
   "execution_count": 176,
   "metadata": {
    "collapsed": false
   },
   "outputs": [
    {
     "name": "stderr",
     "output_type": "stream",
     "text": [
      "/usr/local/lib/python3.5/site-packages/ipykernel/__main__.py:1: SettingWithCopyWarning: \n",
      "A value is trying to be set on a copy of a slice from a DataFrame.\n",
      "Try using .loc[row_indexer,col_indexer] = value instead\n",
      "\n",
      "See the caveats in the documentation: http://pandas.pydata.org/pandas-docs/stable/indexing.html#indexing-view-versus-copy\n",
      "  if __name__ == '__main__':\n"
     ]
    }
   ],
   "source": [
    "df1['published_at'] = pd.to_datetime(df1['published_at'])"
   ]
  },
  {
   "cell_type": "code",
   "execution_count": 120,
   "metadata": {
    "collapsed": true
   },
   "outputs": [],
   "source": [
    "ts = df1.set_index('published_at')"
   ]
  },
  {
   "cell_type": "code",
   "execution_count": 121,
   "metadata": {
    "collapsed": false
   },
   "outputs": [
    {
     "data": {
      "text/html": [
       "<div>\n",
       "<table border=\"1\" class=\"dataframe\">\n",
       "  <thead>\n",
       "    <tr style=\"text-align: right;\">\n",
       "      <th></th>\n",
       "      <th>altitude</th>\n",
       "      <th>comments</th>\n",
       "      <th>definition</th>\n",
       "      <th>description</th>\n",
       "      <th>dislikes</th>\n",
       "      <th>duration</th>\n",
       "      <th>favorites</th>\n",
       "      <th>id</th>\n",
       "      <th>latitude</th>\n",
       "      <th>likes</th>\n",
       "      <th>...</th>\n",
       "      <th>hip_hop</th>\n",
       "      <th>metal</th>\n",
       "      <th>folk</th>\n",
       "      <th>indie</th>\n",
       "      <th>underground</th>\n",
       "      <th>experimental</th>\n",
       "      <th>instrumental</th>\n",
       "      <th>rock</th>\n",
       "      <th>rap</th>\n",
       "      <th>jazz</th>\n",
       "    </tr>\n",
       "    <tr>\n",
       "      <th>published_at</th>\n",
       "      <th></th>\n",
       "      <th></th>\n",
       "      <th></th>\n",
       "      <th></th>\n",
       "      <th></th>\n",
       "      <th></th>\n",
       "      <th></th>\n",
       "      <th></th>\n",
       "      <th></th>\n",
       "      <th></th>\n",
       "      <th></th>\n",
       "      <th></th>\n",
       "      <th></th>\n",
       "      <th></th>\n",
       "      <th></th>\n",
       "      <th></th>\n",
       "      <th></th>\n",
       "      <th></th>\n",
       "      <th></th>\n",
       "      <th></th>\n",
       "      <th></th>\n",
       "    </tr>\n",
       "  </thead>\n",
       "  <tbody>\n",
       "    <tr>\n",
       "      <th>2017-10-05 21:42:35</th>\n",
       "      <td>0.0</td>\n",
       "      <td>976</td>\n",
       "      <td>hd</td>\n",
       "      <td>Listen: https://www.youtube.com/watch?v=6m5du_...</td>\n",
       "      <td>59.0</td>\n",
       "      <td>PT6M8S</td>\n",
       "      <td>0</td>\n",
       "      <td>datrlt_DGLs</td>\n",
       "      <td>41.603222</td>\n",
       "      <td>2261.0</td>\n",
       "      <td>...</td>\n",
       "      <td>1</td>\n",
       "      <td>0</td>\n",
       "      <td>0</td>\n",
       "      <td>1</td>\n",
       "      <td>1</td>\n",
       "      <td>0</td>\n",
       "      <td>0</td>\n",
       "      <td>0</td>\n",
       "      <td>0</td>\n",
       "      <td>0</td>\n",
       "    </tr>\n",
       "    <tr>\n",
       "      <th>2017-10-03 21:15:24</th>\n",
       "      <td>0.0</td>\n",
       "      <td>1344</td>\n",
       "      <td>hd</td>\n",
       "      <td>Listen: https://www.youtube.com/watch?v=OL9b_U...</td>\n",
       "      <td>265.0</td>\n",
       "      <td>PT8M11S</td>\n",
       "      <td>0</td>\n",
       "      <td>Uxmi5AcAFgg</td>\n",
       "      <td>41.603222</td>\n",
       "      <td>4119.0</td>\n",
       "      <td>...</td>\n",
       "      <td>1</td>\n",
       "      <td>0</td>\n",
       "      <td>0</td>\n",
       "      <td>1</td>\n",
       "      <td>1</td>\n",
       "      <td>0</td>\n",
       "      <td>0</td>\n",
       "      <td>0</td>\n",
       "      <td>1</td>\n",
       "      <td>0</td>\n",
       "    </tr>\n",
       "    <tr>\n",
       "      <th>2017-10-03 16:26:21</th>\n",
       "      <td>0.0</td>\n",
       "      <td>853</td>\n",
       "      <td>hd</td>\n",
       "      <td>Listen: http://www.theneedledrop.com/articles/...</td>\n",
       "      <td>74.0</td>\n",
       "      <td>PT6M27S</td>\n",
       "      <td>0</td>\n",
       "      <td>lI6-C7dwz9k</td>\n",
       "      <td>41.603222</td>\n",
       "      <td>2069.0</td>\n",
       "      <td>...</td>\n",
       "      <td>1</td>\n",
       "      <td>0</td>\n",
       "      <td>0</td>\n",
       "      <td>1</td>\n",
       "      <td>1</td>\n",
       "      <td>0</td>\n",
       "      <td>0</td>\n",
       "      <td>0</td>\n",
       "      <td>1</td>\n",
       "      <td>0</td>\n",
       "    </tr>\n",
       "    <tr>\n",
       "      <th>2017-10-02 01:21:11</th>\n",
       "      <td>0.0</td>\n",
       "      <td>680</td>\n",
       "      <td>hd</td>\n",
       "      <td>TND tour dates and tix: http://www.theneedledr...</td>\n",
       "      <td>53.0</td>\n",
       "      <td>PT16M40S</td>\n",
       "      <td>0</td>\n",
       "      <td>B5lZ7M3Qkdk</td>\n",
       "      <td>41.603222</td>\n",
       "      <td>2349.0</td>\n",
       "      <td>...</td>\n",
       "      <td>0</td>\n",
       "      <td>0</td>\n",
       "      <td>0</td>\n",
       "      <td>1</td>\n",
       "      <td>1</td>\n",
       "      <td>0</td>\n",
       "      <td>0</td>\n",
       "      <td>0</td>\n",
       "      <td>0</td>\n",
       "      <td>0</td>\n",
       "    </tr>\n",
       "    <tr>\n",
       "      <th>2017-10-01 16:01:13</th>\n",
       "      <td>0.0</td>\n",
       "      <td>561</td>\n",
       "      <td>hd</td>\n",
       "      <td>Spectrum Pulse: https://www.youtube.com/user/S...</td>\n",
       "      <td>95.0</td>\n",
       "      <td>PT16M44S</td>\n",
       "      <td>0</td>\n",
       "      <td>S-elCjqboo0</td>\n",
       "      <td>41.603222</td>\n",
       "      <td>1848.0</td>\n",
       "      <td>...</td>\n",
       "      <td>0</td>\n",
       "      <td>0</td>\n",
       "      <td>0</td>\n",
       "      <td>1</td>\n",
       "      <td>1</td>\n",
       "      <td>0</td>\n",
       "      <td>0</td>\n",
       "      <td>1</td>\n",
       "      <td>0</td>\n",
       "      <td>0</td>\n",
       "    </tr>\n",
       "  </tbody>\n",
       "</table>\n",
       "<p>5 rows × 31 columns</p>\n",
       "</div>"
      ],
      "text/plain": [
       "                     altitude  comments definition  \\\n",
       "published_at                                         \n",
       "2017-10-05 21:42:35       0.0       976         hd   \n",
       "2017-10-03 21:15:24       0.0      1344         hd   \n",
       "2017-10-03 16:26:21       0.0       853         hd   \n",
       "2017-10-02 01:21:11       0.0       680         hd   \n",
       "2017-10-01 16:01:13       0.0       561         hd   \n",
       "\n",
       "                                                           description  \\\n",
       "published_at                                                             \n",
       "2017-10-05 21:42:35  Listen: https://www.youtube.com/watch?v=6m5du_...   \n",
       "2017-10-03 21:15:24  Listen: https://www.youtube.com/watch?v=OL9b_U...   \n",
       "2017-10-03 16:26:21  Listen: http://www.theneedledrop.com/articles/...   \n",
       "2017-10-02 01:21:11  TND tour dates and tix: http://www.theneedledr...   \n",
       "2017-10-01 16:01:13  Spectrum Pulse: https://www.youtube.com/user/S...   \n",
       "\n",
       "                     dislikes  duration  favorites           id   latitude  \\\n",
       "published_at                                                                 \n",
       "2017-10-05 21:42:35      59.0    PT6M8S          0  datrlt_DGLs  41.603222   \n",
       "2017-10-03 21:15:24     265.0   PT8M11S          0  Uxmi5AcAFgg  41.603222   \n",
       "2017-10-03 16:26:21      74.0   PT6M27S          0  lI6-C7dwz9k  41.603222   \n",
       "2017-10-02 01:21:11      53.0  PT16M40S          0  B5lZ7M3Qkdk  41.603222   \n",
       "2017-10-01 16:01:13      95.0  PT16M44S          0  S-elCjqboo0  41.603222   \n",
       "\n",
       "                      likes ...  hip_hop  metal folk indie underground  \\\n",
       "published_at                ...                                          \n",
       "2017-10-05 21:42:35  2261.0 ...        1      0    0     1           1   \n",
       "2017-10-03 21:15:24  4119.0 ...        1      0    0     1           1   \n",
       "2017-10-03 16:26:21  2069.0 ...        1      0    0     1           1   \n",
       "2017-10-02 01:21:11  2349.0 ...        0      0    0     1           1   \n",
       "2017-10-01 16:01:13  1848.0 ...        0      0    0     1           1   \n",
       "\n",
       "                     experimental  instrumental rock rap jazz  \n",
       "published_at                                                   \n",
       "2017-10-05 21:42:35             0             0    0   0    0  \n",
       "2017-10-03 21:15:24             0             0    0   1    0  \n",
       "2017-10-03 16:26:21             0             0    0   1    0  \n",
       "2017-10-02 01:21:11             0             0    0   0    0  \n",
       "2017-10-01 16:01:13             0             0    1   0    0  \n",
       "\n",
       "[5 rows x 31 columns]"
      ]
     },
     "execution_count": 121,
     "metadata": {},
     "output_type": "execute_result"
    }
   ],
   "source": [
    "ts.head()"
   ]
  },
  {
   "cell_type": "code",
   "execution_count": 136,
   "metadata": {
    "collapsed": false
   },
   "outputs": [
    {
     "data": {
      "text/plain": [
       "2010     6095695.0\n",
       "2011    13386813.0\n",
       "2012    14196744.0\n",
       "2013    18471699.0\n",
       "2014    18446176.0\n",
       "2015    31377027.0\n",
       "2016    34775406.0\n",
       "2017    26636723.0\n",
       "Name: views, dtype: float64"
      ]
     },
     "execution_count": 136,
     "metadata": {},
     "output_type": "execute_result"
    }
   ],
   "source": [
    "ts.groupby(ts.index.year).sum()['views']"
   ]
  },
  {
   "cell_type": "code",
   "execution_count": 135,
   "metadata": {
    "collapsed": false
   },
   "outputs": [
    {
     "data": {
      "text/plain": [
       "<matplotlib.axes._subplots.AxesSubplot at 0x110450160>"
      ]
     },
     "execution_count": 135,
     "metadata": {},
     "output_type": "execute_result"
    },
    {
     "data": {
      "image/png": "[encoded data removed]",
      "text/plain": [
       "<matplotlib.figure.Figure at 0x1104a0898>"
      ]
     },
     "metadata": {},
     "output_type": "display_data"
    }
   ],
   "source": [
    "ts.groupby(ts.index.year).sum()['views'].plot()"
   ]
  },
  {
   "cell_type": "code",
   "execution_count": 140,
   "metadata": {
    "collapsed": false
   },
   "outputs": [
    {
     "data": {
      "text/plain": [
       "<matplotlib.axes._subplots.AxesSubplot at 0x11071c160>"
      ]
     },
     "execution_count": 140,
     "metadata": {},
     "output_type": "execute_result"
    },
    {
     "data": {
      "image/png": "[encoded data removed]",
      "text/plain": [
       "<matplotlib.figure.Figure at 0x1106112e8>"
      ]
     },
     "metadata": {},
     "output_type": "display_data"
    }
   ],
   "source": [
    "ts.sort_index()['views']['2011':'2017'].cumsum().plot(title='Views Over Time')"
   ]
  },
  {
   "cell_type": "code",
   "execution_count": 141,
   "metadata": {
    "collapsed": false
   },
   "outputs": [
    {
     "data": {
      "text/plain": [
       "<matplotlib.axes._subplots.AxesSubplot at 0x1107066a0>"
      ]
     },
     "execution_count": 141,
     "metadata": {},
     "output_type": "execute_result"
    },
    {
     "data": {
      "image/png": "[encoded data removed]",
      "text/plain": [
       "<matplotlib.figure.Figure at 0x110800dd8>"
      ]
     },
     "metadata": {},
     "output_type": "display_data"
    }
   ],
   "source": [
    "ts.sort_index()['likes']['2011':'2017'].cumsum().plot(title='Views Over Time')"
   ]
  },
  {
   "cell_type": "code",
   "execution_count": 179,
   "metadata": {
    "collapsed": false
   },
   "outputs": [],
   "source": [
    "temp = df1[df1.published_at.dt.year==2017]"
   ]
  },
  {
   "cell_type": "code",
   "execution_count": 183,
   "metadata": {
    "collapsed": true
   },
   "outputs": [],
   "source": [
    "temp = temp[['published_at','rating']]"
   ]
  },
  {
   "cell_type": "code",
   "execution_count": 195,
   "metadata": {
    "collapsed": false
   },
   "outputs": [
    {
     "data": {
      "text/plain": [
       "<matplotlib.axes._subplots.AxesSubplot at 0x1112554a8>"
      ]
     },
     "execution_count": 195,
     "metadata": {},
     "output_type": "execute_result"
    },
    {
     "data": {
      "image/png": "[encoded data removed]",
      "text/plain": [
       "<matplotlib.figure.Figure at 0x111177400>"
      ]
     },
     "metadata": {},
     "output_type": "display_data"
    }
   ],
   "source": [
    "temp.rating.value_counts(sort=False).plot.bar()"
   ]
  },
  {
   "cell_type": "code",
   "execution_count": null,
   "metadata": {
    "collapsed": true
   },
   "outputs": [],
   "source": [
    "df1[df1.published_at.dt.year==2017][['published_at','rating']].rating.value_counts(sort=False).plot.bar()"
   ]
  },
  {
   "cell_type": "code",
   "execution_count": 204,
   "metadata": {
    "collapsed": false
   },
   "outputs": [
    {
     "data": {
      "text/plain": [
       "<matplotlib.axes._subplots.AxesSubplot at 0x1117f9a90>"
      ]
     },
     "execution_count": 204,
     "metadata": {},
     "output_type": "execute_result"
    },
    {
     "data": {
      "image/png": "[encoded data removed]",
      "text/plain": [
       "<matplotlib.figure.Figure at 0x110e0fcc0>"
      ]
     },
     "metadata": {},
     "output_type": "display_data"
    }
   ],
   "source": [
    "df1[df1.published_at.dt.year==2016][['published_at','rating']].rating.value_counts(sort=False).plot.bar()"
   ]
  },
  {
   "cell_type": "code",
   "execution_count": 205,
   "metadata": {
    "collapsed": false,
    "scrolled": true
   },
   "outputs": [
    {
     "name": "stderr",
     "output_type": "stream",
     "text": [
      "/usr/local/lib/python3.5/site-packages/ipykernel/__main__.py:1: SettingWithCopyWarning: \n",
      "A value is trying to be set on a copy of a slice from a DataFrame.\n",
      "Try using .loc[row_indexer,col_indexer] = value instead\n",
      "\n",
      "See the caveats in the documentation: http://pandas.pydata.org/pandas-docs/stable/indexing.html#indexing-view-versus-copy\n",
      "  if __name__ == '__main__':\n"
     ]
    }
   ],
   "source": [
    "df1['year'] = df1.published_at.dt.year"
   ]
  },
  {
   "cell_type": "code",
   "execution_count": 207,
   "metadata": {
    "collapsed": true
   },
   "outputs": [
    {
     "data": {
      "text/plain": [
       "<matplotlib.axes._subplots.AxesSubplot at 0x1119be668>"
      ]
     },
     "execution_count": 207,
     "metadata": {},
     "output_type": "execute_result"
    },
    {
     "data": {
      "image/png": "[encoded data removed]",
      "text/plain": [
       "<matplotlib.figure.Figure at 0x1116497f0>"
      ]
     },
     "metadata": {},
     "output_type": "display_data"
    }
   ],
   "source": [
    "df1.groupby(df1.year)['rating'].mean().plot.bar()"
   ]
  },
  {
   "cell_type": "code",
   "execution_count": 209,
   "metadata": {
    "collapsed": false
   },
   "outputs": [
    {
     "data": {
      "text/plain": [
       "year\n",
       "2010    2.598747\n",
       "2011    2.555300\n",
       "2012    2.570961\n",
       "2013    2.271735\n",
       "2014    2.486993\n",
       "2015    2.485127\n",
       "2016    2.561794\n",
       "2017    2.174796\n",
       "Name: rating, dtype: float64"
      ]
     },
     "execution_count": 209,
     "metadata": {},
     "output_type": "execute_result"
    }
   ],
   "source": [
    "df1.groupby(df1.year)['rating'].var()"
   ]
  },
  {
   "cell_type": "code",
   "execution_count": 216,
   "metadata": {
    "collapsed": false
   },
   "outputs": [
    {
     "data": {
      "text/plain": [
       "year\n",
       "2010    3\n",
       "2012    1\n",
       "2014    2\n",
       "2015    1\n",
       "2016    1\n",
       "2017    1\n",
       "Name: year, dtype: int64"
      ]
     },
     "execution_count": 216,
     "metadata": {},
     "output_type": "execute_result"
    }
   ],
   "source": [
    "df1[df1.rating==10].groupby(df1.year)['year'].count()"
   ]
  },
  {
   "cell_type": "code",
   "execution_count": 225,
   "metadata": {
    "collapsed": false,
    "scrolled": true
   },
   "outputs": [
    {
     "data": {
      "text/html": [
       "<div>\n",
       "<table border=\"1\" class=\"dataframe\">\n",
       "  <thead>\n",
       "    <tr style=\"text-align: right;\">\n",
       "      <th></th>\n",
       "      <th>year</th>\n",
       "      <th>title</th>\n",
       "      <th>artist</th>\n",
       "      <th>album</th>\n",
       "    </tr>\n",
       "  </thead>\n",
       "  <tbody>\n",
       "    <tr>\n",
       "      <th>895</th>\n",
       "      <td>2015</td>\n",
       "      <td>Kendrick Lamar - To Pimp A Butterfly ALBUM REVIEW</td>\n",
       "      <td>Kendrick Lamar</td>\n",
       "      <td>To Pimp A Butterfly ALBUM REVIEW</td>\n",
       "    </tr>\n",
       "    <tr>\n",
       "      <th>1144</th>\n",
       "      <td>2014</td>\n",
       "      <td>Swans - To Be Kind ALBUM REVIEW</td>\n",
       "      <td>Swans</td>\n",
       "      <td>To Be Kind ALBUM REVIEW</td>\n",
       "    </tr>\n",
       "    <tr>\n",
       "      <th>1194</th>\n",
       "      <td>2014</td>\n",
       "      <td>PLANNINGTOROCK - All Love's Legal ALBUM REVIEW</td>\n",
       "      <td>PLANNINGTOROCK</td>\n",
       "      <td>All Love's Legal ALBUM REVIEW</td>\n",
       "    </tr>\n",
       "    <tr>\n",
       "      <th>1835</th>\n",
       "      <td>2012</td>\n",
       "      <td>Death Grips- The Money Store ALBUM REVIEW</td>\n",
       "      <td>Death Grips</td>\n",
       "      <td>The Money Store ALBUM REVIEW</td>\n",
       "    </tr>\n",
       "    <tr>\n",
       "      <th>2421</th>\n",
       "      <td>2010</td>\n",
       "      <td>Gorillaz- Plastic Beach Review</td>\n",
       "      <td>Gorillaz</td>\n",
       "      <td>Plastic Beach</td>\n",
       "    </tr>\n",
       "  </tbody>\n",
       "</table>\n",
       "</div>"
      ],
      "text/plain": [
       "      year                                              title  \\\n",
       "895   2015  Kendrick Lamar - To Pimp A Butterfly ALBUM REVIEW   \n",
       "1144  2014                    Swans - To Be Kind ALBUM REVIEW   \n",
       "1194  2014     PLANNINGTOROCK - All Love's Legal ALBUM REVIEW   \n",
       "1835  2012          Death Grips- The Money Store ALBUM REVIEW   \n",
       "2421  2010                     Gorillaz- Plastic Beach Review   \n",
       "\n",
       "               artist                              album  \n",
       "895   Kendrick Lamar    To Pimp A Butterfly ALBUM REVIEW  \n",
       "1144           Swans             To Be Kind ALBUM REVIEW  \n",
       "1194  PLANNINGTOROCK       All Love's Legal ALBUM REVIEW  \n",
       "1835      Death Grips       The Money Store ALBUM REVIEW  \n",
       "2421         Gorillaz                     Plastic Beach   "
      ]
     },
     "execution_count": 225,
     "metadata": {},
     "output_type": "execute_result"
    }
   ],
   "source": [
    "df1[(df1.rating==10)&(df1.album.notnull())][['year','title','artist','album']]"
   ]
  },
  {
   "cell_type": "code",
   "execution_count": 59,
   "metadata": {
    "collapsed": false
   },
   "outputs": [
    {
     "data": {
      "text/plain": [
       "<matplotlib.axes._subplots.AxesSubplot at 0x1165db278>"
      ]
     },
     "execution_count": 59,
     "metadata": {},
     "output_type": "execute_result"
    },
    {
     "data": {
      "image/png": "[encoded data removed]",
      "text/plain": [
       "<matplotlib.figure.Figure at 0x116355550>"
      ]
     },
     "metadata": {},
     "output_type": "display_data"
    }
   ],
   "source": [
    "data.rating.plot(kind='hist')"
   ]
  },
  {
   "cell_type": "markdown",
   "metadata": {},
   "source": [
    "# Model Building"
   ]
  },
  {
   "cell_type": "code",
   "execution_count": 52,
   "metadata": {
    "collapsed": true
   },
   "outputs": [],
   "source": [
    "data = df[df.rating.notnull()&df.album.notnull()&df.artist.notnull()]"
   ]
  },
  {
   "cell_type": "code",
   "execution_count": 60,
   "metadata": {
    "collapsed": true
   },
   "outputs": [],
   "source": [
    "regModel = linear_model.LinearRegression()"
   ]
  },
  {
   "cell_type": "code",
   "execution_count": 69,
   "metadata": {
    "collapsed": false
   },
   "outputs": [
    {
     "data": {
      "text/plain": [
       "comments       int64\n",
       "likes        float64\n",
       "dislikes     float64\n",
       "favorites      int64\n",
       "rating       float64\n",
       "dtype: object"
      ]
     },
     "execution_count": 69,
     "metadata": {},
     "output_type": "execute_result"
    }
   ],
   "source": [
    "data[['comments','likes','dislikes','favorites','rating']].dtypes"
   ]
  },
  {
   "cell_type": "code",
   "execution_count": 63,
   "metadata": {
    "collapsed": false,
    "scrolled": true
   },
   "outputs": [
    {
     "name": "stderr",
     "output_type": "stream",
     "text": [
      "/usr/local/lib/python3.5/site-packages/scipy/linalg/basic.py:1018: RuntimeWarning: internal gelsd driver lwork query error, required iwork dimension not returned. This is likely the result of LAPACK bug 0038, fixed in LAPACK 3.2.2 (released July 21, 2010). Falling back to 'gelss' driver.\n",
      "  warnings.warn(mesg, RuntimeWarning)\n"
     ]
    },
    {
     "data": {
      "text/plain": [
       "LinearRegression(copy_X=True, fit_intercept=True, n_jobs=1, normalize=False)"
      ]
     },
     "execution_count": 63,
     "metadata": {},
     "output_type": "execute_result"
    }
   ],
   "source": [
    "regModel.fit(data[['comments','likes','dislikes','favorites']], data[['rating']])"
   ]
  },
  {
   "cell_type": "code",
   "execution_count": 73,
   "metadata": {
    "collapsed": false
   },
   "outputs": [
    {
     "data": {
      "text/plain": [
       "array([ 6.42172187])"
      ]
     },
     "execution_count": 73,
     "metadata": {},
     "output_type": "execute_result"
    }
   ],
   "source": [
    "regModel.intercept_"
   ]
  },
  {
   "cell_type": "code",
   "execution_count": 67,
   "metadata": {
    "collapsed": false
   },
   "outputs": [
    {
     "data": {
      "text/plain": [
       "array([[-0.00039813,  0.0002076 , -0.00050401,  0.        ]])"
      ]
     },
     "execution_count": 67,
     "metadata": {},
     "output_type": "execute_result"
    }
   ],
   "source": [
    "regModel.coef_"
   ]
  },
  {
   "cell_type": "code",
   "execution_count": 71,
   "metadata": {
    "collapsed": false
   },
   "outputs": [
    {
     "data": {
      "text/plain": [
       "0.15532445645056192"
      ]
     },
     "execution_count": 71,
     "metadata": {},
     "output_type": "execute_result"
    }
   ],
   "source": [
    "regModel.score(data[['comments','likes','dislikes','favorites']], data[['rating']])"
   ]
  },
  {
   "cell_type": "code",
   "execution_count": 76,
   "metadata": {
    "collapsed": true
   },
   "outputs": [
    {
     "name": "stderr",
     "output_type": "stream",
     "text": [
      "/usr/local/lib/python3.5/site-packages/ipykernel/__main__.py:1: SettingWithCopyWarning: \n",
      "A value is trying to be set on a copy of a slice from a DataFrame.\n",
      "Try using .loc[row_indexer,col_indexer] = value instead\n",
      "\n",
      "See the caveats in the documentation: http://pandas.pydata.org/pandas-docs/stable/indexing.html#indexing-view-versus-copy\n",
      "  if __name__ == '__main__':\n"
     ]
    }
   ],
   "source": [
    "data['pred'] = regModel.predict(data[['comments','likes','dislikes','favorites']])"
   ]
  },
  {
   "cell_type": "code",
   "execution_count": 77,
   "metadata": {
    "collapsed": false
   },
   "outputs": [
    {
     "data": {
      "text/html": [
       "<div>\n",
       "<table border=\"1\" class=\"dataframe\">\n",
       "  <thead>\n",
       "    <tr style=\"text-align: right;\">\n",
       "      <th></th>\n",
       "      <th>rating</th>\n",
       "      <th>pred</th>\n",
       "    </tr>\n",
       "  </thead>\n",
       "  <tbody>\n",
       "    <tr>\n",
       "      <th>1</th>\n",
       "      <td>8.0</td>\n",
       "      <td>6.472785</td>\n",
       "    </tr>\n",
       "    <tr>\n",
       "      <th>3</th>\n",
       "      <td>6.0</td>\n",
       "      <td>6.608160</td>\n",
       "    </tr>\n",
       "    <tr>\n",
       "      <th>4</th>\n",
       "      <td>7.0</td>\n",
       "      <td>6.474337</td>\n",
       "    </tr>\n",
       "    <tr>\n",
       "      <th>7</th>\n",
       "      <td>6.0</td>\n",
       "      <td>6.534127</td>\n",
       "    </tr>\n",
       "    <tr>\n",
       "      <th>8</th>\n",
       "      <td>8.0</td>\n",
       "      <td>6.691115</td>\n",
       "    </tr>\n",
       "  </tbody>\n",
       "</table>\n",
       "</div>"
      ],
      "text/plain": [
       "   rating      pred\n",
       "1     8.0  6.472785\n",
       "3     6.0  6.608160\n",
       "4     7.0  6.474337\n",
       "7     6.0  6.534127\n",
       "8     8.0  6.691115"
      ]
     },
     "execution_count": 77,
     "metadata": {},
     "output_type": "execute_result"
    }
   ],
   "source": [
    "data[['rating','pred']].head()"
   ]
  },
  {
   "cell_type": "code",
   "execution_count": 78,
   "metadata": {
    "collapsed": false
   },
   "outputs": [
    {
     "data": {
      "text/plain": [
       "count    981.000000\n",
       "mean       6.313965\n",
       "std        1.541037\n",
       "min        1.000000\n",
       "25%        5.000000\n",
       "50%        6.000000\n",
       "75%        7.000000\n",
       "max       10.000000\n",
       "Name: rating, dtype: float64"
      ]
     },
     "execution_count": 78,
     "metadata": {},
     "output_type": "execute_result"
    }
   ],
   "source": [
    "data.rating.describe()"
   ]
  },
  {
   "cell_type": "code",
   "execution_count": 79,
   "metadata": {
    "collapsed": false
   },
   "outputs": [
    {
     "data": {
      "text/plain": [
       "7.0     249\n",
       "6.0     225\n",
       "8.0     209\n",
       "5.0     147\n",
       "4.0      65\n",
       "3.0      37\n",
       "9.0      29\n",
       "2.0      15\n",
       "10.0      3\n",
       "1.0       2\n",
       "Name: rating, dtype: int64"
      ]
     },
     "execution_count": 79,
     "metadata": {},
     "output_type": "execute_result"
    }
   ],
   "source": [
    "data.rating.value_counts()"
   ]
  },
  {
   "cell_type": "code",
   "execution_count": 94,
   "metadata": {
    "collapsed": false
   },
   "outputs": [
    {
     "name": "stderr",
     "output_type": "stream",
     "text": [
      "/usr/local/lib/python3.5/site-packages/ipykernel/__main__.py:1: SettingWithCopyWarning: \n",
      "A value is trying to be set on a copy of a slice from a DataFrame.\n",
      "Try using .loc[row_indexer,col_indexer] = value instead\n",
      "\n",
      "See the caveats in the documentation: http://pandas.pydata.org/pandas-docs/stable/indexing.html#indexing-view-versus-copy\n",
      "  if __name__ == '__main__':\n"
     ]
    }
   ],
   "source": [
    "data['rating_bucket'] = data['rating'].astype('str')"
   ]
  },
  {
   "cell_type": "code",
   "execution_count": 98,
   "metadata": {
    "collapsed": false
   },
   "outputs": [
    {
     "name": "stderr",
     "output_type": "stream",
     "text": [
      "/usr/local/lib/python3.5/site-packages/ipykernel/__main__.py:1: SettingWithCopyWarning: \n",
      "A value is trying to be set on a copy of a slice from a DataFrame\n",
      "\n",
      "See the caveats in the documentation: http://pandas.pydata.org/pandas-docs/stable/indexing.html#indexing-view-versus-copy\n",
      "  if __name__ == '__main__':\n",
      "/usr/local/lib/python3.5/site-packages/pandas/core/generic.py:4485: SettingWithCopyWarning: \n",
      "A value is trying to be set on a copy of a slice from a DataFrame\n",
      "\n",
      "See the caveats in the documentation: http://pandas.pydata.org/pandas-docs/stable/indexing.html#indexing-view-versus-copy\n",
      "  self._update_inplace(new_data)\n",
      "/usr/local/lib/python3.5/site-packages/IPython/core/interactiveshell.py:2881: SettingWithCopyWarning: \n",
      "A value is trying to be set on a copy of a slice from a DataFrame\n",
      "\n",
      "See the caveats in the documentation: http://pandas.pydata.org/pandas-docs/stable/indexing.html#indexing-view-versus-copy\n",
      "  exec(code_obj, self.user_global_ns, self.user_ns)\n"
     ]
    }
   ],
   "source": [
    "data['rating_bucket'][data.rating.isin([1,2,3])] = \"1-3\""
   ]
  },
  {
   "cell_type": "code",
   "execution_count": 99,
   "metadata": {
    "collapsed": false,
    "scrolled": true
   },
   "outputs": [
    {
     "data": {
      "text/plain": [
       "7.0     249\n",
       "6.0     225\n",
       "8.0     209\n",
       "5.0     147\n",
       "4.0      65\n",
       "1-3      54\n",
       "9.0      29\n",
       "10.0      3\n",
       "Name: rating_bucket, dtype: int64"
      ]
     },
     "execution_count": 99,
     "metadata": {},
     "output_type": "execute_result"
    }
   ],
   "source": [
    "data.rating_bucket.value_counts()"
   ]
  },
  {
   "cell_type": "code",
   "execution_count": 100,
   "metadata": {
    "collapsed": true
   },
   "outputs": [],
   "source": [
    "multReg = linear_model.LogisticRegression(multi_class='multinomial', solver='newton-cg')"
   ]
  },
  {
   "cell_type": "code",
   "execution_count": 101,
   "metadata": {
    "collapsed": false
   },
   "outputs": [
    {
     "name": "stderr",
     "output_type": "stream",
     "text": [
      "/usr/local/lib/python3.5/site-packages/sklearn/utils/validation.py:526: DataConversionWarning: A column-vector y was passed when a 1d array was expected. Please change the shape of y to (n_samples, ), for example using ravel().\n",
      "  y = column_or_1d(y, warn=True)\n",
      "/usr/local/lib/python3.5/site-packages/sklearn/utils/optimize.py:203: ConvergenceWarning: newton-cg failed to converge. Increase the number of iterations.\n",
      "  \"number of iterations.\", ConvergenceWarning)\n"
     ]
    },
    {
     "data": {
      "text/plain": [
       "LogisticRegression(C=1.0, class_weight=None, dual=False, fit_intercept=True,\n",
       "          intercept_scaling=1, max_iter=100, multi_class='multinomial',\n",
       "          n_jobs=1, penalty='l2', random_state=None, solver='newton-cg',\n",
       "          tol=0.0001, verbose=0, warm_start=False)"
      ]
     },
     "execution_count": 101,
     "metadata": {},
     "output_type": "execute_result"
    }
   ],
   "source": [
    "multReg.fit(data[['comments','likes','dislikes','favorites']], data[['rating_bucket']])"
   ]
  },
  {
   "cell_type": "code",
   "execution_count": 105,
   "metadata": {
    "collapsed": false
   },
   "outputs": [
    {
     "data": {
      "text/plain": [
       "array([[ -5.05031511e-04,  -7.19001309e-04,   1.25457492e-02,\n",
       "          0.00000000e+00],\n",
       "       [  1.91261709e-03,   9.47442124e-04,  -2.23837519e-02,\n",
       "          0.00000000e+00],\n",
       "       [ -3.32265181e-04,  -7.72314832e-04,   1.23537308e-02,\n",
       "          0.00000000e+00],\n",
       "       [ -4.18540291e-04,  -7.88236722e-04,   1.23459109e-02,\n",
       "          0.00000000e+00],\n",
       "       [ -5.27918324e-04,  -6.91251014e-04,   1.20058234e-02,\n",
       "          0.00000000e+00],\n",
       "       [ -1.01470433e-03,   8.65519800e-06,   7.25557590e-03,\n",
       "          0.00000000e+00],\n",
       "       [ -5.04575665e-04,   9.17195430e-04,  -1.02055677e-02,\n",
       "          0.00000000e+00],\n",
       "       [  1.39041822e-03,   1.09751113e-03,  -2.39174706e-02,\n",
       "          0.00000000e+00]])"
      ]
     },
     "execution_count": 105,
     "metadata": {},
     "output_type": "execute_result"
    }
   ],
   "source": [
    "multReg.coef_"
   ]
  },
  {
   "cell_type": "code",
   "execution_count": 102,
   "metadata": {
    "collapsed": false
   },
   "outputs": [
    {
     "name": "stderr",
     "output_type": "stream",
     "text": [
      "/usr/local/lib/python3.5/site-packages/ipykernel/__main__.py:1: SettingWithCopyWarning: \n",
      "A value is trying to be set on a copy of a slice from a DataFrame.\n",
      "Try using .loc[row_indexer,col_indexer] = value instead\n",
      "\n",
      "See the caveats in the documentation: http://pandas.pydata.org/pandas-docs/stable/indexing.html#indexing-view-versus-copy\n",
      "  if __name__ == '__main__':\n"
     ]
    }
   ],
   "source": [
    "data['pred'] = multReg.predict(data[['comments','likes','dislikes','favorites']])"
   ]
  },
  {
   "cell_type": "code",
   "execution_count": 104,
   "metadata": {
    "collapsed": false
   },
   "outputs": [
    {
     "data": {
      "text/html": [
       "<div>\n",
       "<table border=\"1\" class=\"dataframe\">\n",
       "  <thead>\n",
       "    <tr style=\"text-align: right;\">\n",
       "      <th></th>\n",
       "      <th>rating_bucket</th>\n",
       "      <th>pred</th>\n",
       "    </tr>\n",
       "  </thead>\n",
       "  <tbody>\n",
       "    <tr>\n",
       "      <th>1</th>\n",
       "      <td>8.0</td>\n",
       "      <td>8.0</td>\n",
       "    </tr>\n",
       "    <tr>\n",
       "      <th>3</th>\n",
       "      <td>6.0</td>\n",
       "      <td>7.0</td>\n",
       "    </tr>\n",
       "    <tr>\n",
       "      <th>4</th>\n",
       "      <td>7.0</td>\n",
       "      <td>8.0</td>\n",
       "    </tr>\n",
       "    <tr>\n",
       "      <th>7</th>\n",
       "      <td>6.0</td>\n",
       "      <td>7.0</td>\n",
       "    </tr>\n",
       "    <tr>\n",
       "      <th>8</th>\n",
       "      <td>8.0</td>\n",
       "      <td>8.0</td>\n",
       "    </tr>\n",
       "  </tbody>\n",
       "</table>\n",
       "</div>"
      ],
      "text/plain": [
       "  rating_bucket pred\n",
       "1           8.0  8.0\n",
       "3           6.0  7.0\n",
       "4           7.0  8.0\n",
       "7           6.0  7.0\n",
       "8           8.0  8.0"
      ]
     },
     "execution_count": 104,
     "metadata": {},
     "output_type": "execute_result"
    }
   ],
   "source": [
    "data[['rating_bucket','pred']].head()"
   ]
  },
  {
   "cell_type": "code",
   "execution_count": null,
   "metadata": {
    "collapsed": true
   },
   "outputs": [],
   "source": []
  },
  {
   "cell_type": "code",
   "execution_count": null,
   "metadata": {
    "collapsed": true
   },
   "outputs": [],
   "source": []
  }
 ],
 "metadata": {
  "kernelspec": {
   "display_name": "Python 3",
   "language": "python",
   "name": "python3"
  },
  "language_info": {
   "codemirror_mode": {
    "name": "ipython",
    "version": 3
   },
   "file_extension": ".py",
   "mimetype": "text/x-python",
   "name": "python",
   "nbconvert_exporter": "python",
   "pygments_lexer": "ipython3",
   "version": "3.5.2"
  }
 },
 "nbformat": 4,
 "nbformat_minor": 1
}
