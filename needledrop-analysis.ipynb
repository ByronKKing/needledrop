{
 "cells": [
  {
   "cell_type": "code",
   "execution_count": 156,
   "metadata": {
    "collapsed": true
   },
   "outputs": [],
   "source": [
    "import pandas as pd\n",
    "import numpy as np\n",
    "import matplotlib.pyplot as plt\n",
    "from sklearn import datasets, linear_model\n",
    "from sklearn.externals import joblib\n",
    "import os\n",
    "%matplotlib inline\n",
    "import re"
   ]
  },
  {
   "cell_type": "code",
   "execution_count": 186,
   "metadata": {
    "collapsed": true
   },
   "outputs": [],
   "source": [
    "df = pd.read_csv('~/needledrop/raw-data.csv')"
   ]
  },
  {
   "cell_type": "code",
   "execution_count": null,
   "metadata": {
    "collapsed": true
   },
   "outputs": [],
   "source": [
    "#plot likes, comments,dislikes, favorites, views, over time\n",
    "#look at distribution of duration, ratings, genre year over year\n",
    "#fix ratings info\n",
    "\n",
    "#regression model, rating ~ likes + views + favorites + duration + genre\n",
    "#ordered logit model, rating_bucket ~ ...\n",
    "#decision trees, rating_bucket ~ ...\n",
    "#svm, rating_bucket ~ ...\n",
    "#time series, likes/views of video"
   ]
  },
  {
   "cell_type": "markdown",
   "metadata": {},
   "source": [
    "# Preliminary"
   ]
  },
  {
   "cell_type": "code",
   "execution_count": 11,
   "metadata": {
    "collapsed": true
   },
   "outputs": [
    {
     "data": {
      "text/html": [
       "<div>\n",
       "<table border=\"1\" class=\"dataframe\">\n",
       "  <thead>\n",
       "    <tr style=\"text-align: right;\">\n",
       "      <th></th>\n",
       "      <th>altitude</th>\n",
       "      <th>comments</th>\n",
       "      <th>definition</th>\n",
       "      <th>description</th>\n",
       "      <th>dislikes</th>\n",
       "      <th>duration</th>\n",
       "      <th>favorites</th>\n",
       "      <th>id</th>\n",
       "      <th>latitude</th>\n",
       "      <th>likes</th>\n",
       "      <th>live_broadcast</th>\n",
       "      <th>longitude</th>\n",
       "      <th>published_at</th>\n",
       "      <th>tags</th>\n",
       "      <th>thumbnail</th>\n",
       "      <th>title</th>\n",
       "      <th>views</th>\n",
       "      <th>rating</th>\n",
       "    </tr>\n",
       "  </thead>\n",
       "  <tbody>\n",
       "    <tr>\n",
       "      <th>2642</th>\n",
       "      <td>NaN</td>\n",
       "      <td>761</td>\n",
       "      <td>hd</td>\n",
       "      <td>Listen: https://www.youtube.com/watch?v=sRjPDy...</td>\n",
       "      <td>74.0</td>\n",
       "      <td>PT5M40S</td>\n",
       "      <td>0</td>\n",
       "      <td>cFanGXSGDWA</td>\n",
       "      <td>NaN</td>\n",
       "      <td>2853.0</td>\n",
       "      <td>none</td>\n",
       "      <td>NaN</td>\n",
       "      <td>2018-05-26T17:14:46.000Z</td>\n",
       "      <td>['album', 'review', 'music', 'reviews', 'indie...</td>\n",
       "      <td>https://i.ytimg.com/vi/cFanGXSGDWA/sddefault.jpg</td>\n",
       "      <td>Lil B - Platinum Flame MIXTAPE REVIEW</td>\n",
       "      <td>114500.0</td>\n",
       "      <td>NaN</td>\n",
       "    </tr>\n",
       "    <tr>\n",
       "      <th>2643</th>\n",
       "      <td>NaN</td>\n",
       "      <td>433</td>\n",
       "      <td>hd</td>\n",
       "      <td>Listen: https://www.youtube.com/watch?v=LFBh0I...</td>\n",
       "      <td>45.0</td>\n",
       "      <td>PT16M14S</td>\n",
       "      <td>0</td>\n",
       "      <td>HMIUSLOR350</td>\n",
       "      <td>NaN</td>\n",
       "      <td>1303.0</td>\n",
       "      <td>none</td>\n",
       "      <td>NaN</td>\n",
       "      <td>2018-05-25T21:00:20.000Z</td>\n",
       "      <td>['album', 'review', 'music', 'reviews', 'indie...</td>\n",
       "      <td>https://i.ytimg.com/vi/HMIUSLOR350/sddefault.jpg</td>\n",
       "      <td>Mark Kozelek - Mark Kozelek ALBUM REVIEW</td>\n",
       "      <td>68024.0</td>\n",
       "      <td>7.0</td>\n",
       "    </tr>\n",
       "    <tr>\n",
       "      <th>2644</th>\n",
       "      <td>NaN</td>\n",
       "      <td>2101</td>\n",
       "      <td>hd</td>\n",
       "      <td>Listen: https://www.youtube.com/watch?v=k5DHv-...</td>\n",
       "      <td>895.0</td>\n",
       "      <td>PT10M34S</td>\n",
       "      <td>0</td>\n",
       "      <td>m1EiUEIdMr4</td>\n",
       "      <td>NaN</td>\n",
       "      <td>10159.0</td>\n",
       "      <td>none</td>\n",
       "      <td>NaN</td>\n",
       "      <td>2018-05-24T22:09:51.000Z</td>\n",
       "      <td>['album', 'review', 'music', 'reviews', 'indie...</td>\n",
       "      <td>https://i.ytimg.com/vi/m1EiUEIdMr4/sddefault.jpg</td>\n",
       "      <td>Nav's Reckless: NOT GOOD</td>\n",
       "      <td>240839.0</td>\n",
       "      <td>NaN</td>\n",
       "    </tr>\n",
       "    <tr>\n",
       "      <th>2645</th>\n",
       "      <td>NaN</td>\n",
       "      <td>848</td>\n",
       "      <td>hd</td>\n",
       "      <td>Listen: https://www.youtube.com/watch?v=l-Bka7...</td>\n",
       "      <td>83.0</td>\n",
       "      <td>PT9M19S</td>\n",
       "      <td>0</td>\n",
       "      <td>4ZZREmYnygU</td>\n",
       "      <td>NaN</td>\n",
       "      <td>4055.0</td>\n",
       "      <td>none</td>\n",
       "      <td>NaN</td>\n",
       "      <td>2018-05-23T17:20:55.000Z</td>\n",
       "      <td>['album', 'review', 'music', 'reviews', 'indie...</td>\n",
       "      <td>https://i.ytimg.com/vi/4ZZREmYnygU/sddefault.jpg</td>\n",
       "      <td>Parquet Courts - Wide Awake! ALBUM REVIEW</td>\n",
       "      <td>131453.0</td>\n",
       "      <td>9.0</td>\n",
       "    </tr>\n",
       "    <tr>\n",
       "      <th>2646</th>\n",
       "      <td>NaN</td>\n",
       "      <td>705</td>\n",
       "      <td>hd</td>\n",
       "      <td>Listen: https://www.youtube.com/watch?v=Zkj_NH...</td>\n",
       "      <td>32.0</td>\n",
       "      <td>PT5M39S</td>\n",
       "      <td>0</td>\n",
       "      <td>GO_hwQqCDZo</td>\n",
       "      <td>NaN</td>\n",
       "      <td>1718.0</td>\n",
       "      <td>none</td>\n",
       "      <td>NaN</td>\n",
       "      <td>2018-06-01T18:45:04.000Z</td>\n",
       "      <td>['album', 'review', 'music', 'reviews', 'indie...</td>\n",
       "      <td>https://i.ytimg.com/vi/GO_hwQqCDZo/sddefault.jpg</td>\n",
       "      <td>NIKI - Zephyr ALBUM REVIEW</td>\n",
       "      <td>46940.0</td>\n",
       "      <td>7.0</td>\n",
       "    </tr>\n",
       "  </tbody>\n",
       "</table>\n",
       "</div>"
      ],
      "text/plain": [
       "      altitude  comments definition  \\\n",
       "2642       NaN       761         hd   \n",
       "2643       NaN       433         hd   \n",
       "2644       NaN      2101         hd   \n",
       "2645       NaN       848         hd   \n",
       "2646       NaN       705         hd   \n",
       "\n",
       "                                            description  dislikes  duration  \\\n",
       "2642  Listen: https://www.youtube.com/watch?v=sRjPDy...      74.0   PT5M40S   \n",
       "2643  Listen: https://www.youtube.com/watch?v=LFBh0I...      45.0  PT16M14S   \n",
       "2644  Listen: https://www.youtube.com/watch?v=k5DHv-...     895.0  PT10M34S   \n",
       "2645  Listen: https://www.youtube.com/watch?v=l-Bka7...      83.0   PT9M19S   \n",
       "2646  Listen: https://www.youtube.com/watch?v=Zkj_NH...      32.0   PT5M39S   \n",
       "\n",
       "      favorites           id  latitude    likes live_broadcast  longitude  \\\n",
       "2642          0  cFanGXSGDWA       NaN   2853.0           none        NaN   \n",
       "2643          0  HMIUSLOR350       NaN   1303.0           none        NaN   \n",
       "2644          0  m1EiUEIdMr4       NaN  10159.0           none        NaN   \n",
       "2645          0  4ZZREmYnygU       NaN   4055.0           none        NaN   \n",
       "2646          0  GO_hwQqCDZo       NaN   1718.0           none        NaN   \n",
       "\n",
       "                  published_at  \\\n",
       "2642  2018-05-26T17:14:46.000Z   \n",
       "2643  2018-05-25T21:00:20.000Z   \n",
       "2644  2018-05-24T22:09:51.000Z   \n",
       "2645  2018-05-23T17:20:55.000Z   \n",
       "2646  2018-06-01T18:45:04.000Z   \n",
       "\n",
       "                                                   tags  \\\n",
       "2642  ['album', 'review', 'music', 'reviews', 'indie...   \n",
       "2643  ['album', 'review', 'music', 'reviews', 'indie...   \n",
       "2644  ['album', 'review', 'music', 'reviews', 'indie...   \n",
       "2645  ['album', 'review', 'music', 'reviews', 'indie...   \n",
       "2646  ['album', 'review', 'music', 'reviews', 'indie...   \n",
       "\n",
       "                                             thumbnail  \\\n",
       "2642  https://i.ytimg.com/vi/cFanGXSGDWA/sddefault.jpg   \n",
       "2643  https://i.ytimg.com/vi/HMIUSLOR350/sddefault.jpg   \n",
       "2644  https://i.ytimg.com/vi/m1EiUEIdMr4/sddefault.jpg   \n",
       "2645  https://i.ytimg.com/vi/4ZZREmYnygU/sddefault.jpg   \n",
       "2646  https://i.ytimg.com/vi/GO_hwQqCDZo/sddefault.jpg   \n",
       "\n",
       "                                          title     views  rating  \n",
       "2642      Lil B - Platinum Flame MIXTAPE REVIEW  114500.0     NaN  \n",
       "2643   Mark Kozelek - Mark Kozelek ALBUM REVIEW   68024.0     7.0  \n",
       "2644                   Nav's Reckless: NOT GOOD  240839.0     NaN  \n",
       "2645  Parquet Courts - Wide Awake! ALBUM REVIEW  131453.0     9.0  \n",
       "2646                 NIKI - Zephyr ALBUM REVIEW   46940.0     7.0  "
      ]
     },
     "execution_count": 11,
     "metadata": {},
     "output_type": "execute_result"
    }
   ],
   "source": [
    "df.head()"
   ]
  },
  {
   "cell_type": "code",
   "execution_count": 4,
   "metadata": {
    "collapsed": true
   },
   "outputs": [
    {
     "name": "stdout",
     "output_type": "stream",
     "text": [
      "<class 'pandas.core.frame.DataFrame'>\n",
      "RangeIndex: 2647 entries, 0 to 2646\n",
      "Data columns (total 17 columns):\n",
      "altitude          1484 non-null float64\n",
      "comments          2647 non-null int64\n",
      "definition        2647 non-null object\n",
      "description       2647 non-null object\n",
      "dislikes          2646 non-null float64\n",
      "duration          2647 non-null object\n",
      "favorites         2647 non-null int64\n",
      "id                2647 non-null object\n",
      "latitude          1484 non-null float64\n",
      "likes             2646 non-null float64\n",
      "live_broadcast    2647 non-null object\n",
      "longitude         1484 non-null float64\n",
      "published_at      2647 non-null object\n",
      "tags              2647 non-null object\n",
      "thumbnail         2647 non-null object\n",
      "title             2647 non-null object\n",
      "views             2638 non-null float64\n",
      "dtypes: float64(6), int64(2), object(9)\n",
      "memory usage: 351.6+ KB\n"
     ]
    },
    {
     "data": {
      "text/plain": [
       "altitude          float64\n",
       "comments            int64\n",
       "definition         object\n",
       "description        object\n",
       "dislikes          float64\n",
       "duration           object\n",
       "favorites           int64\n",
       "id                 object\n",
       "latitude          float64\n",
       "likes             float64\n",
       "live_broadcast     object\n",
       "longitude         float64\n",
       "published_at       object\n",
       "tags               object\n",
       "thumbnail          object\n",
       "title              object\n",
       "views             float64\n",
       "dtype: object"
      ]
     },
     "execution_count": 4,
     "metadata": {},
     "output_type": "execute_result"
    }
   ],
   "source": [
    "df.info()\n",
    "df.dtypes"
   ]
  },
  {
   "cell_type": "code",
   "execution_count": 5,
   "metadata": {
    "collapsed": false
   },
   "outputs": [
    {
     "name": "stderr",
     "output_type": "stream",
     "text": [
      "/usr/local/lib/python3.5/site-packages/numpy/lib/function_base.py:3834: RuntimeWarning: Invalid value encountered in percentile\n",
      "  RuntimeWarning)\n"
     ]
    },
    {
     "data": {
      "text/html": [
       "<div>\n",
       "<table border=\"1\" class=\"dataframe\">\n",
       "  <thead>\n",
       "    <tr style=\"text-align: right;\">\n",
       "      <th></th>\n",
       "      <th>altitude</th>\n",
       "      <th>comments</th>\n",
       "      <th>dislikes</th>\n",
       "      <th>favorites</th>\n",
       "      <th>latitude</th>\n",
       "      <th>likes</th>\n",
       "      <th>longitude</th>\n",
       "      <th>views</th>\n",
       "    </tr>\n",
       "  </thead>\n",
       "  <tbody>\n",
       "    <tr>\n",
       "      <th>count</th>\n",
       "      <td>1484.0</td>\n",
       "      <td>2647.000000</td>\n",
       "      <td>2646.000000</td>\n",
       "      <td>2647.0</td>\n",
       "      <td>1.484000e+03</td>\n",
       "      <td>2646.000000</td>\n",
       "      <td>1.484000e+03</td>\n",
       "      <td>2.638000e+03</td>\n",
       "    </tr>\n",
       "    <tr>\n",
       "      <th>mean</th>\n",
       "      <td>0.0</td>\n",
       "      <td>775.334719</td>\n",
       "      <td>243.115268</td>\n",
       "      <td>0.0</td>\n",
       "      <td>4.160322e+01</td>\n",
       "      <td>2104.977702</td>\n",
       "      <td>-7.308775e+01</td>\n",
       "      <td>1.119944e+05</td>\n",
       "    </tr>\n",
       "    <tr>\n",
       "      <th>std</th>\n",
       "      <td>0.0</td>\n",
       "      <td>1094.418634</td>\n",
       "      <td>825.344267</td>\n",
       "      <td>0.0</td>\n",
       "      <td>1.297691e-07</td>\n",
       "      <td>3719.697706</td>\n",
       "      <td>2.259050e-07</td>\n",
       "      <td>1.554478e+05</td>\n",
       "    </tr>\n",
       "    <tr>\n",
       "      <th>min</th>\n",
       "      <td>0.0</td>\n",
       "      <td>0.000000</td>\n",
       "      <td>0.000000</td>\n",
       "      <td>0.0</td>\n",
       "      <td>4.160322e+01</td>\n",
       "      <td>33.000000</td>\n",
       "      <td>-7.308775e+01</td>\n",
       "      <td>1.132000e+03</td>\n",
       "    </tr>\n",
       "    <tr>\n",
       "      <th>25%</th>\n",
       "      <td>NaN</td>\n",
       "      <td>238.000000</td>\n",
       "      <td>NaN</td>\n",
       "      <td>0.0</td>\n",
       "      <td>NaN</td>\n",
       "      <td>NaN</td>\n",
       "      <td>NaN</td>\n",
       "      <td>NaN</td>\n",
       "    </tr>\n",
       "    <tr>\n",
       "      <th>50%</th>\n",
       "      <td>NaN</td>\n",
       "      <td>439.000000</td>\n",
       "      <td>NaN</td>\n",
       "      <td>0.0</td>\n",
       "      <td>NaN</td>\n",
       "      <td>NaN</td>\n",
       "      <td>NaN</td>\n",
       "      <td>NaN</td>\n",
       "    </tr>\n",
       "    <tr>\n",
       "      <th>75%</th>\n",
       "      <td>NaN</td>\n",
       "      <td>858.000000</td>\n",
       "      <td>NaN</td>\n",
       "      <td>0.0</td>\n",
       "      <td>NaN</td>\n",
       "      <td>NaN</td>\n",
       "      <td>NaN</td>\n",
       "      <td>NaN</td>\n",
       "    </tr>\n",
       "    <tr>\n",
       "      <th>max</th>\n",
       "      <td>0.0</td>\n",
       "      <td>15588.000000</td>\n",
       "      <td>17720.000000</td>\n",
       "      <td>0.0</td>\n",
       "      <td>4.160322e+01</td>\n",
       "      <td>47392.000000</td>\n",
       "      <td>-7.308775e+01</td>\n",
       "      <td>2.431775e+06</td>\n",
       "    </tr>\n",
       "  </tbody>\n",
       "</table>\n",
       "</div>"
      ],
      "text/plain": [
       "       altitude      comments      dislikes  favorites      latitude  \\\n",
       "count    1484.0   2647.000000   2646.000000     2647.0  1.484000e+03   \n",
       "mean        0.0    775.334719    243.115268        0.0  4.160322e+01   \n",
       "std         0.0   1094.418634    825.344267        0.0  1.297691e-07   \n",
       "min         0.0      0.000000      0.000000        0.0  4.160322e+01   \n",
       "25%         NaN    238.000000           NaN        0.0           NaN   \n",
       "50%         NaN    439.000000           NaN        0.0           NaN   \n",
       "75%         NaN    858.000000           NaN        0.0           NaN   \n",
       "max         0.0  15588.000000  17720.000000        0.0  4.160322e+01   \n",
       "\n",
       "              likes     longitude         views  \n",
       "count   2646.000000  1.484000e+03  2.638000e+03  \n",
       "mean    2104.977702 -7.308775e+01  1.119944e+05  \n",
       "std     3719.697706  2.259050e-07  1.554478e+05  \n",
       "min       33.000000 -7.308775e+01  1.132000e+03  \n",
       "25%             NaN           NaN           NaN  \n",
       "50%             NaN           NaN           NaN  \n",
       "75%             NaN           NaN           NaN  \n",
       "max    47392.000000 -7.308775e+01  2.431775e+06  "
      ]
     },
     "execution_count": 5,
     "metadata": {},
     "output_type": "execute_result"
    }
   ],
   "source": [
    "df.describe()"
   ]
  },
  {
   "cell_type": "code",
   "execution_count": 6,
   "metadata": {
    "collapsed": false
   },
   "outputs": [
    {
     "data": {
      "text/plain": [
       "altitude          1163\n",
       "comments             0\n",
       "definition           0\n",
       "description          0\n",
       "dislikes             1\n",
       "duration             0\n",
       "favorites            0\n",
       "id                   0\n",
       "latitude          1163\n",
       "likes                1\n",
       "live_broadcast       0\n",
       "longitude         1163\n",
       "published_at         0\n",
       "tags                 0\n",
       "thumbnail            0\n",
       "title                0\n",
       "views                9\n",
       "dtype: int64"
      ]
     },
     "execution_count": 6,
     "metadata": {},
     "output_type": "execute_result"
    }
   ],
   "source": [
    "df.isnull().sum()"
   ]
  },
  {
   "cell_type": "code",
   "execution_count": 39,
   "metadata": {
    "collapsed": true
   },
   "outputs": [],
   "source": [
    "df['description'] = df['description'].astype('str')"
   ]
  },
  {
   "cell_type": "markdown",
   "metadata": {
    "collapsed": true
   },
   "source": [
    "# Processing"
   ]
  },
  {
   "cell_type": "code",
   "execution_count": 73,
   "metadata": {
    "collapsed": false
   },
   "outputs": [
    {
     "name": "stderr",
     "output_type": "stream",
     "text": [
      "/usr/local/lib/python3.5/site-packages/ipykernel/__main__.py:3: SettingWithCopyWarning: \n",
      "A value is trying to be set on a copy of a slice from a DataFrame\n",
      "\n",
      "See the caveats in the documentation: http://pandas.pydata.org/pandas-docs/stable/indexing.html#indexing-view-versus-copy\n",
      "  app.launch_new_instance()\n",
      "/usr/local/lib/python3.5/site-packages/ipykernel/__main__.py:4: SettingWithCopyWarning: \n",
      "A value is trying to be set on a copy of a slice from a DataFrame\n",
      "\n",
      "See the caveats in the documentation: http://pandas.pydata.org/pandas-docs/stable/indexing.html#indexing-view-versus-copy\n",
      "/usr/local/lib/python3.5/site-packages/ipykernel/__main__.py:5: SettingWithCopyWarning: \n",
      "A value is trying to be set on a copy of a slice from a DataFrame\n",
      "\n",
      "See the caveats in the documentation: http://pandas.pydata.org/pandas-docs/stable/indexing.html#indexing-view-versus-copy\n",
      "/usr/local/lib/python3.5/site-packages/ipykernel/__main__.py:6: SettingWithCopyWarning: \n",
      "A value is trying to be set on a copy of a slice from a DataFrame\n",
      "\n",
      "See the caveats in the documentation: http://pandas.pydata.org/pandas-docs/stable/indexing.html#indexing-view-versus-copy\n",
      "/usr/local/lib/python3.5/site-packages/ipykernel/__main__.py:7: SettingWithCopyWarning: \n",
      "A value is trying to be set on a copy of a slice from a DataFrame\n",
      "\n",
      "See the caveats in the documentation: http://pandas.pydata.org/pandas-docs/stable/indexing.html#indexing-view-versus-copy\n",
      "/usr/local/lib/python3.5/site-packages/ipykernel/__main__.py:8: SettingWithCopyWarning: \n",
      "A value is trying to be set on a copy of a slice from a DataFrame\n",
      "\n",
      "See the caveats in the documentation: http://pandas.pydata.org/pandas-docs/stable/indexing.html#indexing-view-versus-copy\n",
      "/usr/local/lib/python3.5/site-packages/ipykernel/__main__.py:9: SettingWithCopyWarning: \n",
      "A value is trying to be set on a copy of a slice from a DataFrame\n",
      "\n",
      "See the caveats in the documentation: http://pandas.pydata.org/pandas-docs/stable/indexing.html#indexing-view-versus-copy\n",
      "/usr/local/lib/python3.5/site-packages/ipykernel/__main__.py:10: SettingWithCopyWarning: \n",
      "A value is trying to be set on a copy of a slice from a DataFrame\n",
      "\n",
      "See the caveats in the documentation: http://pandas.pydata.org/pandas-docs/stable/indexing.html#indexing-view-versus-copy\n",
      "/usr/local/lib/python3.5/site-packages/ipykernel/__main__.py:11: SettingWithCopyWarning: \n",
      "A value is trying to be set on a copy of a slice from a DataFrame\n",
      "\n",
      "See the caveats in the documentation: http://pandas.pydata.org/pandas-docs/stable/indexing.html#indexing-view-versus-copy\n",
      "/usr/local/lib/python3.5/site-packages/ipykernel/__main__.py:12: SettingWithCopyWarning: \n",
      "A value is trying to be set on a copy of a slice from a DataFrame\n",
      "\n",
      "See the caveats in the documentation: http://pandas.pydata.org/pandas-docs/stable/indexing.html#indexing-view-versus-copy\n"
     ]
    }
   ],
   "source": [
    "#get rating\n",
    "df['rating'] = None\n",
    "df['rating'][df['description'].str.contains('1/10', case=False, na=False)] = 1\n",
    "df['rating'][df['description'].str.contains('2/10', case=False, na=False)] = 2\n",
    "df['rating'][df['description'].str.contains('3/10', case=False, na=False)] = 3\n",
    "df['rating'][df['description'].str.contains('4/10', case=False, na=False)] = 4\n",
    "df['rating'][df['description'].str.contains('5/10', case=False, na=False)] = 5\n",
    "df['rating'][df['description'].str.contains('6/10', case=False, na=False)] = 6\n",
    "df['rating'][df['description'].str.contains('7/10', case=False, na=False)] = 7\n",
    "df['rating'][df['description'].str.contains('8/10', case=False, na=False)] = 8\n",
    "df['rating'][df['description'].str.contains('9/10', case=False, na=False)] = 9\n",
    "df['rating'][df['description'].str.contains('10/10', case=False, na=False)] = 10"
   ]
  },
  {
   "cell_type": "code",
   "execution_count": 41,
   "metadata": {
    "collapsed": true
   },
   "outputs": [],
   "source": [
    "df['rating'] = pd.to_numeric(df['rating'])"
   ]
  },
  {
   "cell_type": "code",
   "execution_count": 42,
   "metadata": {
    "collapsed": false
   },
   "outputs": [
    {
     "data": {
      "text/plain": [
       "2635                             GREAT ALBUMS: April 2018\n",
       "2636    Weekly Track Roundup: 5/6 (Childish Gambino - ...\n",
       "2641    Weekly Track Roundup: 5/27 (Drake and Death Gr...\n",
       "2642                Lil B - Platinum Flame MIXTAPE REVIEW\n",
       "2644                             Nav's Reckless: NOT GOOD\n",
       "Name: title, dtype: object"
      ]
     },
     "execution_count": 42,
     "metadata": {},
     "output_type": "execute_result"
    }
   ],
   "source": [
    "df['title'][df['rating'].isnull()].head()"
   ]
  },
  {
   "cell_type": "code",
   "execution_count": 43,
   "metadata": {
    "collapsed": true
   },
   "outputs": [],
   "source": [
    "#get album\n",
    "def test_title(x):\n",
    "    xx = x.split(' - ')\n",
    "    if len(xx) > 1:\n",
    "        return(xx[1])\n",
    "    \n",
    "df['album'] = df['title'].apply(test_title)"
   ]
  },
  {
   "cell_type": "code",
   "execution_count": 46,
   "metadata": {
    "collapsed": true
   },
   "outputs": [
    {
     "data": {
      "text/html": [
       "<div>\n",
       "<table border=\"1\" class=\"dataframe\">\n",
       "  <thead>\n",
       "    <tr style=\"text-align: right;\">\n",
       "      <th></th>\n",
       "      <th>altitude</th>\n",
       "      <th>comments</th>\n",
       "      <th>definition</th>\n",
       "      <th>description</th>\n",
       "      <th>dislikes</th>\n",
       "      <th>duration</th>\n",
       "      <th>favorites</th>\n",
       "      <th>id</th>\n",
       "      <th>latitude</th>\n",
       "      <th>likes</th>\n",
       "      <th>live_broadcast</th>\n",
       "      <th>longitude</th>\n",
       "      <th>published_at</th>\n",
       "      <th>tags</th>\n",
       "      <th>thumbnail</th>\n",
       "      <th>title</th>\n",
       "      <th>views</th>\n",
       "      <th>rating</th>\n",
       "      <th>album</th>\n",
       "    </tr>\n",
       "  </thead>\n",
       "  <tbody>\n",
       "    <tr>\n",
       "      <th>0</th>\n",
       "      <td>0.0</td>\n",
       "      <td>4973</td>\n",
       "      <td>sd</td>\n",
       "      <td>I defend myself against a recent hitjob in The...</td>\n",
       "      <td>614.0</td>\n",
       "      <td>PT21M30S</td>\n",
       "      <td>0</td>\n",
       "      <td>2UZqIIy7pAk</td>\n",
       "      <td>41.603222</td>\n",
       "      <td>35361.0</td>\n",
       "      <td>none</td>\n",
       "      <td>-73.087753</td>\n",
       "      <td>2017-10-07T00:22:24.000Z</td>\n",
       "      <td>['album', 'review', 'music', 'reviews', 'indie...</td>\n",
       "      <td>https://i.ytimg.com/vi/2UZqIIy7pAk/sddefault.jpg</td>\n",
       "      <td>The Fader Response</td>\n",
       "      <td>349152.0</td>\n",
       "      <td>NaN</td>\n",
       "      <td>None</td>\n",
       "    </tr>\n",
       "    <tr>\n",
       "      <th>2</th>\n",
       "      <td>0.0</td>\n",
       "      <td>920</td>\n",
       "      <td>hd</td>\n",
       "      <td>Young Thug &amp; Carnage - Young Martha EP\\nReview...</td>\n",
       "      <td>125.0</td>\n",
       "      <td>PT7M13S</td>\n",
       "      <td>0</td>\n",
       "      <td>uOJW7JwgA6Q</td>\n",
       "      <td>41.603222</td>\n",
       "      <td>2347.0</td>\n",
       "      <td>none</td>\n",
       "      <td>-73.087753</td>\n",
       "      <td>2017-10-04T17:18:48.000Z</td>\n",
       "      <td>['album', 'review', 'music', 'reviews', 'indie...</td>\n",
       "      <td>https://i.ytimg.com/vi/uOJW7JwgA6Q/sddefault.jpg</td>\n",
       "      <td>GREAT ALBUMS: September 2017</td>\n",
       "      <td>106889.0</td>\n",
       "      <td>NaN</td>\n",
       "      <td>None</td>\n",
       "    </tr>\n",
       "    <tr>\n",
       "      <th>5</th>\n",
       "      <td>0.0</td>\n",
       "      <td>1217</td>\n",
       "      <td>hd</td>\n",
       "      <td>The magical monthly segment where I briefly to...</td>\n",
       "      <td>81.0</td>\n",
       "      <td>PT15M43S</td>\n",
       "      <td>0</td>\n",
       "      <td>t3Vdww9zlWY</td>\n",
       "      <td>41.603222</td>\n",
       "      <td>2356.0</td>\n",
       "      <td>none</td>\n",
       "      <td>-73.087753</td>\n",
       "      <td>2017-10-02T15:58:28.000Z</td>\n",
       "      <td>['album', 'review', 'music', 'reviews', 'indie...</td>\n",
       "      <td>https://i.ytimg.com/vi/t3Vdww9zlWY/sddefault.jpg</td>\n",
       "      <td>YUNOREVIEW: September 2017 (Prophets of Rage, ...</td>\n",
       "      <td>98583.0</td>\n",
       "      <td>NaN</td>\n",
       "      <td>None</td>\n",
       "    </tr>\n",
       "    <tr>\n",
       "      <th>6</th>\n",
       "      <td>0.0</td>\n",
       "      <td>680</td>\n",
       "      <td>hd</td>\n",
       "      <td>TND tour dates and tix: http://www.theneedledr...</td>\n",
       "      <td>53.0</td>\n",
       "      <td>PT16M40S</td>\n",
       "      <td>0</td>\n",
       "      <td>B5lZ7M3Qkdk</td>\n",
       "      <td>41.603222</td>\n",
       "      <td>2349.0</td>\n",
       "      <td>none</td>\n",
       "      <td>-73.087753</td>\n",
       "      <td>2017-10-02T01:21:11.000Z</td>\n",
       "      <td>['album', 'review', 'music', 'reviews', 'indie...</td>\n",
       "      <td>https://i.ytimg.com/vi/B5lZ7M3Qkdk/sddefault.jpg</td>\n",
       "      <td>Best &amp; Worst Tracks: 10/1 (Rich The Kid ft. Ke...</td>\n",
       "      <td>138819.0</td>\n",
       "      <td>7.0</td>\n",
       "      <td>None</td>\n",
       "    </tr>\n",
       "    <tr>\n",
       "      <th>14</th>\n",
       "      <td>0.0</td>\n",
       "      <td>1273</td>\n",
       "      <td>hd</td>\n",
       "      <td>Today I'm talking about how memetic humor has ...</td>\n",
       "      <td>161.0</td>\n",
       "      <td>PT9M10S</td>\n",
       "      <td>0</td>\n",
       "      <td>dODwQFcIoKE</td>\n",
       "      <td>41.603222</td>\n",
       "      <td>10332.0</td>\n",
       "      <td>none</td>\n",
       "      <td>-73.087753</td>\n",
       "      <td>2017-09-25T17:47:31.000Z</td>\n",
       "      <td>['album', 'review', 'music', 'reviews', 'indie...</td>\n",
       "      <td>https://i.ytimg.com/vi/dODwQFcIoKE/sddefault.jpg</td>\n",
       "      <td>Memes Are the Future of Music Promotion</td>\n",
       "      <td>194705.0</td>\n",
       "      <td>NaN</td>\n",
       "      <td>None</td>\n",
       "    </tr>\n",
       "  </tbody>\n",
       "</table>\n",
       "</div>"
      ],
      "text/plain": [
       "    altitude  comments definition  \\\n",
       "0        0.0      4973         sd   \n",
       "2        0.0       920         hd   \n",
       "5        0.0      1217         hd   \n",
       "6        0.0       680         hd   \n",
       "14       0.0      1273         hd   \n",
       "\n",
       "                                          description  dislikes  duration  \\\n",
       "0   I defend myself against a recent hitjob in The...     614.0  PT21M30S   \n",
       "2   Young Thug & Carnage - Young Martha EP\\nReview...     125.0   PT7M13S   \n",
       "5   The magical monthly segment where I briefly to...      81.0  PT15M43S   \n",
       "6   TND tour dates and tix: http://www.theneedledr...      53.0  PT16M40S   \n",
       "14  Today I'm talking about how memetic humor has ...     161.0   PT9M10S   \n",
       "\n",
       "    favorites           id   latitude    likes live_broadcast  longitude  \\\n",
       "0           0  2UZqIIy7pAk  41.603222  35361.0           none -73.087753   \n",
       "2           0  uOJW7JwgA6Q  41.603222   2347.0           none -73.087753   \n",
       "5           0  t3Vdww9zlWY  41.603222   2356.0           none -73.087753   \n",
       "6           0  B5lZ7M3Qkdk  41.603222   2349.0           none -73.087753   \n",
       "14          0  dODwQFcIoKE  41.603222  10332.0           none -73.087753   \n",
       "\n",
       "                published_at  \\\n",
       "0   2017-10-07T00:22:24.000Z   \n",
       "2   2017-10-04T17:18:48.000Z   \n",
       "5   2017-10-02T15:58:28.000Z   \n",
       "6   2017-10-02T01:21:11.000Z   \n",
       "14  2017-09-25T17:47:31.000Z   \n",
       "\n",
       "                                                 tags  \\\n",
       "0   ['album', 'review', 'music', 'reviews', 'indie...   \n",
       "2   ['album', 'review', 'music', 'reviews', 'indie...   \n",
       "5   ['album', 'review', 'music', 'reviews', 'indie...   \n",
       "6   ['album', 'review', 'music', 'reviews', 'indie...   \n",
       "14  ['album', 'review', 'music', 'reviews', 'indie...   \n",
       "\n",
       "                                           thumbnail  \\\n",
       "0   https://i.ytimg.com/vi/2UZqIIy7pAk/sddefault.jpg   \n",
       "2   https://i.ytimg.com/vi/uOJW7JwgA6Q/sddefault.jpg   \n",
       "5   https://i.ytimg.com/vi/t3Vdww9zlWY/sddefault.jpg   \n",
       "6   https://i.ytimg.com/vi/B5lZ7M3Qkdk/sddefault.jpg   \n",
       "14  https://i.ytimg.com/vi/dODwQFcIoKE/sddefault.jpg   \n",
       "\n",
       "                                                title     views  rating album  \n",
       "0                                  The Fader Response  349152.0     NaN  None  \n",
       "2                        GREAT ALBUMS: September 2017  106889.0     NaN  None  \n",
       "5   YUNOREVIEW: September 2017 (Prophets of Rage, ...   98583.0     NaN  None  \n",
       "6   Best & Worst Tracks: 10/1 (Rich The Kid ft. Ke...  138819.0     7.0  None  \n",
       "14            Memes Are the Future of Music Promotion  194705.0     NaN  None  "
      ]
     },
     "execution_count": 46,
     "metadata": {},
     "output_type": "execute_result"
    }
   ],
   "source": [
    "df['album'] = df.album.str.replace(\"Review\",\"\")\n",
    "df['album'] = df.album.str.replace(\"ALBUM REVIEW\",\"\")\n",
    "df['album'] = df.album.str.replace(\"EP REVIEW\",\"\")\n",
    "df['album'] = df.album.str.replace(\"EP Review\",\"\")\n",
    "df['album'] = df.album.str.replace(\"MIXTAPE REVIEW\",\"\")\n",
    "df['album'] = df.album.str.replace(\"REVIEW\",\"\")\n",
    "df['album'] = df.album.str.replace(\"QUICKIE\",\"\")\n",
    "df['album'] = df.album.str.replace(\"ALBUM\",\"\")\n",
    "df['album'] = df.album.str.replace(\"MIXTAPE\",\"\")\n",
    "df['album'] = df.album.str.replace(\"COMPILATION\",\"\")\n",
    "df['album'] = df.album.str.replace(\"TRACK\",\"\")\n",
    "df[df['album'].isnull()].head()"
   ]
  },
  {
   "cell_type": "code",
   "execution_count": 31,
   "metadata": {
    "collapsed": false
   },
   "outputs": [
    {
     "data": {
      "text/plain": [
       "0                          None\n",
       "1                Neō Wax Bloom \n",
       "2                          None\n",
       "3                     Deadstar \n",
       "4    Drive It Like It's Stolen \n",
       "Name: album, dtype: object"
      ]
     },
     "execution_count": 31,
     "metadata": {},
     "output_type": "execute_result"
    }
   ],
   "source": [
    "df.album.head()"
   ]
  },
  {
   "cell_type": "code",
   "execution_count": 138,
   "metadata": {
    "collapsed": false
   },
   "outputs": [],
   "source": [
    "temp = df['title'][df.artist.isnull()].apply(lambda x: x.split('- ')[0])"
   ]
  },
  {
   "cell_type": "code",
   "execution_count": 215,
   "metadata": {
    "collapsed": false
   },
   "outputs": [
    {
     "data": {
      "text/plain": [
       "0              The Fader Response\n",
       "1                     Iglooghost \n",
       "2    GREAT ALBUMS: September 2017\n",
       "3                     Smokepurpp \n",
       "4                 Injury Reserve \n",
       "Name: artist, dtype: object"
      ]
     },
     "execution_count": 215,
     "metadata": {},
     "output_type": "execute_result"
    }
   ],
   "source": [
    "#get artist\n",
    "\n",
    "#first string replace on the hyphen to standardize it\n",
    "def sub_func(x):\n",
    "    y = re.sub('- ',' - ',str(x))\n",
    "    return(y)\n",
    "\n",
    "df['title'] = df.title.apply(sub_func)\n",
    "\n",
    "#then split on the hyphen\n",
    "df['artist'] = df['title'].apply(lambda x: x.split(' - ')[0])\n",
    "\n",
    "df['artist'].head()"
   ]
  },
  {
   "cell_type": "code",
   "execution_count": 52,
   "metadata": {
    "collapsed": true
   },
   "outputs": [
    {
     "name": "stderr",
     "output_type": "stream",
     "text": [
      "/usr/local/lib/python3.5/site-packages/ipykernel/__main__.py:3: SettingWithCopyWarning: \n",
      "A value is trying to be set on a copy of a slice from a DataFrame\n",
      "\n",
      "See the caveats in the documentation: http://pandas.pydata.org/pandas-docs/stable/indexing.html#indexing-view-versus-copy\n",
      "  app.launch_new_instance()\n",
      "/usr/local/lib/python3.5/site-packages/ipykernel/__main__.py:5: SettingWithCopyWarning: \n",
      "A value is trying to be set on a copy of a slice from a DataFrame\n",
      "\n",
      "See the caveats in the documentation: http://pandas.pydata.org/pandas-docs/stable/indexing.html#indexing-view-versus-copy\n",
      "/usr/local/lib/python3.5/site-packages/ipykernel/__main__.py:7: SettingWithCopyWarning: \n",
      "A value is trying to be set on a copy of a slice from a DataFrame\n",
      "\n",
      "See the caveats in the documentation: http://pandas.pydata.org/pandas-docs/stable/indexing.html#indexing-view-versus-copy\n",
      "/usr/local/lib/python3.5/site-packages/ipykernel/__main__.py:9: SettingWithCopyWarning: \n",
      "A value is trying to be set on a copy of a slice from a DataFrame\n",
      "\n",
      "See the caveats in the documentation: http://pandas.pydata.org/pandas-docs/stable/indexing.html#indexing-view-versus-copy\n",
      "/usr/local/lib/python3.5/site-packages/ipykernel/__main__.py:11: SettingWithCopyWarning: \n",
      "A value is trying to be set on a copy of a slice from a DataFrame\n",
      "\n",
      "See the caveats in the documentation: http://pandas.pydata.org/pandas-docs/stable/indexing.html#indexing-view-versus-copy\n",
      "/usr/local/lib/python3.5/site-packages/ipykernel/__main__.py:13: SettingWithCopyWarning: \n",
      "A value is trying to be set on a copy of a slice from a DataFrame\n",
      "\n",
      "See the caveats in the documentation: http://pandas.pydata.org/pandas-docs/stable/indexing.html#indexing-view-versus-copy\n",
      "/usr/local/lib/python3.5/site-packages/ipykernel/__main__.py:15: SettingWithCopyWarning: \n",
      "A value is trying to be set on a copy of a slice from a DataFrame\n",
      "\n",
      "See the caveats in the documentation: http://pandas.pydata.org/pandas-docs/stable/indexing.html#indexing-view-versus-copy\n",
      "/usr/local/lib/python3.5/site-packages/ipykernel/__main__.py:17: SettingWithCopyWarning: \n",
      "A value is trying to be set on a copy of a slice from a DataFrame\n",
      "\n",
      "See the caveats in the documentation: http://pandas.pydata.org/pandas-docs/stable/indexing.html#indexing-view-versus-copy\n",
      "/usr/local/lib/python3.5/site-packages/ipykernel/__main__.py:19: SettingWithCopyWarning: \n",
      "A value is trying to be set on a copy of a slice from a DataFrame\n",
      "\n",
      "See the caveats in the documentation: http://pandas.pydata.org/pandas-docs/stable/indexing.html#indexing-view-versus-copy\n",
      "/usr/local/lib/python3.5/site-packages/ipykernel/__main__.py:21: SettingWithCopyWarning: \n",
      "A value is trying to be set on a copy of a slice from a DataFrame\n",
      "\n",
      "See the caveats in the documentation: http://pandas.pydata.org/pandas-docs/stable/indexing.html#indexing-view-versus-copy\n",
      "/usr/local/lib/python3.5/site-packages/ipykernel/__main__.py:23: SettingWithCopyWarning: \n",
      "A value is trying to be set on a copy of a slice from a DataFrame\n",
      "\n",
      "See the caveats in the documentation: http://pandas.pydata.org/pandas-docs/stable/indexing.html#indexing-view-versus-copy\n"
     ]
    }
   ],
   "source": [
    "#get genre\n",
    "df['electronic'] = 0\n",
    "df['electronic'][df['tags'].str.contains('electronic', case=False, na=False)] = 1\n",
    "df['hip_hop'] = 0\n",
    "df['hip_hop'][df['tags'].str.contains('hip hop', case=False, na=False)] = 1\n",
    "df['metal'] = 0\n",
    "df['metal'][df['tags'].str.contains('metal', case=False, na=False)] = 1\n",
    "df['folk'] = 0\n",
    "df['folk'][df['tags'].str.contains('folk', case=False, na=False)] = 1\n",
    "df['indie'] = 0\n",
    "df['indie'][df['tags'].str.contains('indie', case=False, na=False)] = 1\n",
    "df['underground'] = 0\n",
    "df['underground'][df['tags'].str.contains('underground', case=False, na=False)] = 1\n",
    "df['experimental'] = 0\n",
    "df['experimental'][df['tags'].str.contains('experimental', case=False, na=False)] = 1\n",
    "df['instrumental'] = 0\n",
    "df['instrumental'][df['tags'].str.contains('instrumental', case=False, na=False)] = 1\n",
    "df['rock'] = 0\n",
    "df['rock'][df['tags'].str.contains('rock', case=False, na=False)] = 1\n",
    "df['rap'] = 0\n",
    "df['rap'][df['tags'].str.contains('rap', case=False, na=False)] = 1\n",
    "df['jazz'] = 0\n",
    "df['jazz'][df['tags'].str.contains('jazz', case=False, na=False)] = 1"
   ]
  },
  {
   "cell_type": "code",
   "execution_count": 58,
   "metadata": {
    "collapsed": false
   },
   "outputs": [
    {
     "data": {
      "text/plain": [
       "1                      Iglooghost\n",
       "2    GREAT ALBUMS: September 2017\n",
       "3                      Smokepurpp\n",
       "4                  Injury Reserve\n",
       "8            Young Thug & Carnage\n",
       "Name: artist, dtype: object"
      ]
     },
     "execution_count": 58,
     "metadata": {},
     "output_type": "execute_result"
    }
   ],
   "source": [
    "df.artist[df.hip_hop==1].head()"
   ]
  },
  {
   "cell_type": "code",
   "execution_count": 88,
   "metadata": {
    "collapsed": false,
    "scrolled": false
   },
   "outputs": [
    {
     "data": {
      "text/plain": [
       "\"Listen: https://www.youtube.com/watch?v=6m5du_V0_UI&ab_channel=Brainfeedermedia\\n\\nIglooghost makes his full-length Brainfeeder debut with the impressive and fantastical Neō Wax Bloom.\\n\\nBuy this album: http://amzn.to/2xl8Iha\\n\\nMore electronic reviews: https://www.youtube.com/playlist?list=PLP4CSgl7K7ormX2pL9h0inES2Ub630NoL\\n\\n===================================\\nSubscribe: http://bit.ly/1pBqGCN\\n\\nOfficial site: http://theneedledrop.com\\n\\nTND Twitter: http://twitter.com/theneedledrop\\n\\nTND Facebook: http://facebook.com/theneedledrop\\n\\nSupport TND: http://theneedledrop.com/support\\n===================================\\n\\nFAV TRACKS: SUPER INK BURST, BUG THIEF, SOLAR BLADE, WHITE GUM, GOD GRID, ZEN CHAMP\\n\\nLEAST FAV TRACK: PEANUT CHOKER\\n\\nIGLOOGHOST - NEO WAX BLOOM / 2017 / BRAINFEEDER / WONKY, UK BASS, GLITCH HOP, DRILL AND BASS\\n\\n8/10 http://www.theneedledrop.com/loved-list/2017/1/loved-list-2017\\n\\nY'all know this is just my opinion, right?\""
      ]
     },
     "execution_count": 88,
     "metadata": {},
     "output_type": "execute_result"
    }
   ],
   "source": [
    "df.iloc[1].description"
   ]
  },
  {
   "cell_type": "code",
   "execution_count": 60,
   "metadata": {
    "collapsed": false
   },
   "outputs": [
    {
     "data": {
      "text/html": [
       "<div>\n",
       "<table border=\"1\" class=\"dataframe\">\n",
       "  <thead>\n",
       "    <tr style=\"text-align: right;\">\n",
       "      <th></th>\n",
       "      <th>id</th>\n",
       "      <th>title</th>\n",
       "      <th>artist</th>\n",
       "      <th>album</th>\n",
       "      <th>rating</th>\n",
       "      <th>description</th>\n",
       "    </tr>\n",
       "  </thead>\n",
       "  <tbody>\n",
       "    <tr>\n",
       "      <th>88</th>\n",
       "      <td>jp0Z2IDfvOo</td>\n",
       "      <td>Toro y Moi - Boo Boo ALBUM REVIEW</td>\n",
       "      <td>Toro y Moi</td>\n",
       "      <td>Boo Boo</td>\n",
       "      <td>NaN</td>\n",
       "      <td>Listen: https://www.youtube.com/watch?v=huA5-V...</td>\n",
       "    </tr>\n",
       "    <tr>\n",
       "      <th>99</th>\n",
       "      <td>320eVDw8UGM</td>\n",
       "      <td>Calvin Harris - Funk Wav Bounces Vol. 1 ALBUM ...</td>\n",
       "      <td>Calvin Harris</td>\n",
       "      <td>Funk Wav Bounces Vol. 1</td>\n",
       "      <td>NaN</td>\n",
       "      <td>Listen: https://www.youtube.com/watch?v=ozv4q2...</td>\n",
       "    </tr>\n",
       "    <tr>\n",
       "      <th>104</th>\n",
       "      <td>pejfwSOez5w</td>\n",
       "      <td>Portugal. The Man - Woodstock ALBUM REVIEW</td>\n",
       "      <td>Portugal. The Man</td>\n",
       "      <td>Woodstock</td>\n",
       "      <td>NaN</td>\n",
       "      <td>Listen: https://www.youtube.com/watch?v=1Dvvoh...</td>\n",
       "    </tr>\n",
       "    <tr>\n",
       "      <th>105</th>\n",
       "      <td>Kum_z3Mvh8k</td>\n",
       "      <td>DJ Khaled - Grateful ALBUM REVIEW</td>\n",
       "      <td>DJ Khaled</td>\n",
       "      <td>Grateful</td>\n",
       "      <td>NaN</td>\n",
       "      <td>Listen: https://www.youtube.com/watch?v=weeI1G...</td>\n",
       "    </tr>\n",
       "    <tr>\n",
       "      <th>110</th>\n",
       "      <td>H7Jh2STd06A</td>\n",
       "      <td>2 Chainz - Pretty Girls Like Trap Music ALBUM ...</td>\n",
       "      <td>2 Chainz</td>\n",
       "      <td>Pretty Girls Like Trap Music</td>\n",
       "      <td>NaN</td>\n",
       "      <td>Listen: https://www.youtube.com/watch?v=TyylUe...</td>\n",
       "    </tr>\n",
       "  </tbody>\n",
       "</table>\n",
       "</div>"
      ],
      "text/plain": [
       "              id                                              title  \\\n",
       "88   jp0Z2IDfvOo                  Toro y Moi - Boo Boo ALBUM REVIEW   \n",
       "99   320eVDw8UGM  Calvin Harris - Funk Wav Bounces Vol. 1 ALBUM ...   \n",
       "104  pejfwSOez5w         Portugal. The Man - Woodstock ALBUM REVIEW   \n",
       "105  Kum_z3Mvh8k                  DJ Khaled - Grateful ALBUM REVIEW   \n",
       "110  H7Jh2STd06A  2 Chainz - Pretty Girls Like Trap Music ALBUM ...   \n",
       "\n",
       "                artist                          album  rating  \\\n",
       "88          Toro y Moi                       Boo Boo      NaN   \n",
       "99       Calvin Harris       Funk Wav Bounces Vol. 1      NaN   \n",
       "104  Portugal. The Man                     Woodstock      NaN   \n",
       "105          DJ Khaled                      Grateful      NaN   \n",
       "110           2 Chainz  Pretty Girls Like Trap Music      NaN   \n",
       "\n",
       "                                           description  \n",
       "88   Listen: https://www.youtube.com/watch?v=huA5-V...  \n",
       "99   Listen: https://www.youtube.com/watch?v=ozv4q2...  \n",
       "104  Listen: https://www.youtube.com/watch?v=1Dvvoh...  \n",
       "105  Listen: https://www.youtube.com/watch?v=weeI1G...  \n",
       "110  Listen: https://www.youtube.com/watch?v=TyylUe...  "
      ]
     },
     "execution_count": 60,
     "metadata": {},
     "output_type": "execute_result"
    }
   ],
   "source": [
    "#missing ratings\n",
    "#these are a mixture of track reviews, classic reviews, xx/10, etc.\n",
    "missingratings = df[df.rating.isnull()&df['title'].str.contains('ALBUM REVIEW', case=False, na=False)][['id','title','artist','album','rating','description']]\n",
    "missingratings.head()\n",
    "len(missingratings)\n",
    "len(missingratings)/len(df)"
   ]
  },
  {
   "cell_type": "code",
   "execution_count": 63,
   "metadata": {
    "collapsed": true
   },
   "outputs": [],
   "source": [
    "#one-off fixes\n",
    "##fix planningtorock dup\n",
    "df = df[df.id!='l7ovkjrJFMI']\n",
    "##fix plastic beach rating\n",
    "df.rating[df.id=='A9RLE74OXUY'] = 7"
   ]
  },
  {
   "cell_type": "code",
   "execution_count": 64,
   "metadata": {
    "collapsed": true
   },
   "outputs": [],
   "source": [
    "#investigate missing ones manually\n",
    "temp = df[df.rating.isnull()&df['title'].str.contains('ALBUM REVIEW', case=False, na=False)][['id','title','artist','album','rating','description']]\n",
    "temp.to_csv(\"~/Desktop/temp.csv\")"
   ]
  },
  {
   "cell_type": "code",
   "execution_count": 65,
   "metadata": {
    "collapsed": true
   },
   "outputs": [],
   "source": [
    "df['published_at'] = pd.to_datetime(df['published_at'])"
   ]
  },
  {
   "cell_type": "code",
   "execution_count": 66,
   "metadata": {
    "collapsed": false
   },
   "outputs": [],
   "source": [
    "#dates\n",
    "df['year'] = df.published_at.dt.year\n",
    "df['month'] = df.published_at.dt.month\n",
    "df['dow'] = df.published_at.dt.dayofweek\n",
    "df['week'] = df.published_at.dt.week"
   ]
  },
  {
   "cell_type": "code",
   "execution_count": 67,
   "metadata": {
    "collapsed": false
   },
   "outputs": [
    {
     "data": {
      "text/plain": [
       "2642    5\n",
       "2643    5\n",
       "2644    5\n",
       "2645    5\n",
       "2646    6\n",
       "Name: month, dtype: int64"
      ]
     },
     "execution_count": 67,
     "metadata": {},
     "output_type": "execute_result"
    }
   ],
   "source": [
    "df.month.tail()"
   ]
  },
  {
   "cell_type": "code",
   "execution_count": 68,
   "metadata": {
    "collapsed": false
   },
   "outputs": [],
   "source": [
    "df[['year', 'month', 'dow','week']] = df[['year', 'month', 'dow','week']].apply(lambda x: x.astype('category'))"
   ]
  },
  {
   "cell_type": "code",
   "execution_count": 69,
   "metadata": {
    "collapsed": true
   },
   "outputs": [],
   "source": [
    "df[['electronic', 'hip_hop', 'metal','folk',\n",
    "   'indie','underground','experimental',\n",
    "   'instrumental','rock','rap','jazz']] = df[['electronic', 'hip_hop', 'metal','folk',\n",
    "   'indie','underground','experimental',\n",
    "   'instrumental','rock','rap','jazz']].apply(lambda x: x.astype('category'))"
   ]
  },
  {
   "cell_type": "code",
   "execution_count": 76,
   "metadata": {
    "collapsed": false
   },
   "outputs": [
    {
     "name": "stderr",
     "output_type": "stream",
     "text": [
      "/usr/local/lib/python3.5/site-packages/ipykernel/__main__.py:2: SettingWithCopyWarning: \n",
      "A value is trying to be set on a copy of a slice from a DataFrame\n",
      "\n",
      "See the caveats in the documentation: http://pandas.pydata.org/pandas-docs/stable/indexing.html#indexing-view-versus-copy\n",
      "  from ipykernel import kernelapp as app\n"
     ]
    }
   ],
   "source": [
    "df['rating_bucket'] = df['rating'].astype('str')\n",
    "df['rating_bucket'][df.rating.isin([1,2,3])] = \"1-3\""
   ]
  },
  {
   "cell_type": "markdown",
   "metadata": {},
   "source": [
    "# EDA"
   ]
  },
  {
   "cell_type": "code",
   "execution_count": 95,
   "metadata": {
    "collapsed": false
   },
   "outputs": [
    {
     "data": {
      "text/plain": [
       "Index(['altitude', 'comments', 'definition', 'description', 'dislikes',\n",
       "       'duration', 'favorites', 'id', 'latitude', 'likes', 'live_broadcast',\n",
       "       'longitude', 'published_at', 'tags', 'thumbnail', 'title', 'views',\n",
       "       'rating', 'album', 'artist', 'genre', 'electronic', 'hip_hop', 'metal',\n",
       "       'folk', 'indie', 'underground', 'experimental', 'instrumental', 'rock',\n",
       "       'rap', 'jazz'],\n",
       "      dtype='object')"
      ]
     },
     "execution_count": 95,
     "metadata": {},
     "output_type": "execute_result"
    }
   ],
   "source": [
    "df.columns"
   ]
  },
  {
   "cell_type": "code",
   "execution_count": 100,
   "metadata": {
    "collapsed": false
   },
   "outputs": [
    {
     "data": {
      "text/plain": [
       "0.3296204620462046"
      ]
     },
     "execution_count": 100,
     "metadata": {},
     "output_type": "execute_result"
    }
   ],
   "source": [
    "df.rating.isnull().sum()/len(df.rating)"
   ]
  },
  {
   "cell_type": "code",
   "execution_count": 81,
   "metadata": {
    "collapsed": false
   },
   "outputs": [],
   "source": [
    "#take only vids with ratings\n",
    "df1 = df\n",
    "#df1 = df[df.rating.notnull()]"
   ]
  },
  {
   "cell_type": "code",
   "execution_count": 82,
   "metadata": {
    "collapsed": false
   },
   "outputs": [
    {
     "data": {
      "text/html": [
       "<div>\n",
       "<table border=\"1\" class=\"dataframe\">\n",
       "  <thead>\n",
       "    <tr style=\"text-align: right;\">\n",
       "      <th></th>\n",
       "      <th>altitude</th>\n",
       "      <th>comments</th>\n",
       "      <th>definition</th>\n",
       "      <th>description</th>\n",
       "      <th>dislikes</th>\n",
       "      <th>duration</th>\n",
       "      <th>favorites</th>\n",
       "      <th>id</th>\n",
       "      <th>latitude</th>\n",
       "      <th>likes</th>\n",
       "      <th>...</th>\n",
       "      <th>experimental</th>\n",
       "      <th>instrumental</th>\n",
       "      <th>rock</th>\n",
       "      <th>rap</th>\n",
       "      <th>jazz</th>\n",
       "      <th>year</th>\n",
       "      <th>month</th>\n",
       "      <th>dow</th>\n",
       "      <th>week</th>\n",
       "      <th>rating_bucket</th>\n",
       "    </tr>\n",
       "  </thead>\n",
       "  <tbody>\n",
       "    <tr>\n",
       "      <th>0</th>\n",
       "      <td>0.0</td>\n",
       "      <td>4973</td>\n",
       "      <td>sd</td>\n",
       "      <td>I defend myself against a recent hitjob in The...</td>\n",
       "      <td>614.0</td>\n",
       "      <td>PT21M30S</td>\n",
       "      <td>0</td>\n",
       "      <td>2UZqIIy7pAk</td>\n",
       "      <td>41.603222</td>\n",
       "      <td>35361.0</td>\n",
       "      <td>...</td>\n",
       "      <td>0</td>\n",
       "      <td>0</td>\n",
       "      <td>0</td>\n",
       "      <td>0</td>\n",
       "      <td>0</td>\n",
       "      <td>2017</td>\n",
       "      <td>10</td>\n",
       "      <td>5</td>\n",
       "      <td>40</td>\n",
       "      <td>None</td>\n",
       "    </tr>\n",
       "    <tr>\n",
       "      <th>1</th>\n",
       "      <td>0.0</td>\n",
       "      <td>976</td>\n",
       "      <td>hd</td>\n",
       "      <td>Listen: https://www.youtube.com/watch?v=6m5du_...</td>\n",
       "      <td>59.0</td>\n",
       "      <td>PT6M8S</td>\n",
       "      <td>0</td>\n",
       "      <td>datrlt_DGLs</td>\n",
       "      <td>41.603222</td>\n",
       "      <td>2261.0</td>\n",
       "      <td>...</td>\n",
       "      <td>0</td>\n",
       "      <td>0</td>\n",
       "      <td>0</td>\n",
       "      <td>0</td>\n",
       "      <td>0</td>\n",
       "      <td>2017</td>\n",
       "      <td>10</td>\n",
       "      <td>3</td>\n",
       "      <td>40</td>\n",
       "      <td>8</td>\n",
       "    </tr>\n",
       "    <tr>\n",
       "      <th>2</th>\n",
       "      <td>0.0</td>\n",
       "      <td>920</td>\n",
       "      <td>hd</td>\n",
       "      <td>Young Thug &amp; Carnage - Young Martha EP\\nReview...</td>\n",
       "      <td>125.0</td>\n",
       "      <td>PT7M13S</td>\n",
       "      <td>0</td>\n",
       "      <td>uOJW7JwgA6Q</td>\n",
       "      <td>41.603222</td>\n",
       "      <td>2347.0</td>\n",
       "      <td>...</td>\n",
       "      <td>0</td>\n",
       "      <td>0</td>\n",
       "      <td>1</td>\n",
       "      <td>1</td>\n",
       "      <td>0</td>\n",
       "      <td>2017</td>\n",
       "      <td>10</td>\n",
       "      <td>2</td>\n",
       "      <td>40</td>\n",
       "      <td>None</td>\n",
       "    </tr>\n",
       "    <tr>\n",
       "      <th>3</th>\n",
       "      <td>0.0</td>\n",
       "      <td>1344</td>\n",
       "      <td>hd</td>\n",
       "      <td>Listen: https://www.youtube.com/watch?v=OL9b_U...</td>\n",
       "      <td>265.0</td>\n",
       "      <td>PT8M11S</td>\n",
       "      <td>0</td>\n",
       "      <td>Uxmi5AcAFgg</td>\n",
       "      <td>41.603222</td>\n",
       "      <td>4119.0</td>\n",
       "      <td>...</td>\n",
       "      <td>0</td>\n",
       "      <td>0</td>\n",
       "      <td>0</td>\n",
       "      <td>1</td>\n",
       "      <td>0</td>\n",
       "      <td>2017</td>\n",
       "      <td>10</td>\n",
       "      <td>1</td>\n",
       "      <td>40</td>\n",
       "      <td>6</td>\n",
       "    </tr>\n",
       "    <tr>\n",
       "      <th>4</th>\n",
       "      <td>0.0</td>\n",
       "      <td>853</td>\n",
       "      <td>hd</td>\n",
       "      <td>Listen: http://www.theneedledrop.com/articles/...</td>\n",
       "      <td>74.0</td>\n",
       "      <td>PT6M27S</td>\n",
       "      <td>0</td>\n",
       "      <td>lI6-C7dwz9k</td>\n",
       "      <td>41.603222</td>\n",
       "      <td>2069.0</td>\n",
       "      <td>...</td>\n",
       "      <td>0</td>\n",
       "      <td>0</td>\n",
       "      <td>0</td>\n",
       "      <td>1</td>\n",
       "      <td>0</td>\n",
       "      <td>2017</td>\n",
       "      <td>10</td>\n",
       "      <td>1</td>\n",
       "      <td>40</td>\n",
       "      <td>7</td>\n",
       "    </tr>\n",
       "  </tbody>\n",
       "</table>\n",
       "<p>5 rows × 36 columns</p>\n",
       "</div>"
      ],
      "text/plain": [
       "   altitude  comments definition  \\\n",
       "0       0.0      4973         sd   \n",
       "1       0.0       976         hd   \n",
       "2       0.0       920         hd   \n",
       "3       0.0      1344         hd   \n",
       "4       0.0       853         hd   \n",
       "\n",
       "                                         description  dislikes  duration  \\\n",
       "0  I defend myself against a recent hitjob in The...     614.0  PT21M30S   \n",
       "1  Listen: https://www.youtube.com/watch?v=6m5du_...      59.0    PT6M8S   \n",
       "2  Young Thug & Carnage - Young Martha EP\\nReview...     125.0   PT7M13S   \n",
       "3  Listen: https://www.youtube.com/watch?v=OL9b_U...     265.0   PT8M11S   \n",
       "4  Listen: http://www.theneedledrop.com/articles/...      74.0   PT6M27S   \n",
       "\n",
       "   favorites           id   latitude    likes      ...      experimental  \\\n",
       "0          0  2UZqIIy7pAk  41.603222  35361.0      ...                 0   \n",
       "1          0  datrlt_DGLs  41.603222   2261.0      ...                 0   \n",
       "2          0  uOJW7JwgA6Q  41.603222   2347.0      ...                 0   \n",
       "3          0  Uxmi5AcAFgg  41.603222   4119.0      ...                 0   \n",
       "4          0  lI6-C7dwz9k  41.603222   2069.0      ...                 0   \n",
       "\n",
       "   instrumental rock rap jazz  year  month dow week rating_bucket  \n",
       "0             0    0   0    0  2017     10   5   40          None  \n",
       "1             0    0   0    0  2017     10   3   40             8  \n",
       "2             0    1   1    0  2017     10   2   40          None  \n",
       "3             0    0   1    0  2017     10   1   40             6  \n",
       "4             0    0   1    0  2017     10   1   40             7  \n",
       "\n",
       "[5 rows x 36 columns]"
      ]
     },
     "execution_count": 82,
     "metadata": {},
     "output_type": "execute_result"
    }
   ],
   "source": [
    "df1.head()"
   ]
  },
  {
   "cell_type": "code",
   "execution_count": 83,
   "metadata": {
    "collapsed": false
   },
   "outputs": [],
   "source": [
    "df1['published_at'] = pd.to_datetime(df1['published_at'])"
   ]
  },
  {
   "cell_type": "code",
   "execution_count": 84,
   "metadata": {
    "collapsed": true
   },
   "outputs": [],
   "source": [
    "ts = df1.set_index('published_at')"
   ]
  },
  {
   "cell_type": "code",
   "execution_count": 85,
   "metadata": {
    "collapsed": false
   },
   "outputs": [
    {
     "data": {
      "text/html": [
       "<div>\n",
       "<table border=\"1\" class=\"dataframe\">\n",
       "  <thead>\n",
       "    <tr style=\"text-align: right;\">\n",
       "      <th></th>\n",
       "      <th>altitude</th>\n",
       "      <th>comments</th>\n",
       "      <th>definition</th>\n",
       "      <th>description</th>\n",
       "      <th>dislikes</th>\n",
       "      <th>duration</th>\n",
       "      <th>favorites</th>\n",
       "      <th>id</th>\n",
       "      <th>latitude</th>\n",
       "      <th>likes</th>\n",
       "      <th>...</th>\n",
       "      <th>experimental</th>\n",
       "      <th>instrumental</th>\n",
       "      <th>rock</th>\n",
       "      <th>rap</th>\n",
       "      <th>jazz</th>\n",
       "      <th>year</th>\n",
       "      <th>month</th>\n",
       "      <th>dow</th>\n",
       "      <th>week</th>\n",
       "      <th>rating_bucket</th>\n",
       "    </tr>\n",
       "    <tr>\n",
       "      <th>published_at</th>\n",
       "      <th></th>\n",
       "      <th></th>\n",
       "      <th></th>\n",
       "      <th></th>\n",
       "      <th></th>\n",
       "      <th></th>\n",
       "      <th></th>\n",
       "      <th></th>\n",
       "      <th></th>\n",
       "      <th></th>\n",
       "      <th></th>\n",
       "      <th></th>\n",
       "      <th></th>\n",
       "      <th></th>\n",
       "      <th></th>\n",
       "      <th></th>\n",
       "      <th></th>\n",
       "      <th></th>\n",
       "      <th></th>\n",
       "      <th></th>\n",
       "      <th></th>\n",
       "    </tr>\n",
       "  </thead>\n",
       "  <tbody>\n",
       "    <tr>\n",
       "      <th>2017-10-07 00:22:24</th>\n",
       "      <td>0.0</td>\n",
       "      <td>4973</td>\n",
       "      <td>sd</td>\n",
       "      <td>I defend myself against a recent hitjob in The...</td>\n",
       "      <td>614.0</td>\n",
       "      <td>PT21M30S</td>\n",
       "      <td>0</td>\n",
       "      <td>2UZqIIy7pAk</td>\n",
       "      <td>41.603222</td>\n",
       "      <td>35361.0</td>\n",
       "      <td>...</td>\n",
       "      <td>0</td>\n",
       "      <td>0</td>\n",
       "      <td>0</td>\n",
       "      <td>0</td>\n",
       "      <td>0</td>\n",
       "      <td>2017</td>\n",
       "      <td>10</td>\n",
       "      <td>5</td>\n",
       "      <td>40</td>\n",
       "      <td>None</td>\n",
       "    </tr>\n",
       "    <tr>\n",
       "      <th>2017-10-05 21:42:35</th>\n",
       "      <td>0.0</td>\n",
       "      <td>976</td>\n",
       "      <td>hd</td>\n",
       "      <td>Listen: https://www.youtube.com/watch?v=6m5du_...</td>\n",
       "      <td>59.0</td>\n",
       "      <td>PT6M8S</td>\n",
       "      <td>0</td>\n",
       "      <td>datrlt_DGLs</td>\n",
       "      <td>41.603222</td>\n",
       "      <td>2261.0</td>\n",
       "      <td>...</td>\n",
       "      <td>0</td>\n",
       "      <td>0</td>\n",
       "      <td>0</td>\n",
       "      <td>0</td>\n",
       "      <td>0</td>\n",
       "      <td>2017</td>\n",
       "      <td>10</td>\n",
       "      <td>3</td>\n",
       "      <td>40</td>\n",
       "      <td>8</td>\n",
       "    </tr>\n",
       "    <tr>\n",
       "      <th>2017-10-04 17:18:48</th>\n",
       "      <td>0.0</td>\n",
       "      <td>920</td>\n",
       "      <td>hd</td>\n",
       "      <td>Young Thug &amp; Carnage - Young Martha EP\\nReview...</td>\n",
       "      <td>125.0</td>\n",
       "      <td>PT7M13S</td>\n",
       "      <td>0</td>\n",
       "      <td>uOJW7JwgA6Q</td>\n",
       "      <td>41.603222</td>\n",
       "      <td>2347.0</td>\n",
       "      <td>...</td>\n",
       "      <td>0</td>\n",
       "      <td>0</td>\n",
       "      <td>1</td>\n",
       "      <td>1</td>\n",
       "      <td>0</td>\n",
       "      <td>2017</td>\n",
       "      <td>10</td>\n",
       "      <td>2</td>\n",
       "      <td>40</td>\n",
       "      <td>None</td>\n",
       "    </tr>\n",
       "    <tr>\n",
       "      <th>2017-10-03 21:15:24</th>\n",
       "      <td>0.0</td>\n",
       "      <td>1344</td>\n",
       "      <td>hd</td>\n",
       "      <td>Listen: https://www.youtube.com/watch?v=OL9b_U...</td>\n",
       "      <td>265.0</td>\n",
       "      <td>PT8M11S</td>\n",
       "      <td>0</td>\n",
       "      <td>Uxmi5AcAFgg</td>\n",
       "      <td>41.603222</td>\n",
       "      <td>4119.0</td>\n",
       "      <td>...</td>\n",
       "      <td>0</td>\n",
       "      <td>0</td>\n",
       "      <td>0</td>\n",
       "      <td>1</td>\n",
       "      <td>0</td>\n",
       "      <td>2017</td>\n",
       "      <td>10</td>\n",
       "      <td>1</td>\n",
       "      <td>40</td>\n",
       "      <td>6</td>\n",
       "    </tr>\n",
       "    <tr>\n",
       "      <th>2017-10-03 16:26:21</th>\n",
       "      <td>0.0</td>\n",
       "      <td>853</td>\n",
       "      <td>hd</td>\n",
       "      <td>Listen: http://www.theneedledrop.com/articles/...</td>\n",
       "      <td>74.0</td>\n",
       "      <td>PT6M27S</td>\n",
       "      <td>0</td>\n",
       "      <td>lI6-C7dwz9k</td>\n",
       "      <td>41.603222</td>\n",
       "      <td>2069.0</td>\n",
       "      <td>...</td>\n",
       "      <td>0</td>\n",
       "      <td>0</td>\n",
       "      <td>0</td>\n",
       "      <td>1</td>\n",
       "      <td>0</td>\n",
       "      <td>2017</td>\n",
       "      <td>10</td>\n",
       "      <td>1</td>\n",
       "      <td>40</td>\n",
       "      <td>7</td>\n",
       "    </tr>\n",
       "  </tbody>\n",
       "</table>\n",
       "<p>5 rows × 35 columns</p>\n",
       "</div>"
      ],
      "text/plain": [
       "                     altitude  comments definition  \\\n",
       "published_at                                         \n",
       "2017-10-07 00:22:24       0.0      4973         sd   \n",
       "2017-10-05 21:42:35       0.0       976         hd   \n",
       "2017-10-04 17:18:48       0.0       920         hd   \n",
       "2017-10-03 21:15:24       0.0      1344         hd   \n",
       "2017-10-03 16:26:21       0.0       853         hd   \n",
       "\n",
       "                                                           description  \\\n",
       "published_at                                                             \n",
       "2017-10-07 00:22:24  I defend myself against a recent hitjob in The...   \n",
       "2017-10-05 21:42:35  Listen: https://www.youtube.com/watch?v=6m5du_...   \n",
       "2017-10-04 17:18:48  Young Thug & Carnage - Young Martha EP\\nReview...   \n",
       "2017-10-03 21:15:24  Listen: https://www.youtube.com/watch?v=OL9b_U...   \n",
       "2017-10-03 16:26:21  Listen: http://www.theneedledrop.com/articles/...   \n",
       "\n",
       "                     dislikes  duration  favorites           id   latitude  \\\n",
       "published_at                                                                 \n",
       "2017-10-07 00:22:24     614.0  PT21M30S          0  2UZqIIy7pAk  41.603222   \n",
       "2017-10-05 21:42:35      59.0    PT6M8S          0  datrlt_DGLs  41.603222   \n",
       "2017-10-04 17:18:48     125.0   PT7M13S          0  uOJW7JwgA6Q  41.603222   \n",
       "2017-10-03 21:15:24     265.0   PT8M11S          0  Uxmi5AcAFgg  41.603222   \n",
       "2017-10-03 16:26:21      74.0   PT6M27S          0  lI6-C7dwz9k  41.603222   \n",
       "\n",
       "                       likes      ...      experimental  instrumental rock  \\\n",
       "published_at                      ...                                        \n",
       "2017-10-07 00:22:24  35361.0      ...                 0             0    0   \n",
       "2017-10-05 21:42:35   2261.0      ...                 0             0    0   \n",
       "2017-10-04 17:18:48   2347.0      ...                 0             0    1   \n",
       "2017-10-03 21:15:24   4119.0      ...                 0             0    0   \n",
       "2017-10-03 16:26:21   2069.0      ...                 0             0    0   \n",
       "\n",
       "                    rap jazz  year month dow week rating_bucket  \n",
       "published_at                                                     \n",
       "2017-10-07 00:22:24   0    0  2017    10   5   40          None  \n",
       "2017-10-05 21:42:35   0    0  2017    10   3   40             8  \n",
       "2017-10-04 17:18:48   1    0  2017    10   2   40          None  \n",
       "2017-10-03 21:15:24   1    0  2017    10   1   40             6  \n",
       "2017-10-03 16:26:21   1    0  2017    10   1   40             7  \n",
       "\n",
       "[5 rows x 35 columns]"
      ]
     },
     "execution_count": 85,
     "metadata": {},
     "output_type": "execute_result"
    }
   ],
   "source": [
    "ts.head()"
   ]
  },
  {
   "cell_type": "code",
   "execution_count": 86,
   "metadata": {
    "collapsed": false
   },
   "outputs": [
    {
     "data": {
      "text/plain": [
       "2009      393429.0\n",
       "2010     7384216.0\n",
       "2011    19660725.0\n",
       "2012    23667691.0\n",
       "2013    25913043.0\n",
       "2014    29049346.0\n",
       "2015    45935446.0\n",
       "2016    58939020.0\n",
       "2017    63445150.0\n",
       "2018    21015705.0\n",
       "Name: views, dtype: float64"
      ]
     },
     "execution_count": 86,
     "metadata": {},
     "output_type": "execute_result"
    }
   ],
   "source": [
    "ts.groupby(ts.index.year).sum()['views']"
   ]
  },
  {
   "cell_type": "code",
   "execution_count": 140,
   "metadata": {
    "collapsed": false
   },
   "outputs": [
    {
     "data": {
      "text/plain": [
       "<matplotlib.axes._subplots.AxesSubplot at 0x11071c160>"
      ]
     },
     "execution_count": 140,
     "metadata": {},
     "output_type": "execute_result"
    },
    {
     "data": {
      "image/png": "[encoded data removed]",
      "text/plain": [
       "<matplotlib.figure.Figure at 0x1106112e8>"
      ]
     },
     "metadata": {},
     "output_type": "display_data"
    }
   ],
   "source": [
    "ts.sort_index()['views']['2011':'2017'].cumsum().plot(title='Views Over Time')"
   ]
  },
  {
   "cell_type": "code",
   "execution_count": 88,
   "metadata": {
    "collapsed": false
   },
   "outputs": [
    {
     "data": {
      "text/plain": [
       "<matplotlib.axes._subplots.AxesSubplot at 0x1122aef98>"
      ]
     },
     "execution_count": 88,
     "metadata": {},
     "output_type": "execute_result"
    },
    {
     "data": {
      "image/png": "[encoded data removed]",
      "text/plain": [
       "<matplotlib.figure.Figure at 0x112222470>"
      ]
     },
     "metadata": {},
     "output_type": "display_data"
    }
   ],
   "source": [
    "ts.sort_index()['likes']['2011':'2017'].cumsum().plot(title='Likes Over Time')"
   ]
  },
  {
   "cell_type": "code",
   "execution_count": 101,
   "metadata": {
    "collapsed": false
   },
   "outputs": [],
   "source": [
    "temp = df1[df1.published_at.dt.year==2017]"
   ]
  },
  {
   "cell_type": "code",
   "execution_count": 99,
   "metadata": {
    "collapsed": true
   },
   "outputs": [],
   "source": [
    "temp = temp[['published_at','rating']]"
   ]
  },
  {
   "cell_type": "code",
   "execution_count": 100,
   "metadata": {
    "collapsed": false
   },
   "outputs": [
    {
     "data": {
      "text/plain": [
       "<matplotlib.axes._subplots.AxesSubplot at 0x112c5d5c0>"
      ]
     },
     "execution_count": 100,
     "metadata": {},
     "output_type": "execute_result"
    },
    {
     "data": {
      "image/png": "[encoded data removed]",
      "text/plain": [
       "<matplotlib.figure.Figure at 0x112fc1e10>"
      ]
     },
     "metadata": {},
     "output_type": "display_data"
    }
   ],
   "source": [
    "temp.rating.value_counts(sort=False).plot.bar()"
   ]
  },
  {
   "cell_type": "code",
   "execution_count": 102,
   "metadata": {
    "collapsed": false
   },
   "outputs": [
    {
     "data": {
      "text/plain": [
       "<matplotlib.axes._subplots.AxesSubplot at 0x112b6b780>"
      ]
     },
     "execution_count": 102,
     "metadata": {},
     "output_type": "execute_result"
    },
    {
     "data": {
      "image/png": "[encoded data removed]",
      "text/plain": [
       "<matplotlib.figure.Figure at 0x112ff5550>"
      ]
     },
     "metadata": {},
     "output_type": "display_data"
    }
   ],
   "source": [
    "df1[df1.published_at.dt.year==2017][['published_at','rating']].rating.value_counts(sort=False).plot.bar()"
   ]
  },
  {
   "cell_type": "code",
   "execution_count": 103,
   "metadata": {
    "collapsed": false
   },
   "outputs": [
    {
     "data": {
      "text/plain": [
       "<matplotlib.axes._subplots.AxesSubplot at 0x1130cc2b0>"
      ]
     },
     "execution_count": 103,
     "metadata": {},
     "output_type": "execute_result"
    },
    {
     "data": {
      "image/png": "[encoded data removed]",
      "text/plain": [
       "<matplotlib.figure.Figure at 0x1130d1320>"
      ]
     },
     "metadata": {},
     "output_type": "display_data"
    }
   ],
   "source": [
    "df1[df1.published_at.dt.year==2016][['published_at','rating']].rating.value_counts(sort=False).plot.bar()"
   ]
  },
  {
   "cell_type": "code",
   "execution_count": 109,
   "metadata": {
    "collapsed": false
   },
   "outputs": [
    {
     "data": {
      "text/plain": [
       "<matplotlib.axes._subplots.AxesSubplot at 0x113983cf8>"
      ]
     },
     "execution_count": 109,
     "metadata": {},
     "output_type": "execute_result"
    },
    {
     "data": {
      "image/png": "[encoded data removed]",
      "text/plain": [
       "<matplotlib.figure.Figure at 0x1132f4940>"
      ]
     },
     "metadata": {},
     "output_type": "display_data"
    }
   ],
   "source": [
    "#see if the distribution this year so far vs last year\n",
    "df1[(df1['published_at'] > '2017-01-01') & (df1['published_at'] < '2017-05-31')][['published_at','rating']].rating.value_counts(sort=False).plot.bar()"
   ]
  },
  {
   "cell_type": "code",
   "execution_count": 110,
   "metadata": {
    "collapsed": false
   },
   "outputs": [
    {
     "data": {
      "text/plain": [
       "<matplotlib.axes._subplots.AxesSubplot at 0x113f5ada0>"
      ]
     },
     "execution_count": 110,
     "metadata": {},
     "output_type": "execute_result"
    },
    {
     "data": {
      "image/png": "[encoded data removed]",
      "text/plain": [
       "<matplotlib.figure.Figure at 0x113f70940>"
      ]
     },
     "metadata": {},
     "output_type": "display_data"
    }
   ],
   "source": [
    "#see if the distribution this year so far vs last year\n",
    "df1[(df1['published_at'] > '2018-01-01') & (df1['published_at'] < '2018-05-31')][['published_at','rating']].rating.value_counts(sort=False).plot.bar()"
   ]
  },
  {
   "cell_type": "code",
   "execution_count": 116,
   "metadata": {
    "collapsed": false,
    "scrolled": true
   },
   "outputs": [
    {
     "data": {
      "text/plain": [
       "0    NaN\n",
       "1    8.0\n",
       "2    NaN\n",
       "3    6.0\n",
       "4    7.0\n",
       "Name: rating, dtype: float64"
      ]
     },
     "execution_count": 116,
     "metadata": {},
     "output_type": "execute_result"
    }
   ],
   "source": [
    "pd.to_numeric(df1.rating).head()"
   ]
  },
  {
   "cell_type": "code",
   "execution_count": 122,
   "metadata": {
    "collapsed": false
   },
   "outputs": [
    {
     "data": {
      "text/plain": [
       "0.010439105219552935"
      ]
     },
     "execution_count": 122,
     "metadata": {},
     "output_type": "execute_result"
    }
   ],
   "source": [
    "#difference in average rating b/w years\n",
    "pd.to_numeric(df1[(df1['published_at'] > '2018-01-01') & (df1['published_at'] < '2018-06-01')][['published_at','rating']].rating).mean()-pd.to_numeric(df1[(df1['published_at'] > '2017-01-01') & (df1['published_at'] < '2017-06-01')][['published_at','rating']].rating).mean()"
   ]
  },
  {
   "cell_type": "code",
   "execution_count": 126,
   "metadata": {
    "collapsed": false,
    "scrolled": false
   },
   "outputs": [],
   "source": [
    "df1['year'] = df1.published_at.dt.year\n",
    "df1['rating'] = pd.to_numeric(df1['rating'])"
   ]
  },
  {
   "cell_type": "code",
   "execution_count": 127,
   "metadata": {
    "collapsed": false
   },
   "outputs": [
    {
     "data": {
      "text/plain": [
       "<matplotlib.axes._subplots.AxesSubplot at 0x113f7e550>"
      ]
     },
     "execution_count": 127,
     "metadata": {},
     "output_type": "execute_result"
    },
    {
     "data": {
      "image/png": "[encoded data removed]",
      "text/plain": [
       "<matplotlib.figure.Figure at 0x111f1b550>"
      ]
     },
     "metadata": {},
     "output_type": "display_data"
    }
   ],
   "source": [
    "df1.groupby(df1.year)['rating'].mean().plot.bar()"
   ]
  },
  {
   "cell_type": "code",
   "execution_count": 128,
   "metadata": {
    "collapsed": false
   },
   "outputs": [
    {
     "data": {
      "text/plain": [
       "year\n",
       "2009         NaN\n",
       "2010    2.598747\n",
       "2011    2.555300\n",
       "2012    2.570961\n",
       "2013    2.271735\n",
       "2014    2.433708\n",
       "2015    2.485127\n",
       "2016    2.561794\n",
       "2017    2.258759\n",
       "2018    2.580164\n",
       "Name: rating, dtype: float64"
      ]
     },
     "execution_count": 128,
     "metadata": {},
     "output_type": "execute_result"
    }
   ],
   "source": [
    "df1.groupby(df1.year)['rating'].var()"
   ]
  },
  {
   "cell_type": "code",
   "execution_count": 129,
   "metadata": {
    "collapsed": false
   },
   "outputs": [
    {
     "data": {
      "text/plain": [
       "year\n",
       "2010    3\n",
       "2012    1\n",
       "2014    1\n",
       "2015    1\n",
       "2016    1\n",
       "2017    1\n",
       "Name: year, dtype: int64"
      ]
     },
     "execution_count": 129,
     "metadata": {},
     "output_type": "execute_result"
    }
   ],
   "source": [
    "df1[df1.rating==10].groupby(df1.year)['year'].count()"
   ]
  },
  {
   "cell_type": "code",
   "execution_count": 136,
   "metadata": {
    "collapsed": false
   },
   "outputs": [
    {
     "data": {
      "text/plain": [
       "1835    Death Grips- The Money Store ALBUM REVIEW\n",
       "Name: title, dtype: object"
      ]
     },
     "execution_count": 136,
     "metadata": {},
     "output_type": "execute_result"
    }
   ],
   "source": [
    "df1[df1.id=='mK54P7VeM1g'].title"
   ]
  },
  {
   "cell_type": "code",
   "execution_count": 130,
   "metadata": {
    "collapsed": false,
    "scrolled": true
   },
   "outputs": [
    {
     "data": {
      "text/html": [
       "<div>\n",
       "<table border=\"1\" class=\"dataframe\">\n",
       "  <thead>\n",
       "    <tr style=\"text-align: right;\">\n",
       "      <th></th>\n",
       "      <th>year</th>\n",
       "      <th>title</th>\n",
       "      <th>artist</th>\n",
       "      <th>album</th>\n",
       "    </tr>\n",
       "  </thead>\n",
       "  <tbody>\n",
       "    <tr>\n",
       "      <th>895</th>\n",
       "      <td>2015</td>\n",
       "      <td>Kendrick Lamar - To Pimp A Butterfly ALBUM REVIEW</td>\n",
       "      <td>Kendrick Lamar</td>\n",
       "      <td>To Pimp A Butterfly</td>\n",
       "    </tr>\n",
       "    <tr>\n",
       "      <th>1144</th>\n",
       "      <td>2014</td>\n",
       "      <td>Swans - To Be Kind ALBUM REVIEW</td>\n",
       "      <td>Swans</td>\n",
       "      <td>To Be Kind</td>\n",
       "    </tr>\n",
       "  </tbody>\n",
       "</table>\n",
       "</div>"
      ],
      "text/plain": [
       "      year                                              title          artist  \\\n",
       "895   2015  Kendrick Lamar - To Pimp A Butterfly ALBUM REVIEW  Kendrick Lamar   \n",
       "1144  2014                    Swans - To Be Kind ALBUM REVIEW           Swans   \n",
       "\n",
       "                     album  \n",
       "895   To Pimp A Butterfly   \n",
       "1144           To Be Kind   "
      ]
     },
     "execution_count": 130,
     "metadata": {},
     "output_type": "execute_result"
    }
   ],
   "source": [
    "df1[(df1.rating==10)&(df1.album.notnull())][['year','title','artist','album']]"
   ]
  },
  {
   "cell_type": "code",
   "execution_count": 59,
   "metadata": {
    "collapsed": false
   },
   "outputs": [
    {
     "data": {
      "text/plain": [
       "<matplotlib.axes._subplots.AxesSubplot at 0x1165db278>"
      ]
     },
     "execution_count": 59,
     "metadata": {},
     "output_type": "execute_result"
    },
    {
     "data": {
      "image/png": "[encoded data removed]",
      "text/plain": [
       "<matplotlib.figure.Figure at 0x116355550>"
      ]
     },
     "metadata": {},
     "output_type": "display_data"
    }
   ],
   "source": [
    "data.rating.plot(kind='hist')"
   ]
  },
  {
   "cell_type": "markdown",
   "metadata": {},
   "source": [
    "# Model Building"
   ]
  },
  {
   "cell_type": "code",
   "execution_count": 19,
   "metadata": {
    "collapsed": true
   },
   "outputs": [],
   "source": [
    "data = df[df.rating.notnull()&df.album.notnull()&df.artist.notnull()]"
   ]
  },
  {
   "cell_type": "code",
   "execution_count": 28,
   "metadata": {
    "collapsed": true
   },
   "outputs": [],
   "source": [
    "regModel = linear_model.LinearRegression()"
   ]
  },
  {
   "cell_type": "code",
   "execution_count": 69,
   "metadata": {
    "collapsed": false,
    "scrolled": true
   },
   "outputs": [
    {
     "data": {
      "text/plain": [
       "comments       int64\n",
       "likes        float64\n",
       "dislikes     float64\n",
       "favorites      int64\n",
       "rating       float64\n",
       "dtype: object"
      ]
     },
     "execution_count": 69,
     "metadata": {},
     "output_type": "execute_result"
    }
   ],
   "source": [
    "data[['comments','likes','dislikes','favorites','rating']].dtypes"
   ]
  },
  {
   "cell_type": "code",
   "execution_count": 29,
   "metadata": {
    "collapsed": false,
    "scrolled": true
   },
   "outputs": [
    {
     "name": "stderr",
     "output_type": "stream",
     "text": [
      "/usr/local/lib/python3.5/site-packages/scipy/linalg/basic.py:1018: RuntimeWarning: internal gelsd driver lwork query error, required iwork dimension not returned. This is likely the result of LAPACK bug 0038, fixed in LAPACK 3.2.2 (released July 21, 2010). Falling back to 'gelss' driver.\n",
      "  warnings.warn(mesg, RuntimeWarning)\n"
     ]
    },
    {
     "data": {
      "text/plain": [
       "LinearRegression(copy_X=True, fit_intercept=True, n_jobs=1, normalize=False)"
      ]
     },
     "execution_count": 29,
     "metadata": {},
     "output_type": "execute_result"
    }
   ],
   "source": [
    "regModel.fit(data[['comments','likes','dislikes','favorites','views',\n",
    "                   'electronic','hip_hop','metal','folk','indie','underground',\n",
    "                   'experimental','instrumental','rock','rap','jazz',\n",
    "                   'month','year','month','dow','week']], data[['rating']])"
   ]
  },
  {
   "cell_type": "code",
   "execution_count": 73,
   "metadata": {
    "collapsed": false
   },
   "outputs": [
    {
     "data": {
      "text/plain": [
       "array([ 6.42172187])"
      ]
     },
     "execution_count": 73,
     "metadata": {},
     "output_type": "execute_result"
    }
   ],
   "source": [
    "regModel.intercept_"
   ]
  },
  {
   "cell_type": "code",
   "execution_count": 30,
   "metadata": {
    "collapsed": false
   },
   "outputs": [
    {
     "data": {
      "text/plain": [
       "array([[ -5.95622958e-04,   1.57705807e-04,  -4.42450974e-04,\n",
       "         -1.24471611e-16,   2.37698261e-06,  -8.10137008e-02,\n",
       "         -1.73622612e-01,   4.35801965e-01,   2.78567336e-01,\n",
       "          1.91601202e-01,  -1.47298034e+00,   6.27319000e-01,\n",
       "         -8.50546344e-02,   9.24102731e-03,   5.93588812e-02,\n",
       "          1.75779985e-01,   7.09477190e-02,  -5.66831236e-03,\n",
       "          7.09477190e-02,  -1.07911503e-02,  -3.37036258e-02]])"
      ]
     },
     "execution_count": 30,
     "metadata": {},
     "output_type": "execute_result"
    }
   ],
   "source": [
    "regModel.coef_"
   ]
  },
  {
   "cell_type": "code",
   "execution_count": 31,
   "metadata": {
    "collapsed": false
   },
   "outputs": [
    {
     "data": {
      "text/plain": [
       "0.19424983292911047"
      ]
     },
     "execution_count": 31,
     "metadata": {},
     "output_type": "execute_result"
    }
   ],
   "source": [
    "regModel.score(data[['comments','likes','dislikes','favorites','views',\n",
    "                   'electronic','hip_hop','metal','folk','indie','underground',\n",
    "                   'experimental','instrumental','rock','rap','jazz',\n",
    "                   'month','year','month','dow','week']], data[['rating']])"
   ]
  },
  {
   "cell_type": "code",
   "execution_count": 76,
   "metadata": {
    "collapsed": true
   },
   "outputs": [
    {
     "name": "stderr",
     "output_type": "stream",
     "text": [
      "/usr/local/lib/python3.5/site-packages/ipykernel/__main__.py:1: SettingWithCopyWarning: \n",
      "A value is trying to be set on a copy of a slice from a DataFrame.\n",
      "Try using .loc[row_indexer,col_indexer] = value instead\n",
      "\n",
      "See the caveats in the documentation: http://pandas.pydata.org/pandas-docs/stable/indexing.html#indexing-view-versus-copy\n",
      "  if __name__ == '__main__':\n"
     ]
    }
   ],
   "source": [
    "data['pred'] = regModel.predict(data[['comments','likes','dislikes','favorites']])"
   ]
  },
  {
   "cell_type": "code",
   "execution_count": 77,
   "metadata": {
    "collapsed": false
   },
   "outputs": [
    {
     "data": {
      "text/html": [
       "<div>\n",
       "<table border=\"1\" class=\"dataframe\">\n",
       "  <thead>\n",
       "    <tr style=\"text-align: right;\">\n",
       "      <th></th>\n",
       "      <th>rating</th>\n",
       "      <th>pred</th>\n",
       "    </tr>\n",
       "  </thead>\n",
       "  <tbody>\n",
       "    <tr>\n",
       "      <th>1</th>\n",
       "      <td>8.0</td>\n",
       "      <td>6.472785</td>\n",
       "    </tr>\n",
       "    <tr>\n",
       "      <th>3</th>\n",
       "      <td>6.0</td>\n",
       "      <td>6.608160</td>\n",
       "    </tr>\n",
       "    <tr>\n",
       "      <th>4</th>\n",
       "      <td>7.0</td>\n",
       "      <td>6.474337</td>\n",
       "    </tr>\n",
       "    <tr>\n",
       "      <th>7</th>\n",
       "      <td>6.0</td>\n",
       "      <td>6.534127</td>\n",
       "    </tr>\n",
       "    <tr>\n",
       "      <th>8</th>\n",
       "      <td>8.0</td>\n",
       "      <td>6.691115</td>\n",
       "    </tr>\n",
       "  </tbody>\n",
       "</table>\n",
       "</div>"
      ],
      "text/plain": [
       "   rating      pred\n",
       "1     8.0  6.472785\n",
       "3     6.0  6.608160\n",
       "4     7.0  6.474337\n",
       "7     6.0  6.534127\n",
       "8     8.0  6.691115"
      ]
     },
     "execution_count": 77,
     "metadata": {},
     "output_type": "execute_result"
    }
   ],
   "source": [
    "data[['rating','pred']].head()"
   ]
  },
  {
   "cell_type": "code",
   "execution_count": 78,
   "metadata": {
    "collapsed": false
   },
   "outputs": [
    {
     "data": {
      "text/plain": [
       "count    981.000000\n",
       "mean       6.313965\n",
       "std        1.541037\n",
       "min        1.000000\n",
       "25%        5.000000\n",
       "50%        6.000000\n",
       "75%        7.000000\n",
       "max       10.000000\n",
       "Name: rating, dtype: float64"
      ]
     },
     "execution_count": 78,
     "metadata": {},
     "output_type": "execute_result"
    }
   ],
   "source": [
    "data.rating.describe()"
   ]
  },
  {
   "cell_type": "code",
   "execution_count": 79,
   "metadata": {
    "collapsed": false
   },
   "outputs": [
    {
     "data": {
      "text/plain": [
       "7.0     249\n",
       "6.0     225\n",
       "8.0     209\n",
       "5.0     147\n",
       "4.0      65\n",
       "3.0      37\n",
       "9.0      29\n",
       "2.0      15\n",
       "10.0      3\n",
       "1.0       2\n",
       "Name: rating, dtype: int64"
      ]
     },
     "execution_count": 79,
     "metadata": {},
     "output_type": "execute_result"
    }
   ],
   "source": [
    "data.rating.value_counts()"
   ]
  },
  {
   "cell_type": "code",
   "execution_count": 36,
   "metadata": {
    "collapsed": false
   },
   "outputs": [
    {
     "name": "stderr",
     "output_type": "stream",
     "text": [
      "/usr/local/lib/python3.5/site-packages/ipykernel/__main__.py:1: SettingWithCopyWarning: \n",
      "A value is trying to be set on a copy of a slice from a DataFrame.\n",
      "Try using .loc[row_indexer,col_indexer] = value instead\n",
      "\n",
      "See the caveats in the documentation: http://pandas.pydata.org/pandas-docs/stable/indexing.html#indexing-view-versus-copy\n",
      "  if __name__ == '__main__':\n"
     ]
    }
   ],
   "source": [
    "data['rating_bucket'] = data['rating'].astype('str')"
   ]
  },
  {
   "cell_type": "code",
   "execution_count": 37,
   "metadata": {
    "collapsed": false
   },
   "outputs": [
    {
     "name": "stderr",
     "output_type": "stream",
     "text": [
      "/usr/local/lib/python3.5/site-packages/ipykernel/__main__.py:1: SettingWithCopyWarning: \n",
      "A value is trying to be set on a copy of a slice from a DataFrame\n",
      "\n",
      "See the caveats in the documentation: http://pandas.pydata.org/pandas-docs/stable/indexing.html#indexing-view-versus-copy\n",
      "  if __name__ == '__main__':\n",
      "/usr/local/lib/python3.5/site-packages/pandas/core/generic.py:4485: SettingWithCopyWarning: \n",
      "A value is trying to be set on a copy of a slice from a DataFrame\n",
      "\n",
      "See the caveats in the documentation: http://pandas.pydata.org/pandas-docs/stable/indexing.html#indexing-view-versus-copy\n",
      "  self._update_inplace(new_data)\n",
      "/usr/local/lib/python3.5/site-packages/IPython/core/interactiveshell.py:2881: SettingWithCopyWarning: \n",
      "A value is trying to be set on a copy of a slice from a DataFrame\n",
      "\n",
      "See the caveats in the documentation: http://pandas.pydata.org/pandas-docs/stable/indexing.html#indexing-view-versus-copy\n",
      "  exec(code_obj, self.user_global_ns, self.user_ns)\n"
     ]
    }
   ],
   "source": [
    "data['rating_bucket'][data.rating.isin([1,2,3])] = \"1-3\""
   ]
  },
  {
   "cell_type": "code",
   "execution_count": 99,
   "metadata": {
    "collapsed": false,
    "scrolled": true
   },
   "outputs": [
    {
     "data": {
      "text/plain": [
       "7.0     249\n",
       "6.0     225\n",
       "8.0     209\n",
       "5.0     147\n",
       "4.0      65\n",
       "1-3      54\n",
       "9.0      29\n",
       "10.0      3\n",
       "Name: rating_bucket, dtype: int64"
      ]
     },
     "execution_count": 99,
     "metadata": {},
     "output_type": "execute_result"
    }
   ],
   "source": [
    "data.rating_bucket.value_counts()"
   ]
  },
  {
   "cell_type": "code",
   "execution_count": 44,
   "metadata": {
    "collapsed": false
   },
   "outputs": [
    {
     "name": "stderr",
     "output_type": "stream",
     "text": [
      "/usr/local/lib/python3.5/site-packages/pandas/core/generic.py:2701: SettingWithCopyWarning: \n",
      "A value is trying to be set on a copy of a slice from a DataFrame.\n",
      "Try using .loc[row_indexer,col_indexer] = value instead\n",
      "\n",
      "See the caveats in the documentation: http://pandas.pydata.org/pandas-docs/stable/indexing.html#indexing-view-versus-copy\n",
      "  self[name] = value\n"
     ]
    }
   ],
   "source": [
    "data.rating_bucket = data.rating_bucket.astype('category')"
   ]
  },
  {
   "cell_type": "code",
   "execution_count": 45,
   "metadata": {
    "collapsed": false
   },
   "outputs": [],
   "source": [
    "data['rating_bucket'].cat.reorder_categories(['1-3','4.0','5.0','6.0','7.0','8.0','9.0','10.0'], inplace=True)"
   ]
  },
  {
   "cell_type": "code",
   "execution_count": 48,
   "metadata": {
    "collapsed": true
   },
   "outputs": [],
   "source": [
    "multReg = linear_model.LogisticRegression(multi_class='multinomial', solver='newton-cg')"
   ]
  },
  {
   "cell_type": "code",
   "execution_count": 49,
   "metadata": {
    "collapsed": false
   },
   "outputs": [
    {
     "name": "stderr",
     "output_type": "stream",
     "text": [
      "/usr/local/lib/python3.5/site-packages/sklearn/utils/validation.py:526: DataConversionWarning: A column-vector y was passed when a 1d array was expected. Please change the shape of y to (n_samples, ), for example using ravel().\n",
      "  y = column_or_1d(y, warn=True)\n",
      "/usr/local/lib/python3.5/site-packages/sklearn/utils/optimize.py:203: ConvergenceWarning: newton-cg failed to converge. Increase the number of iterations.\n",
      "  \"number of iterations.\", ConvergenceWarning)\n"
     ]
    },
    {
     "data": {
      "text/plain": [
       "LogisticRegression(C=1.0, class_weight=None, dual=False, fit_intercept=True,\n",
       "          intercept_scaling=1, max_iter=100, multi_class='multinomial',\n",
       "          n_jobs=1, penalty='l2', random_state=None, solver='newton-cg',\n",
       "          tol=0.0001, verbose=0, warm_start=False)"
      ]
     },
     "execution_count": 49,
     "metadata": {},
     "output_type": "execute_result"
    }
   ],
   "source": [
    "multReg.fit(data[['comments','likes','dislikes','favorites','views',\n",
    "                   'electronic','hip_hop','metal','folk','indie','underground',\n",
    "                   'experimental','instrumental','rock','rap','jazz',\n",
    "                   'month','year','month','dow','week']], data[['rating']])"
   ]
  },
  {
   "cell_type": "code",
   "execution_count": 40,
   "metadata": {
    "collapsed": false
   },
   "outputs": [
    {
     "data": {
      "text/plain": [
       "21"
      ]
     },
     "execution_count": 40,
     "metadata": {},
     "output_type": "execute_result"
    }
   ],
   "source": [
    "len(data[['comments','likes','dislikes','favorites','views',\n",
    "                   'electronic','hip_hop','metal','folk','indie','underground',\n",
    "                   'experimental','instrumental','rock','rap','jazz',\n",
    "                   'month','year','month','dow','week']].columns)"
   ]
  },
  {
   "cell_type": "code",
   "execution_count": 50,
   "metadata": {
    "collapsed": true
   },
   "outputs": [
    {
     "data": {
      "text/plain": [
       "array([[  3.33618679e-04,  -4.37437761e-04,   1.11940400e-02,\n",
       "          0.00000000e+00,  -4.14176230e-06,  -2.49811225e-05,\n",
       "          4.20941224e-05,  -1.90674401e-05,  -1.39150746e-05,\n",
       "          1.78756903e-05,   1.80224204e-05,  -3.48306142e-05,\n",
       "         -2.30222617e-06,   2.58053323e-04,  -1.42656920e-04,\n",
       "         -2.92050948e-05,   5.95945870e-04,  -1.75220895e-03,\n",
       "          5.95945870e-04,   2.59025655e-04,   2.61128663e-03],\n",
       "       [  1.12507024e-04,  -4.48514091e-05,   1.20365262e-02,\n",
       "          0.00000000e+00,  -1.73050359e-05,  -1.52378766e-04,\n",
       "          1.92880594e-05,  -2.66861421e-04,  -1.71354398e-04,\n",
       "          2.52568009e-06,   4.83160619e-06,   1.15855964e-04,\n",
       "         -2.89133464e-05,  -3.45659708e-04,   3.18267386e-04,\n",
       "         -1.70991763e-04,   5.52737353e-04,  -2.16410717e-04,\n",
       "          5.52737353e-04,   3.48257437e-04,   4.31987864e-03],\n",
       "       [  7.43510529e-06,  -3.58790572e-04,   1.19798737e-02,\n",
       "          0.00000000e+00,  -9.33316532e-06,   3.94258300e-04,\n",
       "          5.10959614e-04,  -4.67409403e-04,  -1.59486627e-04,\n",
       "          1.44099796e-05,   1.97139307e-05,  -6.05584272e-04,\n",
       "          1.04119810e-04,  -3.65406663e-04,   1.83053049e-04,\n",
       "          6.14181286e-05,  -5.41514725e-04,   2.08840622e-04,\n",
       "         -5.41514725e-04,   8.13809296e-04,   3.84743791e-04],\n",
       "       [  1.22608455e-04,  -4.00492241e-04,   1.17868470e-02,\n",
       "          0.00000000e+00,  -8.55904478e-06,  -8.36898884e-04,\n",
       "          3.60762304e-04,   7.56645549e-05,   1.77701269e-04,\n",
       "          3.68768507e-05,   4.65701662e-05,  -7.61129648e-04,\n",
       "          4.07120541e-05,   3.53071755e-04,   3.78157328e-04,\n",
       "          3.87937190e-05,   4.98321079e-04,   5.00377318e-04,\n",
       "          4.98321079e-04,  -1.94920546e-04,  -8.47837693e-04],\n",
       "       [ -1.09340722e-04,  -5.73315351e-04,   1.17711749e-02,\n",
       "          0.00000000e+00,  -4.64388310e-06,   1.45935158e-04,\n",
       "          5.09588007e-05,  -1.25250458e-03,  -1.76614455e-04,\n",
       "         -7.39366611e-05,  -4.93272576e-05,  -7.33545367e-04,\n",
       "         -1.51832616e-04,  -1.67771729e-03,   3.41548750e-04,\n",
       "         -3.33212555e-04,   6.94569353e-04,   8.82280410e-04,\n",
       "          6.94569353e-04,  -1.48421884e-03,   3.57215858e-03],\n",
       "       [ -3.66893275e-04,  -5.07727238e-04,   1.14380498e-02,\n",
       "          0.00000000e+00,  -3.23638753e-06,   1.19171686e-03,\n",
       "          7.78858867e-04,   2.95994209e-04,  -9.93745424e-04,\n",
       "          7.68029091e-05,   1.18760446e-04,  -4.10399729e-04,\n",
       "         -2.02447979e-04,   5.42266779e-04,   4.94443021e-05,\n",
       "         -1.46999755e-04,   2.65952844e-03,   1.12454564e-03,\n",
       "          2.65952844e-03,   2.45373336e-03,   3.64321527e-03],\n",
       "       [ -4.98809008e-04,   2.23379108e-04,   6.61614694e-03,\n",
       "          0.00000000e+00,  -5.78889319e-06,  -2.99446578e-04,\n",
       "         -1.07677002e-03,  -3.44792871e-05,  -4.58306892e-05,\n",
       "          5.70568945e-05,   1.11403340e-04,   3.85850398e-04,\n",
       "          3.54092822e-04,   4.78047110e-04,   2.06489904e-04,\n",
       "          6.37200370e-04,  -6.15619174e-04,   1.29526720e-03,\n",
       "         -6.15619174e-04,   7.44545792e-04,   7.23767667e-04],\n",
       "       [ -1.25368350e-03,   6.70950354e-04,  -1.44131334e-02,\n",
       "          0.00000000e+00,   1.34973127e-05,  -2.27441811e-04,\n",
       "         -1.20325220e-04,   1.76530040e-03,   8.30241066e-04,\n",
       "         -1.33912681e-04,  -2.75325917e-04,   1.42553952e-03,\n",
       "         -2.55844585e-04,   2.63693050e-04,  -8.29731415e-04,\n",
       "         -1.93158365e-04,  -1.04452058e-03,   1.00031160e-03,\n",
       "         -1.04452058e-03,  -1.05719051e-03,  -2.72734162e-03],\n",
       "       [  7.03583527e-04,   7.97860886e-04,  -3.02145246e-02,\n",
       "          0.00000000e+00,   1.66840537e-05,  -1.78019213e-04,\n",
       "         -5.20087655e-04,  -8.83855640e-05,   5.59022456e-04,\n",
       "          3.42939512e-06,   6.42368622e-06,   4.55761155e-04,\n",
       "          1.43144686e-04,   3.72635431e-04,  -4.60890768e-04,\n",
       "          1.48552198e-04,  -2.43049165e-03,  -4.07837287e-04,\n",
       "         -2.43049165e-03,  -1.79313324e-03,  -1.02133985e-02],\n",
       "       [  9.48973715e-04,   6.30424225e-04,  -3.21950005e-02,\n",
       "          0.00000000e+00,   2.28268055e-05,  -1.27439440e-05,\n",
       "         -4.57388725e-05,  -8.25146025e-06,  -6.01812232e-06,\n",
       "         -1.12805712e-06,  -1.07242167e-06,   1.62482593e-04,\n",
       "         -7.28619365e-07,   1.21016217e-04,  -4.36816163e-05,\n",
       "         -1.23968829e-05,  -3.68955966e-04,  -2.63516582e-03,\n",
       "         -3.68955966e-04,  -8.99083982e-05,  -1.46647276e-03]])"
      ]
     },
     "execution_count": 50,
     "metadata": {},
     "output_type": "execute_result"
    }
   ],
   "source": [
    "multReg.coef_"
   ]
  },
  {
   "cell_type": "code",
   "execution_count": 51,
   "metadata": {
    "collapsed": false
   },
   "outputs": [
    {
     "name": "stderr",
     "output_type": "stream",
     "text": [
      "/usr/local/lib/python3.5/site-packages/ipykernel/__main__.py:4: SettingWithCopyWarning: \n",
      "A value is trying to be set on a copy of a slice from a DataFrame.\n",
      "Try using .loc[row_indexer,col_indexer] = value instead\n",
      "\n",
      "See the caveats in the documentation: http://pandas.pydata.org/pandas-docs/stable/indexing.html#indexing-view-versus-copy\n"
     ]
    }
   ],
   "source": [
    "data['pred'] = multReg.predict(data[['comments','likes','dislikes','favorites','views',\n",
    "                   'electronic','hip_hop','metal','folk','indie','underground',\n",
    "                   'experimental','instrumental','rock','rap','jazz',\n",
    "                   'month','year','month','dow','week']])"
   ]
  },
  {
   "cell_type": "code",
   "execution_count": 56,
   "metadata": {
    "collapsed": false
   },
   "outputs": [
    {
     "data": {
      "text/html": [
       "<div>\n",
       "<table border=\"1\" class=\"dataframe\">\n",
       "  <thead>\n",
       "    <tr style=\"text-align: right;\">\n",
       "      <th></th>\n",
       "      <th>rating_bucket</th>\n",
       "      <th>pred</th>\n",
       "    </tr>\n",
       "  </thead>\n",
       "  <tbody>\n",
       "    <tr>\n",
       "      <th>1</th>\n",
       "      <td>8.0</td>\n",
       "      <td>7.0</td>\n",
       "    </tr>\n",
       "    <tr>\n",
       "      <th>3</th>\n",
       "      <td>6.0</td>\n",
       "      <td>7.0</td>\n",
       "    </tr>\n",
       "    <tr>\n",
       "      <th>4</th>\n",
       "      <td>7.0</td>\n",
       "      <td>7.0</td>\n",
       "    </tr>\n",
       "    <tr>\n",
       "      <th>7</th>\n",
       "      <td>6.0</td>\n",
       "      <td>7.0</td>\n",
       "    </tr>\n",
       "    <tr>\n",
       "      <th>8</th>\n",
       "      <td>8.0</td>\n",
       "      <td>8.0</td>\n",
       "    </tr>\n",
       "    <tr>\n",
       "      <th>9</th>\n",
       "      <td>6.0</td>\n",
       "      <td>7.0</td>\n",
       "    </tr>\n",
       "    <tr>\n",
       "      <th>10</th>\n",
       "      <td>7.0</td>\n",
       "      <td>7.0</td>\n",
       "    </tr>\n",
       "    <tr>\n",
       "      <th>11</th>\n",
       "      <td>1-3</td>\n",
       "      <td>7.0</td>\n",
       "    </tr>\n",
       "    <tr>\n",
       "      <th>12</th>\n",
       "      <td>5.0</td>\n",
       "      <td>6.0</td>\n",
       "    </tr>\n",
       "    <tr>\n",
       "      <th>13</th>\n",
       "      <td>8.0</td>\n",
       "      <td>8.0</td>\n",
       "    </tr>\n",
       "    <tr>\n",
       "      <th>16</th>\n",
       "      <td>6.0</td>\n",
       "      <td>7.0</td>\n",
       "    </tr>\n",
       "    <tr>\n",
       "      <th>17</th>\n",
       "      <td>6.0</td>\n",
       "      <td>7.0</td>\n",
       "    </tr>\n",
       "    <tr>\n",
       "      <th>18</th>\n",
       "      <td>8.0</td>\n",
       "      <td>8.0</td>\n",
       "    </tr>\n",
       "    <tr>\n",
       "      <th>19</th>\n",
       "      <td>7.0</td>\n",
       "      <td>8.0</td>\n",
       "    </tr>\n",
       "    <tr>\n",
       "      <th>20</th>\n",
       "      <td>8.0</td>\n",
       "      <td>8.0</td>\n",
       "    </tr>\n",
       "  </tbody>\n",
       "</table>\n",
       "</div>"
      ],
      "text/plain": [
       "   rating_bucket  pred\n",
       "1            8.0   7.0\n",
       "3            6.0   7.0\n",
       "4            7.0   7.0\n",
       "7            6.0   7.0\n",
       "8            8.0   8.0\n",
       "9            6.0   7.0\n",
       "10           7.0   7.0\n",
       "11           1-3   7.0\n",
       "12           5.0   6.0\n",
       "13           8.0   8.0\n",
       "16           6.0   7.0\n",
       "17           6.0   7.0\n",
       "18           8.0   8.0\n",
       "19           7.0   8.0\n",
       "20           8.0   8.0"
      ]
     },
     "execution_count": 56,
     "metadata": {},
     "output_type": "execute_result"
    }
   ],
   "source": [
    "data[['rating_bucket','pred']].head(15)"
   ]
  },
  {
   "cell_type": "code",
   "execution_count": 60,
   "metadata": {
    "collapsed": false
   },
   "outputs": [
    {
     "data": {
      "text/plain": [
       "'/Users/byronking/needledrop'"
      ]
     },
     "execution_count": 60,
     "metadata": {},
     "output_type": "execute_result"
    }
   ],
   "source": [
    "os.getcwd()"
   ]
  },
  {
   "cell_type": "code",
   "execution_count": 61,
   "metadata": {
    "collapsed": false
   },
   "outputs": [
    {
     "data": {
      "text/plain": [
       "['multreg-weights.sav']"
      ]
     },
     "execution_count": 61,
     "metadata": {},
     "output_type": "execute_result"
    }
   ],
   "source": [
    "#save weights\n",
    "filename = 'multreg-weights.sav'\n",
    "joblib.dump(multReg, filename)"
   ]
  },
  {
   "cell_type": "code",
   "execution_count": null,
   "metadata": {
    "collapsed": true
   },
   "outputs": [],
   "source": []
  },
  {
   "cell_type": "code",
   "execution_count": null,
   "metadata": {
    "collapsed": true
   },
   "outputs": [],
   "source": []
  },
  {
   "cell_type": "code",
   "execution_count": null,
   "metadata": {
    "collapsed": true
   },
   "outputs": [],
   "source": []
  },
  {
   "cell_type": "code",
   "execution_count": 62,
   "metadata": {
    "collapsed": true
   },
   "outputs": [],
   "source": [
    "temp = pd.read_csv('~/needledrop/raw-data.csv')"
   ]
  },
  {
   "cell_type": "code",
   "execution_count": 65,
   "metadata": {
    "collapsed": false
   },
   "outputs": [
    {
     "data": {
      "text/plain": [
       "array(['2UZqIIy7pAk', 'datrlt_DGLs', 'uOJW7JwgA6Q', 'Uxmi5AcAFgg',\n",
       "       'lI6-C7dwz9k'], dtype=object)"
      ]
     },
     "execution_count": 65,
     "metadata": {},
     "output_type": "execute_result"
    }
   ],
   "source": [
    "temp.head().id.unique()"
   ]
  }
 ],
 "metadata": {
  "kernelspec": {
   "display_name": "Python 3",
   "language": "python",
   "name": "python3"
  },
  "language_info": {
   "codemirror_mode": {
    "name": "ipython",
    "version": 3
   },
   "file_extension": ".py",
   "mimetype": "text/x-python",
   "name": "python",
   "nbconvert_exporter": "python",
   "pygments_lexer": "ipython3",
   "version": "3.5.2"
  }
 },
 "nbformat": 4,
 "nbformat_minor": 1
}
